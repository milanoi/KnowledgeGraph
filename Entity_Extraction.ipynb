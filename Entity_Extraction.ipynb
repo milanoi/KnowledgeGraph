{
  "nbformat": 4,
  "nbformat_minor": 0,
  "metadata": {
    "colab": {
      "provenance": []
    },
    "kernelspec": {
      "name": "python3",
      "display_name": "Python 3"
    },
    "language_info": {
      "name": "python"
    }
  },
  "cells": [
    {
      "cell_type": "markdown",
      "source": [
        "#1. Entity Extraction\n",
        "\n",
        "###Entity Extraction Using spaCy\n",
        "\n",
        "In this section, I perform entity extraction on the movie plots data using Python’s spaCy library. Second, We then go further to find relations between entities and noun phrases, again using spaCy. Then finally, we find the most prevalent relations in the movie plots data set with some basic statistics.\n",
        "\n",
        "\n",
        "###Why is Entity Extraction Important for creating Knowledge Graphs?\n",
        "\n",
        "Together with the creation of knowledge graphs, entity extraction is an important part of knowledge mining technologies. Entity extraction provides the building blocks needed for creating knowledge graphs. It helps find specific categories of terms such as geographical locations, person names, and so on. When used together with knowledge graphs, it allows for more specific searching by leveraging entity extraction’s ability to dig through sentence syntactic structure. \n",
        "\n",
        "In this section, we are extracting entities from a sample text document using one of the most popular NLP libraries called spaCy. In addition, we're also visualizing the results, using the library's graphical capabilities\n"
      ],
      "metadata": {
        "id": "Hs7mz_sszfG2"
      }
    },
    {
      "cell_type": "markdown",
      "source": [
        "###spaCy's Capabilities for Entity Extraction \n",
        "\n",
        "In spaCy, documents are processed with data pipelines. After tokenization, spaCy parses and tags the output of the tokenization step. The library's built‑in statistical models are used and enable it to make a prediction on which tag or label most likely applies in each context. The models are trained on large datasets in order to generalize across a language, such as English.\n",
        "\n",
        "The output of spaCy's tagger consists of the following information: \n",
        "* the text, the original word text; \n",
        "* the lemma, the base form of the word; \n",
        "* the part of speech, the simple part of speech tag; \n",
        "* the tag, the detailed part of speech tag; \n",
        "* dep, syntactic dependency, for example, the relations between tokens; \n",
        "* shape the word shape, capitalization, punctuation, digits, and so on, \n",
        "* is_alpha, is the token an alpha character, \n",
        "* is_stop, is the token part of a stop list, for example, the most common words in the language? \n",
        "\n",
        "\n",
        "SpaCy features a fast and accurate syntactic dependency parser, and has a rich API for navigating the tree. The parser also powers the sentence boundary detection and lets you iterate over base noun phrases or chunks. \n",
        "\n",
        "Noun chunks are base noun phrases, flat phrases that have a noun as their head. A head is the head of a sentence tree. You can think of noun chunks as a noun plus the words describing the noun, for example, autonomous cars or insurance liability. To get the noun chunks in a document, simply iterate over doc.noun_chunks. SpaCy uses the terms head and child to describe the words in sentences connected by simple arcs in the dependency tree. \n",
        "\n",
        "The term dep is used for the arc label, which describes the type of syntactic relations that connect the child to the head. Because the syntactic relations form a tree, every word has exactly one head. You can therefore iterate over the arcs in the tree by iterating over the words in the sentence. I will use this library functionality in the upcoming code example.\n"
      ],
      "metadata": {
        "id": "jV6yib-E2kEz"
      }
    },
    {
      "cell_type": "markdown",
      "source": [
        "In this section, we understand how to find relations between entities using spaCy's library capability called dependency parsing. We start off by including the necessary dependencies, the pandas library and a directive for being able to see the plots inside a jupyter notebook and load the dataset in cave format before converting it into a pandas data frame. Next, the spacy Library, and from spacy library, the displacy visualization capability.  \n"
      ],
      "metadata": {
        "id": "izkRKgrw3OEC"
      }
    },
    {
      "cell_type": "code",
      "execution_count": null,
      "metadata": {
        "id": "34fU3aV3mmHo"
      },
      "outputs": [],
      "source": [
        "import pandas as pd\n",
        "%matplotlib inline"
      ]
    },
    {
      "cell_type": "code",
      "source": [
        "#Mounting my personal google drive where the dataset is stored so that I can use it directly in Colab\n",
        "from google.colab import drive\n",
        "\n",
        "drive.mount('/content/gdrive')"
      ],
      "metadata": {
        "colab": {
          "base_uri": "https://localhost:8080/"
        },
        "id": "MwjHuOO9n5fM",
        "outputId": "59d37ca1-0631-4edc-c576-ce64215e0313"
      },
      "execution_count": null,
      "outputs": [
        {
          "output_type": "stream",
          "name": "stdout",
          "text": [
            "Mounted at /content/gdrive\n"
          ]
        }
      ]
    },
    {
      "cell_type": "code",
      "source": [
        "#Load the dataset obtained from Kaggle\n",
        "movie_plots_data = pd.read_csv('/content/gdrive/MyDrive/Shopify Application/wiki_movie_plots_deduped.csv')"
      ],
      "metadata": {
        "id": "ZHnRgFdDoL_w"
      },
      "execution_count": null,
      "outputs": []
    },
    {
      "cell_type": "markdown",
      "source": [
        "##1.1 Topic Modeling\n",
        "The next command loads the best matching version of spacy models downloaded from my specific library installation. Thereafter, filter out most of the data to speed up execution, including only movies that are released on or after 2015 and which are of genre comedy."
      ],
      "metadata": {
        "id": "XVfWdauKzXsn"
      }
    },
    {
      "cell_type": "code",
      "source": [
        "import spacy\n",
        "from spacy import displacy\n",
        "nlp = spacy.load(\"en_core_web_sm\")"
      ],
      "metadata": {
        "colab": {
          "base_uri": "https://localhost:8080/"
        },
        "id": "YaYO7ii-oXyO",
        "outputId": "34dcf8cf-1a06-41bb-f89a-b3b9e9f8ba55"
      },
      "execution_count": null,
      "outputs": [
        {
          "output_type": "stream",
          "name": "stderr",
          "text": [
            "/usr/local/lib/python3.8/dist-packages/torch/cuda/__init__.py:497: UserWarning: Can't initialize NVML\n",
            "  warnings.warn(\"Can't initialize NVML\")\n"
          ]
        }
      ]
    },
    {
      "cell_type": "markdown",
      "source": [
        "### Selecting a subset of the data: Movies released on or after 2015 and of the genre Comedy"
      ],
      "metadata": {
        "id": "vwQCeejkztXI"
      }
    },
    {
      "cell_type": "code",
      "source": [
        "movie_plots_selection = movie_plots_data[(movie_plots_data['Release Year'] > 2015) & movie_plots_data['Genre'].str.contains('comedy')]"
      ],
      "metadata": {
        "id": "v4d2YKJHoabP"
      },
      "execution_count": null,
      "outputs": []
    },
    {
      "cell_type": "code",
      "source": [
        "movie_plots = movie_plots_selection.Plot\n",
        "movie_plots.head()"
      ],
      "metadata": {
        "colab": {
          "base_uri": "https://localhost:8080/"
        },
        "id": "okjk223mojoy",
        "outputId": "4c19cfe1-d223-412a-e2a5-2e5f1bd21dd8"
      },
      "execution_count": null,
      "outputs": [
        {
          "output_type": "execute_result",
          "data": {
            "text/plain": [
              "17030    The film starts in Miami on the boat of crime ...\n",
              "17032    Norm the polar bear is the son of the king of ...\n",
              "17033    Jason Kelly is a lawyer who works for his fath...\n",
              "17038    In the spirit realm, Oogway fights against an ...\n",
              "17041    In 1951, Eddie Mannix (Josh Brolin) is the hea...\n",
              "Name: Plot, dtype: object"
            ]
          },
          "metadata": {},
          "execution_count": 6
        }
      ]
    },
    {
      "cell_type": "markdown",
      "source": [
        "##1.2 Extract Entities\n",
        "\n",
        "Next, I continue by showcasing how to extract named entities using spacy built‑in capabilities. I use the text from the first movie plot and limit its size to up to 1000 characters. I process it using spacy nlp method to extract the entities. There are now two paragraphs containing plenty of person names such as Griffin, Mayfield, James, and Ben, as well as geographical locations such as Miami and Atlanta. \n"
      ],
      "metadata": {
        "id": "-wNvtVEzz_wA"
      }
    },
    {
      "cell_type": "code",
      "source": [
        "txt = movie_plots[movie_plots.index[0]][0:1000]"
      ],
      "metadata": {
        "id": "QZ1FLgeboygf"
      },
      "execution_count": null,
      "outputs": []
    },
    {
      "cell_type": "code",
      "source": [
        "doc = nlp(txt)"
      ],
      "metadata": {
        "id": "5FodfSZao3Kh"
      },
      "execution_count": null,
      "outputs": []
    },
    {
      "cell_type": "code",
      "source": [
        "print('INPUT:', txt)"
      ],
      "metadata": {
        "colab": {
          "base_uri": "https://localhost:8080/"
        },
        "id": "LqXbz8WSo6yJ",
        "outputId": "cdf2ba90-0a89-48bf-e0bb-9e3b4c3e9019"
      },
      "execution_count": null,
      "outputs": [
        {
          "output_type": "stream",
          "name": "stdout",
          "text": [
            "INPUT: The film starts in Miami on the boat of crime lord Antonio Pope. His hacker A.J. is going through a list on the computer. Pope calls Port Commissioner Griffin on the phone and accuses him of stealing money from him. With one of his hitmen in the room, Pope has Griffin killed in his apartment, then orders his hitmen to find whoever left with his money.\r\n",
            "Meanwhile in Atlanta, James is with his partner Detective Mayfield as they go to infiltrate a vehicle meet to find an infamous drug dealer named Troy. Ben, fresh out the academy, is eager to get in on the action, but James has him staying on the radio. James gets close enough to Troy, but Troy pulls a gun on him. Ben sees this over the camera and sneaks out to help. He rides into the meet in a showy car with hydraulics and draws unwanted attention to himself. He threatens Troy by acting tough dancing only to drop his badge in front of the crook. Then within seconds a brief shootout occurs leading to a random plan \"B\" with Mayfield gettin\n"
          ]
        }
      ]
    },
    {
      "cell_type": "markdown",
      "source": [
        "Let's check how the output of the processing looks like. "
      ],
      "metadata": {
        "id": "hr3R1a7M36xp"
      }
    },
    {
      "cell_type": "code",
      "source": [
        "print('OUTPUT:', [(x.text, x.label_) for x in doc.ents])"
      ],
      "metadata": {
        "colab": {
          "base_uri": "https://localhost:8080/"
        },
        "id": "SVoGIndQo_Yp",
        "outputId": "2254d481-fab1-4b3b-d142-2030d5b63fa2"
      },
      "execution_count": null,
      "outputs": [
        {
          "output_type": "stream",
          "name": "stdout",
          "text": [
            "OUTPUT: [('Miami', 'GPE'), ('Antonio Pope', 'PERSON'), ('A.J.', 'GPE'), ('Pope', 'PERSON'), ('Port', 'GPE'), ('Griffin', 'PERSON'), ('one', 'CARDINAL'), ('Pope', 'PERSON'), ('Griffin', 'GPE'), ('Atlanta', 'GPE'), ('James', 'PERSON'), ('Detective Mayfield', 'PERSON'), ('Troy', 'PERSON'), ('Ben', 'PERSON'), ('James', 'PERSON'), ('James', 'PERSON'), ('Troy', 'GPE'), ('Troy', 'PERSON'), ('Ben', 'PERSON'), ('seconds', 'TIME'), ('Mayfield', 'PERSON')]\n"
          ]
        }
      ]
    },
    {
      "cell_type": "markdown",
      "source": [
        "As you can see, it has successfully identified all entities, such as person names or geographical locations. Remarkably, it was able to detect Troy as a person name, not as a geographical location. \n"
      ],
      "metadata": {
        "id": "_Uo5VrWB4Alh"
      }
    },
    {
      "cell_type": "markdown",
      "source": [
        "##1.3 Entities Visualization\n",
        "\n",
        "Now, in a visual format using displacy method: For that, I'm using the render method and pass as arguments the style set to type entities and the jupyter flag set to true in order to avoid entering the interactive mode. We notice immediately there are plenty of person names, two geopolitical entities, one product name, one cardinal entity, and one time entity. It is a brilliant tool for quickly visualizing the output of the library's named entity recognition functionality.\n"
      ],
      "metadata": {
        "id": "awmNOLUM0GEf"
      }
    },
    {
      "cell_type": "code",
      "source": [
        "displacy.render(doc, style='ent', jupyter=True)"
      ],
      "metadata": {
        "colab": {
          "base_uri": "https://localhost:8080/",
          "height": 367
        },
        "id": "eaKTR-llpCyv",
        "outputId": "ec563af7-ac3c-4486-9c6a-333cd6800d66"
      },
      "execution_count": null,
      "outputs": [
        {
          "output_type": "display_data",
          "data": {
            "text/plain": [
              "<IPython.core.display.HTML object>"
            ],
            "text/html": [
              "<span class=\"tex2jax_ignore\"><div class=\"entities\" style=\"line-height: 2.5; direction: ltr\">The film starts in \n",
              "<mark class=\"entity\" style=\"background: #feca74; padding: 0.45em 0.6em; margin: 0 0.25em; line-height: 1; border-radius: 0.35em;\">\n",
              "    Miami\n",
              "    <span style=\"font-size: 0.8em; font-weight: bold; line-height: 1; border-radius: 0.35em; vertical-align: middle; margin-left: 0.5rem\">GPE</span>\n",
              "</mark>\n",
              " on the boat of crime lord \n",
              "<mark class=\"entity\" style=\"background: #aa9cfc; padding: 0.45em 0.6em; margin: 0 0.25em; line-height: 1; border-radius: 0.35em;\">\n",
              "    Antonio Pope\n",
              "    <span style=\"font-size: 0.8em; font-weight: bold; line-height: 1; border-radius: 0.35em; vertical-align: middle; margin-left: 0.5rem\">PERSON</span>\n",
              "</mark>\n",
              ". His hacker \n",
              "<mark class=\"entity\" style=\"background: #feca74; padding: 0.45em 0.6em; margin: 0 0.25em; line-height: 1; border-radius: 0.35em;\">\n",
              "    A.J.\n",
              "    <span style=\"font-size: 0.8em; font-weight: bold; line-height: 1; border-radius: 0.35em; vertical-align: middle; margin-left: 0.5rem\">GPE</span>\n",
              "</mark>\n",
              " is going through a list on the computer. \n",
              "<mark class=\"entity\" style=\"background: #aa9cfc; padding: 0.45em 0.6em; margin: 0 0.25em; line-height: 1; border-radius: 0.35em;\">\n",
              "    Pope\n",
              "    <span style=\"font-size: 0.8em; font-weight: bold; line-height: 1; border-radius: 0.35em; vertical-align: middle; margin-left: 0.5rem\">PERSON</span>\n",
              "</mark>\n",
              " calls \n",
              "<mark class=\"entity\" style=\"background: #feca74; padding: 0.45em 0.6em; margin: 0 0.25em; line-height: 1; border-radius: 0.35em;\">\n",
              "    Port\n",
              "    <span style=\"font-size: 0.8em; font-weight: bold; line-height: 1; border-radius: 0.35em; vertical-align: middle; margin-left: 0.5rem\">GPE</span>\n",
              "</mark>\n",
              " Commissioner \n",
              "<mark class=\"entity\" style=\"background: #aa9cfc; padding: 0.45em 0.6em; margin: 0 0.25em; line-height: 1; border-radius: 0.35em;\">\n",
              "    Griffin\n",
              "    <span style=\"font-size: 0.8em; font-weight: bold; line-height: 1; border-radius: 0.35em; vertical-align: middle; margin-left: 0.5rem\">PERSON</span>\n",
              "</mark>\n",
              " on the phone and accuses him of stealing money from him. With \n",
              "<mark class=\"entity\" style=\"background: #e4e7d2; padding: 0.45em 0.6em; margin: 0 0.25em; line-height: 1; border-radius: 0.35em;\">\n",
              "    one\n",
              "    <span style=\"font-size: 0.8em; font-weight: bold; line-height: 1; border-radius: 0.35em; vertical-align: middle; margin-left: 0.5rem\">CARDINAL</span>\n",
              "</mark>\n",
              " of his hitmen in the room, \n",
              "<mark class=\"entity\" style=\"background: #aa9cfc; padding: 0.45em 0.6em; margin: 0 0.25em; line-height: 1; border-radius: 0.35em;\">\n",
              "    Pope\n",
              "    <span style=\"font-size: 0.8em; font-weight: bold; line-height: 1; border-radius: 0.35em; vertical-align: middle; margin-left: 0.5rem\">PERSON</span>\n",
              "</mark>\n",
              " has \n",
              "<mark class=\"entity\" style=\"background: #feca74; padding: 0.45em 0.6em; margin: 0 0.25em; line-height: 1; border-radius: 0.35em;\">\n",
              "    Griffin\n",
              "    <span style=\"font-size: 0.8em; font-weight: bold; line-height: 1; border-radius: 0.35em; vertical-align: middle; margin-left: 0.5rem\">GPE</span>\n",
              "</mark>\n",
              " killed in his apartment, then orders his hitmen to find whoever left with his money.\r</br>Meanwhile in \n",
              "<mark class=\"entity\" style=\"background: #feca74; padding: 0.45em 0.6em; margin: 0 0.25em; line-height: 1; border-radius: 0.35em;\">\n",
              "    Atlanta\n",
              "    <span style=\"font-size: 0.8em; font-weight: bold; line-height: 1; border-radius: 0.35em; vertical-align: middle; margin-left: 0.5rem\">GPE</span>\n",
              "</mark>\n",
              ", \n",
              "<mark class=\"entity\" style=\"background: #aa9cfc; padding: 0.45em 0.6em; margin: 0 0.25em; line-height: 1; border-radius: 0.35em;\">\n",
              "    James\n",
              "    <span style=\"font-size: 0.8em; font-weight: bold; line-height: 1; border-radius: 0.35em; vertical-align: middle; margin-left: 0.5rem\">PERSON</span>\n",
              "</mark>\n",
              " is with his partner \n",
              "<mark class=\"entity\" style=\"background: #aa9cfc; padding: 0.45em 0.6em; margin: 0 0.25em; line-height: 1; border-radius: 0.35em;\">\n",
              "    Detective Mayfield\n",
              "    <span style=\"font-size: 0.8em; font-weight: bold; line-height: 1; border-radius: 0.35em; vertical-align: middle; margin-left: 0.5rem\">PERSON</span>\n",
              "</mark>\n",
              " as they go to infiltrate a vehicle meet to find an infamous drug dealer named \n",
              "<mark class=\"entity\" style=\"background: #aa9cfc; padding: 0.45em 0.6em; margin: 0 0.25em; line-height: 1; border-radius: 0.35em;\">\n",
              "    Troy\n",
              "    <span style=\"font-size: 0.8em; font-weight: bold; line-height: 1; border-radius: 0.35em; vertical-align: middle; margin-left: 0.5rem\">PERSON</span>\n",
              "</mark>\n",
              ". \n",
              "<mark class=\"entity\" style=\"background: #aa9cfc; padding: 0.45em 0.6em; margin: 0 0.25em; line-height: 1; border-radius: 0.35em;\">\n",
              "    Ben\n",
              "    <span style=\"font-size: 0.8em; font-weight: bold; line-height: 1; border-radius: 0.35em; vertical-align: middle; margin-left: 0.5rem\">PERSON</span>\n",
              "</mark>\n",
              ", fresh out the academy, is eager to get in on the action, but \n",
              "<mark class=\"entity\" style=\"background: #aa9cfc; padding: 0.45em 0.6em; margin: 0 0.25em; line-height: 1; border-radius: 0.35em;\">\n",
              "    James\n",
              "    <span style=\"font-size: 0.8em; font-weight: bold; line-height: 1; border-radius: 0.35em; vertical-align: middle; margin-left: 0.5rem\">PERSON</span>\n",
              "</mark>\n",
              " has him staying on the radio. \n",
              "<mark class=\"entity\" style=\"background: #aa9cfc; padding: 0.45em 0.6em; margin: 0 0.25em; line-height: 1; border-radius: 0.35em;\">\n",
              "    James\n",
              "    <span style=\"font-size: 0.8em; font-weight: bold; line-height: 1; border-radius: 0.35em; vertical-align: middle; margin-left: 0.5rem\">PERSON</span>\n",
              "</mark>\n",
              " gets close enough to \n",
              "<mark class=\"entity\" style=\"background: #feca74; padding: 0.45em 0.6em; margin: 0 0.25em; line-height: 1; border-radius: 0.35em;\">\n",
              "    Troy\n",
              "    <span style=\"font-size: 0.8em; font-weight: bold; line-height: 1; border-radius: 0.35em; vertical-align: middle; margin-left: 0.5rem\">GPE</span>\n",
              "</mark>\n",
              ", but \n",
              "<mark class=\"entity\" style=\"background: #aa9cfc; padding: 0.45em 0.6em; margin: 0 0.25em; line-height: 1; border-radius: 0.35em;\">\n",
              "    Troy\n",
              "    <span style=\"font-size: 0.8em; font-weight: bold; line-height: 1; border-radius: 0.35em; vertical-align: middle; margin-left: 0.5rem\">PERSON</span>\n",
              "</mark>\n",
              " pulls a gun on him. \n",
              "<mark class=\"entity\" style=\"background: #aa9cfc; padding: 0.45em 0.6em; margin: 0 0.25em; line-height: 1; border-radius: 0.35em;\">\n",
              "    Ben\n",
              "    <span style=\"font-size: 0.8em; font-weight: bold; line-height: 1; border-radius: 0.35em; vertical-align: middle; margin-left: 0.5rem\">PERSON</span>\n",
              "</mark>\n",
              " sees this over the camera and sneaks out to help. He rides into the meet in a showy car with hydraulics and draws unwanted attention to himself. He threatens Troy by acting tough dancing only to drop his badge in front of the crook. Then within \n",
              "<mark class=\"entity\" style=\"background: #bfe1d9; padding: 0.45em 0.6em; margin: 0 0.25em; line-height: 1; border-radius: 0.35em;\">\n",
              "    seconds\n",
              "    <span style=\"font-size: 0.8em; font-weight: bold; line-height: 1; border-radius: 0.35em; vertical-align: middle; margin-left: 0.5rem\">TIME</span>\n",
              "</mark>\n",
              " a brief shootout occurs leading to a random plan &quot;B&quot; with \n",
              "<mark class=\"entity\" style=\"background: #aa9cfc; padding: 0.45em 0.6em; margin: 0 0.25em; line-height: 1; border-radius: 0.35em;\">\n",
              "    Mayfield\n",
              "    <span style=\"font-size: 0.8em; font-weight: bold; line-height: 1; border-radius: 0.35em; vertical-align: middle; margin-left: 0.5rem\">PERSON</span>\n",
              "</mark>\n",
              " gettin</div></span>"
            ]
          },
          "metadata": {}
        }
      ]
    },
    {
      "cell_type": "markdown",
      "source": [
        "##1.4 Extract Dependencies\n",
        "Now, some basic statistics for analyzing the most important relations we just found between named entities extracted from the movie plots. \n",
        "\n",
        "I begin the task of extracting dependencies by defining a method called filter_spans that takes as input a list of text spans. The first thing that it does is to filter a sequence of texts so they don't contain overlaps or duplicates. This is useful for creating named entities since one token can only be part of one entity, or when merging spans with the ‘retokenizer.merge’ method. When spans overlap, the first/longest span is preferred over shorter spans. I'm using the libraries built‑in filter spans method for sorting them. \n"
      ],
      "metadata": {
        "id": "UT5vr24w0PJb"
      }
    },
    {
      "cell_type": "code",
      "source": [
        "def filter_spans(spans):\n",
        "    sorted_spans = spacy.util.filter_spans(spans)\n",
        "    result = []\n",
        "    seen_tokens = set()\n",
        "    for span in sorted_spans:\n",
        "        if span.start not in seen_tokens and span.end-1 not in seen_tokens:\n",
        "            result.append(span)\n",
        "        seen_tokens.update(range(span.start, span.end))\n",
        "    result = sorted(result, key=lambda span: span.start)\n",
        "    return result"
      ],
      "metadata": {
        "id": "tUEgpWpJpGej"
      },
      "execution_count": null,
      "outputs": []
    },
    {
      "cell_type": "markdown",
      "source": [
        "Next, I create a method called extract_entity_relations that takes as input the document I'm processing and the list of relations defined as entity types. I merge entities and noun chunks into one list. I go through all paths and mark them for merging. Their attributes will be applied to the resulting token if they have context information, token attributes such as lemma or depth, or to the underlying lexeme, if they have context independent lexical attributes, such as lower or is stop. Next, I'm going through the relation types and filter to include only those of interest, such as person names or geopolitical entities. \n",
        "\n",
        "After this, I search for a subject of the document by searching if the dependency is of type nominal subject. Please beware that spacy uses the terms head and child to describe words connected by a single arc in the dependency tree. Token.lefts and token.rights attributes provide sequences of syntactic children that occur before and after a given token. Both sequences are in sentence order. \n",
        "\n",
        "Finally, I check if syntactic dependency labels are of type object of prepositions and entities head is of type prepositional modifier. If this condition holds, I am appending the found relation to the method return list. Please note that both methods are slight modifications of functions found on spacy's online documentation"
      ],
      "metadata": {
        "id": "IEslY--15Gm5"
      }
    },
    {
      "cell_type": "code",
      "source": [
        "def extract_entity_relations(doc, relation_types):\n",
        "    spans = list(doc.ents) + list(doc.noun_chunks)\n",
        "    spans = filter_spans(spans)\n",
        "    with doc.retokenize() as retokenizer:\n",
        "        for span in spans:\n",
        "            retokenizer.merge(span)\n",
        "    \n",
        "    relations = []\n",
        "    for relation_type in relation_types:\n",
        "        for entity in filter(lambda w: w.ent_type_ == relation_type, doc):\n",
        "            if entity.dep_ in ('attr', 'dobj'):\n",
        "                subject = [w for w in entity.head.lefts if w.dep_ == 'nsubj']\n",
        "                if subject:\n",
        "                    subject = subject[0]\n",
        "                    relations.append((subject, entity))\n",
        "                elif entity.dep_ == 'pobj' and entity.head.dep_ == 'prep':\n",
        "                    relations.append(entity.head.dep_, entity)\n",
        "    return relations"
      ],
      "metadata": {
        "id": "jJ-stTMIpKcE"
      },
      "execution_count": null,
      "outputs": []
    },
    {
      "cell_type": "markdown",
      "source": [
        "In order to test the two methods, let's run them on the sample text we have defined at the beginning of the demo. I'm only interested in person entities and display the found object, the noun phrase, and the entity type"
      ],
      "metadata": {
        "id": "riapHF035tsw"
      }
    },
    {
      "cell_type": "code",
      "source": [
        "relations = extract_entity_relations(doc, ['PERSON'])"
      ],
      "metadata": {
        "id": "nMbjIyGmpR2a"
      },
      "execution_count": null,
      "outputs": []
    },
    {
      "cell_type": "code",
      "source": [
        "if relations:\n",
        "    for r1, r2 in relations:\n",
        "        print(\"{:<10} -> {} ({})\".format(r1.text, r2.text, r2.ent_type_))"
      ],
      "metadata": {
        "id": "OyRbX9x5pVp1"
      },
      "execution_count": null,
      "outputs": []
    },
    {
      "cell_type": "markdown",
      "source": [
        "As you can see, it has found relations between Pope and He as noun phrases and Port Commissioner Griffin and Troy as person entities. Let's now scale up the experiment to the filter dataset I created at the beginning of the demo. \n"
      ],
      "metadata": {
        "id": "3i7YZTpr6KSb"
      }
    },
    {
      "cell_type": "markdown",
      "source": [
        "I start by creating a dictionary where all found relations will be stored into. Next, I'm iterating through all the movie plots and extracting relations using the extract entity relations method and only consider person and geopolitical entities/relations. For each relation, I'm storing the found noun phrases, their entities, and the entity types. Finally, I'm converting the dictionary into a pandas dataframe using from_dict method to continue processing and visualization using pandas library. \n"
      ],
      "metadata": {
        "id": "jrGVH0HP6OG1"
      }
    },
    {
      "cell_type": "code",
      "source": [
        "relations_dict = {\"noun_phrase\": [], \"entity\": [], \"entity_type\": []}"
      ],
      "metadata": {
        "id": "YyOhNGntpZ2R"
      },
      "execution_count": null,
      "outputs": []
    },
    {
      "cell_type": "code",
      "source": [
        "relations_dict = {'noun_phrase': [], 'entity': [], 'entity_type': []}\n",
        "for plot in movie_plots:\n",
        "    doc = nlp(plot)\n",
        "    relations = extract_entity_relations(doc, ['PERSON', 'GPE'])\n",
        "    if relations:\n",
        "        for r1, r2 in relations:\n",
        "            relations_dict['noun_phrase'].append(r1.text)\n",
        "            relations_dict['entity'].append(r2.text)\n",
        "            relations_dict['entity_type'].append(r2.ent_type_)"
      ],
      "metadata": {
        "id": "FNj1HkMRpdjK"
      },
      "execution_count": null,
      "outputs": []
    },
    {
      "cell_type": "code",
      "source": [
        "relations_df = pd.DataFrame.from_dict(relations_dict)"
      ],
      "metadata": {
        "id": "X-46XZ2YpkYF"
      },
      "execution_count": null,
      "outputs": []
    },
    {
      "cell_type": "markdown",
      "source": [
        "Here is how the newly‑created data frame looks like. It contains a column with noun phrases, a column with entities, and a column with entity types. "
      ],
      "metadata": {
        "id": "gAfCsjMn6XdL"
      }
    },
    {
      "cell_type": "code",
      "source": [
        "relations_df.head()"
      ],
      "metadata": {
        "colab": {
          "base_uri": "https://localhost:8080/",
          "height": 204
        },
        "id": "PiIlcISnprC-",
        "outputId": "65c4b396-4dda-4c61-d7dc-cdd6787c892d"
      },
      "execution_count": null,
      "outputs": [
        {
          "output_type": "execute_result",
          "data": {
            "text/plain": [
              "  noun_phrase                     entity entity_type\n",
              "0        Pope  Port Commissioner Griffin      PERSON\n",
              "1       James                       Troy      PERSON\n",
              "2       James                        Ben      PERSON\n",
              "3  Lt. Brooks                      James      PERSON\n",
              "4      Angela                      James      PERSON"
            ],
            "text/html": [
              "\n",
              "  <div id=\"df-9678b974-f651-456e-94ab-93707add9895\">\n",
              "    <div class=\"colab-df-container\">\n",
              "      <div>\n",
              "<style scoped>\n",
              "    .dataframe tbody tr th:only-of-type {\n",
              "        vertical-align: middle;\n",
              "    }\n",
              "\n",
              "    .dataframe tbody tr th {\n",
              "        vertical-align: top;\n",
              "    }\n",
              "\n",
              "    .dataframe thead th {\n",
              "        text-align: right;\n",
              "    }\n",
              "</style>\n",
              "<table border=\"1\" class=\"dataframe\">\n",
              "  <thead>\n",
              "    <tr style=\"text-align: right;\">\n",
              "      <th></th>\n",
              "      <th>noun_phrase</th>\n",
              "      <th>entity</th>\n",
              "      <th>entity_type</th>\n",
              "    </tr>\n",
              "  </thead>\n",
              "  <tbody>\n",
              "    <tr>\n",
              "      <th>0</th>\n",
              "      <td>Pope</td>\n",
              "      <td>Port Commissioner Griffin</td>\n",
              "      <td>PERSON</td>\n",
              "    </tr>\n",
              "    <tr>\n",
              "      <th>1</th>\n",
              "      <td>James</td>\n",
              "      <td>Troy</td>\n",
              "      <td>PERSON</td>\n",
              "    </tr>\n",
              "    <tr>\n",
              "      <th>2</th>\n",
              "      <td>James</td>\n",
              "      <td>Ben</td>\n",
              "      <td>PERSON</td>\n",
              "    </tr>\n",
              "    <tr>\n",
              "      <th>3</th>\n",
              "      <td>Lt. Brooks</td>\n",
              "      <td>James</td>\n",
              "      <td>PERSON</td>\n",
              "    </tr>\n",
              "    <tr>\n",
              "      <th>4</th>\n",
              "      <td>Angela</td>\n",
              "      <td>James</td>\n",
              "      <td>PERSON</td>\n",
              "    </tr>\n",
              "  </tbody>\n",
              "</table>\n",
              "</div>\n",
              "      <button class=\"colab-df-convert\" onclick=\"convertToInteractive('df-9678b974-f651-456e-94ab-93707add9895')\"\n",
              "              title=\"Convert this dataframe to an interactive table.\"\n",
              "              style=\"display:none;\">\n",
              "        \n",
              "  <svg xmlns=\"http://www.w3.org/2000/svg\" height=\"24px\"viewBox=\"0 0 24 24\"\n",
              "       width=\"24px\">\n",
              "    <path d=\"M0 0h24v24H0V0z\" fill=\"none\"/>\n",
              "    <path d=\"M18.56 5.44l.94 2.06.94-2.06 2.06-.94-2.06-.94-.94-2.06-.94 2.06-2.06.94zm-11 1L8.5 8.5l.94-2.06 2.06-.94-2.06-.94L8.5 2.5l-.94 2.06-2.06.94zm10 10l.94 2.06.94-2.06 2.06-.94-2.06-.94-.94-2.06-.94 2.06-2.06.94z\"/><path d=\"M17.41 7.96l-1.37-1.37c-.4-.4-.92-.59-1.43-.59-.52 0-1.04.2-1.43.59L10.3 9.45l-7.72 7.72c-.78.78-.78 2.05 0 2.83L4 21.41c.39.39.9.59 1.41.59.51 0 1.02-.2 1.41-.59l7.78-7.78 2.81-2.81c.8-.78.8-2.07 0-2.86zM5.41 20L4 18.59l7.72-7.72 1.47 1.35L5.41 20z\"/>\n",
              "  </svg>\n",
              "      </button>\n",
              "      \n",
              "  <style>\n",
              "    .colab-df-container {\n",
              "      display:flex;\n",
              "      flex-wrap:wrap;\n",
              "      gap: 12px;\n",
              "    }\n",
              "\n",
              "    .colab-df-convert {\n",
              "      background-color: #E8F0FE;\n",
              "      border: none;\n",
              "      border-radius: 50%;\n",
              "      cursor: pointer;\n",
              "      display: none;\n",
              "      fill: #1967D2;\n",
              "      height: 32px;\n",
              "      padding: 0 0 0 0;\n",
              "      width: 32px;\n",
              "    }\n",
              "\n",
              "    .colab-df-convert:hover {\n",
              "      background-color: #E2EBFA;\n",
              "      box-shadow: 0px 1px 2px rgba(60, 64, 67, 0.3), 0px 1px 3px 1px rgba(60, 64, 67, 0.15);\n",
              "      fill: #174EA6;\n",
              "    }\n",
              "\n",
              "    [theme=dark] .colab-df-convert {\n",
              "      background-color: #3B4455;\n",
              "      fill: #D2E3FC;\n",
              "    }\n",
              "\n",
              "    [theme=dark] .colab-df-convert:hover {\n",
              "      background-color: #434B5C;\n",
              "      box-shadow: 0px 1px 3px 1px rgba(0, 0, 0, 0.15);\n",
              "      filter: drop-shadow(0px 1px 2px rgba(0, 0, 0, 0.3));\n",
              "      fill: #FFFFFF;\n",
              "    }\n",
              "  </style>\n",
              "\n",
              "      <script>\n",
              "        const buttonEl =\n",
              "          document.querySelector('#df-9678b974-f651-456e-94ab-93707add9895 button.colab-df-convert');\n",
              "        buttonEl.style.display =\n",
              "          google.colab.kernel.accessAllowed ? 'block' : 'none';\n",
              "\n",
              "        async function convertToInteractive(key) {\n",
              "          const element = document.querySelector('#df-9678b974-f651-456e-94ab-93707add9895');\n",
              "          const dataTable =\n",
              "            await google.colab.kernel.invokeFunction('convertToInteractive',\n",
              "                                                     [key], {});\n",
              "          if (!dataTable) return;\n",
              "\n",
              "          const docLinkHtml = 'Like what you see? Visit the ' +\n",
              "            '<a target=\"_blank\" href=https://colab.research.google.com/notebooks/data_table.ipynb>data table notebook</a>'\n",
              "            + ' to learn more about interactive tables.';\n",
              "          element.innerHTML = '';\n",
              "          dataTable['output_type'] = 'display_data';\n",
              "          await google.colab.output.renderOutput(dataTable, element);\n",
              "          const docLink = document.createElement('div');\n",
              "          docLink.innerHTML = docLinkHtml;\n",
              "          element.appendChild(docLink);\n",
              "        }\n",
              "      </script>\n",
              "    </div>\n",
              "  </div>\n",
              "  "
            ]
          },
          "metadata": {},
          "execution_count": 19
        }
      ]
    },
    {
      "cell_type": "markdown",
      "source": [
        "##1.5 Most Popular Subjects\n",
        "Let's now find out what are the most popular subjects we just computed using the filtered data set. I'm grouping the data based on noun_phrases column, compute the number of rows for each subject, and plot the top most popular items."
      ],
      "metadata": {
        "id": "PGEAil5M0XKE"
      }
    },
    {
      "cell_type": "code",
      "source": [
        "relations_df.groupby(['noun_phrase']).size().sort_values(ascending=True).tail(10).plot(kind='barh', figsize=(5,5), grid=True)"
      ],
      "metadata": {
        "colab": {
          "base_uri": "https://localhost:8080/",
          "height": 338
        },
        "id": "cM_7pQ2Dp3gF",
        "outputId": "5e367d3d-05ae-4e8b-bf32-0e266dac130e"
      },
      "execution_count": null,
      "outputs": [
        {
          "output_type": "execute_result",
          "data": {
            "text/plain": [
              "<matplotlib.axes._subplots.AxesSubplot at 0x7f230fb1a970>"
            ]
          },
          "metadata": {},
          "execution_count": 20
        },
        {
          "output_type": "display_data",
          "data": {
            "text/plain": [
              "<Figure size 360x360 with 1 Axes>"
            ],
            "image/png": "[encoded data removed]"
          },
          "metadata": {
            "needs_background": "light"
          }
        }
      ]
    },
    {
      "cell_type": "markdown",
      "source": [
        "As you can see: he, who, she, and they are the most frequent items. \n"
      ],
      "metadata": {
        "id": "c3WLIVUj6pbq"
      }
    },
    {
      "cell_type": "markdown",
      "source": [
        "Now, let's see for noun_phrase ‘he’, what are the most frequent relations it has found. "
      ],
      "metadata": {
        "id": "JFQTKIA56zw3"
      }
    },
    {
      "cell_type": "code",
      "source": [
        "relations_df[relations_df['noun_phrase']=='he'].groupby(['entity']).size().sort_values(ascending=True).tail(10).plot(kind='barh', figsize=(5,5), grid=True)"
      ],
      "metadata": {
        "colab": {
          "base_uri": "https://localhost:8080/",
          "height": 338
        },
        "id": "pEv_WwoxqDta",
        "outputId": "825a2c9c-eac4-4907-9d94-15adaef77a73"
      },
      "execution_count": null,
      "outputs": [
        {
          "output_type": "execute_result",
          "data": {
            "text/plain": [
              "<matplotlib.axes._subplots.AxesSubplot at 0x7f23f40d0280>"
            ]
          },
          "metadata": {},
          "execution_count": 21
        },
        {
          "output_type": "display_data",
          "data": {
            "text/plain": [
              "<Figure size 360x360 with 1 Axes>"
            ],
            "image/png": "[encoded data removed]"
          },
          "metadata": {
            "needs_background": "light"
          }
        }
      ]
    },
    {
      "cell_type": "markdown",
      "source": [
        "Debora and Jane are the top relations. \n"
      ],
      "metadata": {
        "id": "rS8DzUUc66kh"
      }
    },
    {
      "cell_type": "markdown",
      "source": [
        "##1.6 Most Popular Subjects\n",
        "We do the opposite experiment and start from the most frequent subject/entities. "
      ],
      "metadata": {
        "id": "kz7-lGng0wEm"
      }
    },
    {
      "cell_type": "code",
      "source": [
        "relations_df.groupby(['entity']).size().sort_values(ascending=True).tail(10).plot(kind='barh', figsize=(5,5), grid=True)"
      ],
      "metadata": {
        "colab": {
          "base_uri": "https://localhost:8080/",
          "height": 338
        },
        "id": "jvzZgdl2qEFs",
        "outputId": "08d4b10e-8e66-44ee-d7de-da3871e79870"
      },
      "execution_count": null,
      "outputs": [
        {
          "output_type": "execute_result",
          "data": {
            "text/plain": [
              "<matplotlib.axes._subplots.AxesSubplot at 0x7f230f540f70>"
            ]
          },
          "metadata": {},
          "execution_count": 22
        },
        {
          "output_type": "display_data",
          "data": {
            "text/plain": [
              "<Figure size 360x360 with 1 Axes>"
            ],
            "image/png": "[encoded data removed]"
          },
          "metadata": {
            "needs_background": "light"
          }
        }
      ]
    },
    {
      "cell_type": "markdown",
      "source": [
        "We notice Doug, James, and Brad as the top frequent ones. \n"
      ],
      "metadata": {
        "id": "cw1N9NQm7TVq"
      }
    },
    {
      "cell_type": "markdown",
      "source": [
        "Let's see what are the most popular relations it has found and who are the ones that are pointing to our Doug person name."
      ],
      "metadata": {
        "id": "V8xoEB7p7fLA"
      }
    },
    {
      "cell_type": "code",
      "source": [
        "relations_df[relations_df.entity=='Doug'].groupby(['noun_phrase']).size().sort_values(ascending=True).tail(10).plot(kind='barh', figsize=(5,5), grid=True)"
      ],
      "metadata": {
        "colab": {
          "base_uri": "https://localhost:8080/",
          "height": 338
        },
        "id": "O7sKLyl_qEYg",
        "outputId": "210f1866-5dda-4f53-ff11-9c4c5cb7683e"
      },
      "execution_count": null,
      "outputs": [
        {
          "output_type": "execute_result",
          "data": {
            "text/plain": [
              "<matplotlib.axes._subplots.AxesSubplot at 0x7f230f5345e0>"
            ]
          },
          "metadata": {},
          "execution_count": 23
        },
        {
          "output_type": "display_data",
          "data": {
            "text/plain": [
              "<Figure size 360x360 with 1 Axes>"
            ],
            "image/png": "[encoded data removed]"
          },
          "metadata": {
            "needs_background": "light"
          }
        }
      ]
    },
    {
      "cell_type": "markdown",
      "source": [
        "These are ‘she’ and ‘Anders’. \n"
      ],
      "metadata": {
        "id": "iSrkHOih7hf0"
      }
    },
    {
      "cell_type": "markdown",
      "source": [
        "\n",
        "The purpose of the last two experiments is to show you that we already see the glimpses of knowledge graphs using named entity extraction. These are the first steps for finding relations/links between entities. We will continue this path and make further use of spaCy NLP library for doing so. \n"
      ],
      "metadata": {
        "id": "8OA6cm7F7mMu"
      }
    }
  ]
}