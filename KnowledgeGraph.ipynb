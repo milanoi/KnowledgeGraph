{
  "nbformat": 4,
  "nbformat_minor": 0,
  "metadata": {
    "colab": {
      "provenance": []
    },
    "kernelspec": {
      "name": "python3",
      "display_name": "Python 3"
    },
    "language_info": {
      "name": "python"
    }
  },
  "cells": [
    {
      "cell_type": "markdown",
      "source": [
        "# 1. Dataset Finding and Encoding\n",
        "In order to implement a goof knowledge graph, the dataset we use needs to fulfill certain requirements. These are:\n",
        "\n",
        "\n",
        "*   Textual representation. The dataset should contain long well written texts covering very diverse subject topics.\n",
        "*   The dataset should be extensive and well maintained. Garbage in, garbage out.\n",
        "\n",
        "*   Freely available for tinkering with to avoid breeching any data privacy rules or regulations since this is a 'demo' implementation.\n",
        "\n",
        "\n",
        "I focused the search on Kaggle and on a movie plots datasets which fulfilled all the requirements and selected the top dataset on Kaggle for this specific search.\n",
        "\n",
        "The Kaggle dataset has the following characteristics:\n",
        "\n",
        "\n",
        "*   It has a large corpus. There are greater than 34,000 items.\n",
        "*   Extracted from Wikipedia. It was built specifically to create content based movie recommenders, movie plot generators and information retrieval tools (such as knowledge graphs)\n",
        "*   The dataset is large with almost 35,000 items.\n",
        "\n",
        "The dataset contains the following information: the release year of the movie, the country of origin of the movie, the director's name, the cast list, the movie genre, the wikipedia URL from where the information was extracted and the movie plot in text format.\n",
        "\n",
        "\n",
        "\n",
        "\n",
        "\n",
        "\n"
      ],
      "metadata": {
        "id": "ft8QPlohq-A_"
      }
    },
    {
      "cell_type": "markdown",
      "source": [
        "# 2. Exploratory Data Anlaysis\n",
        "After selecting an appropriate dataset, I analyze the content of the data through Exploratory Data Analysis. I load the data to do some basic statistics and data visualizations. The goal of this process is to look at the raw data and find what pieces of information are of value and can be put to good use for creating a knowledge graph."
      ],
      "metadata": {
        "id": "G9wJ-YZ0xu2i"
      }
    },
    {
      "cell_type": "code",
      "source": [
        "#importing necessary dependencies\n",
        "\n",
        "import pandas as pd\n",
        " \n",
        "%matplotlib inline\n"
      ],
      "metadata": {
        "id": "3QRZB-TdyWFs"
      },
      "execution_count": 6,
      "outputs": []
    },
    {
      "cell_type": "markdown",
      "source": [
        "##2.1 Load the data"
      ],
      "metadata": {
        "id": "gV0eld6EyuwI"
      }
    },
    {
      "cell_type": "code",
      "source": [
        "#Mounting my personal google drive where the dataset is stored so that I can use it directly in Colab\n",
        "from google.colab import drive\n",
        "\n",
        "drive.mount('/content/gdrive')"
      ],
      "metadata": {
        "id": "wTi-_8-Sy1e_",
        "colab": {
          "base_uri": "https://localhost:8080/"
        },
        "outputId": "01c8b4f6-b530-4e89-de3e-0b1fad82eed6"
      },
      "execution_count": 7,
      "outputs": [
        {
          "output_type": "stream",
          "name": "stdout",
          "text": [
            "Mounted at /content/gdrive\n"
          ]
        }
      ]
    },
    {
      "cell_type": "code",
      "source": [
        "#Load the dataset obtained from Kaggle\n",
        "movie_plots_data = pd.read_csv('/content/gdrive/MyDrive/Shopify Application/wiki_movie_plots_deduped.csv')"
      ],
      "metadata": {
        "id": "8S1YiiOsMRZH"
      },
      "execution_count": 8,
      "outputs": []
    },
    {
      "cell_type": "code",
      "source": [
        "movie_plots_data.shape"
      ],
      "metadata": {
        "colab": {
          "base_uri": "https://localhost:8080/"
        },
        "id": "25P1Wj6sNWqh",
        "outputId": "f22380bc-7fab-4f2c-bc74-f3281691c75d"
      },
      "execution_count": 9,
      "outputs": [
        {
          "output_type": "execute_result",
          "data": {
            "text/plain": [
              "(34886, 8)"
            ]
          },
          "metadata": {},
          "execution_count": 9
        }
      ]
    },
    {
      "cell_type": "markdown",
      "source": [
        "We see that the data has ver 34,000 rows and 8 different columns. This an extensive dataset of publicly available data on movie plots. Lets dive  in and inspect the data further to gather some insights."
      ],
      "metadata": {
        "id": "V8Y0lFGGjj2f"
      }
    },
    {
      "cell_type": "markdown",
      "source": [
        "##2.2 Inspect the raw data"
      ],
      "metadata": {
        "id": "yXY4dk0tjTq4"
      }
    },
    {
      "cell_type": "code",
      "source": [
        "movie_plots_data.head()"
      ],
      "metadata": {
        "colab": {
          "base_uri": "https://localhost:8080/",
          "height": 608
        },
        "id": "6wTtvgSrNc68",
        "outputId": "13685b61-9f71-45db-8244-f90d2a2c9cab"
      },
      "execution_count": 10,
      "outputs": [
        {
          "output_type": "execute_result",
          "data": {
            "text/plain": [
              "   Release Year                             Title Origin/Ethnicity  \\\n",
              "0          1901            Kansas Saloon Smashers         American   \n",
              "1          1901     Love by the Light of the Moon         American   \n",
              "2          1901           The Martyred Presidents         American   \n",
              "3          1901  Terrible Teddy, the Grizzly King         American   \n",
              "4          1902            Jack and the Beanstalk         American   \n",
              "\n",
              "                             Director Cast    Genre  \\\n",
              "0                             Unknown  NaN  unknown   \n",
              "1                             Unknown  NaN  unknown   \n",
              "2                             Unknown  NaN  unknown   \n",
              "3                             Unknown  NaN  unknown   \n",
              "4  George S. Fleming, Edwin S. Porter  NaN  unknown   \n",
              "\n",
              "                                           Wiki Page  \\\n",
              "0  https://en.wikipedia.org/wiki/Kansas_Saloon_Sm...   \n",
              "1  https://en.wikipedia.org/wiki/Love_by_the_Ligh...   \n",
              "2  https://en.wikipedia.org/wiki/The_Martyred_Pre...   \n",
              "3  https://en.wikipedia.org/wiki/Terrible_Teddy,_...   \n",
              "4  https://en.wikipedia.org/wiki/Jack_and_the_Bea...   \n",
              "\n",
              "                                                Plot  \n",
              "0  A bartender is working at a saloon, serving dr...  \n",
              "1  The moon, painted with a smiling face hangs ov...  \n",
              "2  The film, just over a minute long, is composed...  \n",
              "3  Lasting just 61 seconds and consisting of two ...  \n",
              "4  The earliest known adaptation of the classic f...  "
            ],
            "text/html": [
              "\n",
              "  <div id=\"df-bdb642f1-0095-40a9-9b9a-ca928a65f3a0\">\n",
              "    <div class=\"colab-df-container\">\n",
              "      <div>\n",
              "<style scoped>\n",
              "    .dataframe tbody tr th:only-of-type {\n",
              "        vertical-align: middle;\n",
              "    }\n",
              "\n",
              "    .dataframe tbody tr th {\n",
              "        vertical-align: top;\n",
              "    }\n",
              "\n",
              "    .dataframe thead th {\n",
              "        text-align: right;\n",
              "    }\n",
              "</style>\n",
              "<table border=\"1\" class=\"dataframe\">\n",
              "  <thead>\n",
              "    <tr style=\"text-align: right;\">\n",
              "      <th></th>\n",
              "      <th>Release Year</th>\n",
              "      <th>Title</th>\n",
              "      <th>Origin/Ethnicity</th>\n",
              "      <th>Director</th>\n",
              "      <th>Cast</th>\n",
              "      <th>Genre</th>\n",
              "      <th>Wiki Page</th>\n",
              "      <th>Plot</th>\n",
              "    </tr>\n",
              "  </thead>\n",
              "  <tbody>\n",
              "    <tr>\n",
              "      <th>0</th>\n",
              "      <td>1901</td>\n",
              "      <td>Kansas Saloon Smashers</td>\n",
              "      <td>American</td>\n",
              "      <td>Unknown</td>\n",
              "      <td>NaN</td>\n",
              "      <td>unknown</td>\n",
              "      <td>https://en.wikipedia.org/wiki/Kansas_Saloon_Sm...</td>\n",
              "      <td>A bartender is working at a saloon, serving dr...</td>\n",
              "    </tr>\n",
              "    <tr>\n",
              "      <th>1</th>\n",
              "      <td>1901</td>\n",
              "      <td>Love by the Light of the Moon</td>\n",
              "      <td>American</td>\n",
              "      <td>Unknown</td>\n",
              "      <td>NaN</td>\n",
              "      <td>unknown</td>\n",
              "      <td>https://en.wikipedia.org/wiki/Love_by_the_Ligh...</td>\n",
              "      <td>The moon, painted with a smiling face hangs ov...</td>\n",
              "    </tr>\n",
              "    <tr>\n",
              "      <th>2</th>\n",
              "      <td>1901</td>\n",
              "      <td>The Martyred Presidents</td>\n",
              "      <td>American</td>\n",
              "      <td>Unknown</td>\n",
              "      <td>NaN</td>\n",
              "      <td>unknown</td>\n",
              "      <td>https://en.wikipedia.org/wiki/The_Martyred_Pre...</td>\n",
              "      <td>The film, just over a minute long, is composed...</td>\n",
              "    </tr>\n",
              "    <tr>\n",
              "      <th>3</th>\n",
              "      <td>1901</td>\n",
              "      <td>Terrible Teddy, the Grizzly King</td>\n",
              "      <td>American</td>\n",
              "      <td>Unknown</td>\n",
              "      <td>NaN</td>\n",
              "      <td>unknown</td>\n",
              "      <td>https://en.wikipedia.org/wiki/Terrible_Teddy,_...</td>\n",
              "      <td>Lasting just 61 seconds and consisting of two ...</td>\n",
              "    </tr>\n",
              "    <tr>\n",
              "      <th>4</th>\n",
              "      <td>1902</td>\n",
              "      <td>Jack and the Beanstalk</td>\n",
              "      <td>American</td>\n",
              "      <td>George S. Fleming, Edwin S. Porter</td>\n",
              "      <td>NaN</td>\n",
              "      <td>unknown</td>\n",
              "      <td>https://en.wikipedia.org/wiki/Jack_and_the_Bea...</td>\n",
              "      <td>The earliest known adaptation of the classic f...</td>\n",
              "    </tr>\n",
              "  </tbody>\n",
              "</table>\n",
              "</div>\n",
              "      <button class=\"colab-df-convert\" onclick=\"convertToInteractive('df-bdb642f1-0095-40a9-9b9a-ca928a65f3a0')\"\n",
              "              title=\"Convert this dataframe to an interactive table.\"\n",
              "              style=\"display:none;\">\n",
              "        \n",
              "  <svg xmlns=\"http://www.w3.org/2000/svg\" height=\"24px\"viewBox=\"0 0 24 24\"\n",
              "       width=\"24px\">\n",
              "    <path d=\"M0 0h24v24H0V0z\" fill=\"none\"/>\n",
              "    <path d=\"M18.56 5.44l.94 2.06.94-2.06 2.06-.94-2.06-.94-.94-2.06-.94 2.06-2.06.94zm-11 1L8.5 8.5l.94-2.06 2.06-.94-2.06-.94L8.5 2.5l-.94 2.06-2.06.94zm10 10l.94 2.06.94-2.06 2.06-.94-2.06-.94-.94-2.06-.94 2.06-2.06.94z\"/><path d=\"M17.41 7.96l-1.37-1.37c-.4-.4-.92-.59-1.43-.59-.52 0-1.04.2-1.43.59L10.3 9.45l-7.72 7.72c-.78.78-.78 2.05 0 2.83L4 21.41c.39.39.9.59 1.41.59.51 0 1.02-.2 1.41-.59l7.78-7.78 2.81-2.81c.8-.78.8-2.07 0-2.86zM5.41 20L4 18.59l7.72-7.72 1.47 1.35L5.41 20z\"/>\n",
              "  </svg>\n",
              "      </button>\n",
              "      \n",
              "  <style>\n",
              "    .colab-df-container {\n",
              "      display:flex;\n",
              "      flex-wrap:wrap;\n",
              "      gap: 12px;\n",
              "    }\n",
              "\n",
              "    .colab-df-convert {\n",
              "      background-color: #E8F0FE;\n",
              "      border: none;\n",
              "      border-radius: 50%;\n",
              "      cursor: pointer;\n",
              "      display: none;\n",
              "      fill: #1967D2;\n",
              "      height: 32px;\n",
              "      padding: 0 0 0 0;\n",
              "      width: 32px;\n",
              "    }\n",
              "\n",
              "    .colab-df-convert:hover {\n",
              "      background-color: #E2EBFA;\n",
              "      box-shadow: 0px 1px 2px rgba(60, 64, 67, 0.3), 0px 1px 3px 1px rgba(60, 64, 67, 0.15);\n",
              "      fill: #174EA6;\n",
              "    }\n",
              "\n",
              "    [theme=dark] .colab-df-convert {\n",
              "      background-color: #3B4455;\n",
              "      fill: #D2E3FC;\n",
              "    }\n",
              "\n",
              "    [theme=dark] .colab-df-convert:hover {\n",
              "      background-color: #434B5C;\n",
              "      box-shadow: 0px 1px 3px 1px rgba(0, 0, 0, 0.15);\n",
              "      filter: drop-shadow(0px 1px 2px rgba(0, 0, 0, 0.3));\n",
              "      fill: #FFFFFF;\n",
              "    }\n",
              "  </style>\n",
              "\n",
              "      <script>\n",
              "        const buttonEl =\n",
              "          document.querySelector('#df-bdb642f1-0095-40a9-9b9a-ca928a65f3a0 button.colab-df-convert');\n",
              "        buttonEl.style.display =\n",
              "          google.colab.kernel.accessAllowed ? 'block' : 'none';\n",
              "\n",
              "        async function convertToInteractive(key) {\n",
              "          const element = document.querySelector('#df-bdb642f1-0095-40a9-9b9a-ca928a65f3a0');\n",
              "          const dataTable =\n",
              "            await google.colab.kernel.invokeFunction('convertToInteractive',\n",
              "                                                     [key], {});\n",
              "          if (!dataTable) return;\n",
              "\n",
              "          const docLinkHtml = 'Like what you see? Visit the ' +\n",
              "            '<a target=\"_blank\" href=https://colab.research.google.com/notebooks/data_table.ipynb>data table notebook</a>'\n",
              "            + ' to learn more about interactive tables.';\n",
              "          element.innerHTML = '';\n",
              "          dataTable['output_type'] = 'display_data';\n",
              "          await google.colab.output.renderOutput(dataTable, element);\n",
              "          const docLink = document.createElement('div');\n",
              "          docLink.innerHTML = docLinkHtml;\n",
              "          element.appendChild(docLink);\n",
              "        }\n",
              "      </script>\n",
              "    </div>\n",
              "  </div>\n",
              "  "
            ]
          },
          "metadata": {},
          "execution_count": 10
        }
      ]
    },
    {
      "cell_type": "markdown",
      "source": [
        "Displaying the head shows us the first five rows of the dataset. We can also see that the 8 columns are the Title f the movie, the country of Origin of the movie/Ethnicity, the Director, Cast, Genre, URL for the wikipedia page from which the data was scrapped, and finally the last and most important column that contains the textual data of the movie plots.\n",
        "\n",
        "Let's go through each of the first seven columns and perform EDA and see what interesting observations we can pull."
      ],
      "metadata": {
        "id": "jX72rBT1j9ug"
      }
    },
    {
      "cell_type": "markdown",
      "source": [
        "##2.3 Visualize Country of Origin"
      ],
      "metadata": {
        "id": "ydVCQuX5lC2f"
      }
    },
    {
      "cell_type": "code",
      "source": [
        "#Grouping the dataframe by Origin/Ethnicity and visualizing the top 25 items in a bar graph\n",
        "movie_plots_data.groupby(['Origin/Ethnicity']).size().sort_values(ascending=True).plot.barh(figsize=(4,8), grid=True)"
      ],
      "metadata": {
        "colab": {
          "base_uri": "https://localhost:8080/",
          "height": 501
        },
        "id": "yZqL09rrNhfN",
        "outputId": "94f150fc-753e-407c-ff6c-6b3da43264ff"
      },
      "execution_count": 11,
      "outputs": [
        {
          "output_type": "execute_result",
          "data": {
            "text/plain": [
              "<matplotlib.axes._subplots.AxesSubplot at 0x7f14af8f65e0>"
            ]
          },
          "metadata": {},
          "execution_count": 11
        },
        {
          "output_type": "display_data",
          "data": {
            "text/plain": [
              "<Figure size 288x576 with 1 Axes>"
            ],
            "image/png": "[encoded data removed]"
          },
          "metadata": {
            "needs_background": "light"
          }
        }
      ]
    },
    {
      "cell_type": "markdown",
      "source": [
        "Most of the movies have an American origin, followed by British and then Indian/Bollywood based movies. The data therefore has a strong bias towards English language films and this will have an influence on the structure of the movie plots."
      ],
      "metadata": {
        "id": "Bzy5O6dvmKPn"
      }
    },
    {
      "cell_type": "markdown",
      "source": [
        "##2.4 Visualize Release Year Trend"
      ],
      "metadata": {
        "id": "yQ8GysJ1mncd"
      }
    },
    {
      "cell_type": "code",
      "source": [
        "#Grouping by Release Year and visualizing this data\n",
        "movie_plots_data.groupby(['Release Year']).size().plot(kind='bar', figsize=(22,4), grid=True)"
      ],
      "metadata": {
        "colab": {
          "base_uri": "https://localhost:8080/",
          "height": 234
        },
        "id": "20_1u01DPFYG",
        "outputId": "a84c5bb1-1270-4c75-ba3c-b7e7ec295141"
      },
      "execution_count": 12,
      "outputs": [
        {
          "output_type": "execute_result",
          "data": {
            "text/plain": [
              "<matplotlib.axes._subplots.AxesSubplot at 0x7f14af7bc1f0>"
            ]
          },
          "metadata": {},
          "execution_count": 12
        },
        {
          "output_type": "display_data",
          "data": {
            "text/plain": [
              "<Figure size 1584x288 with 1 Axes>"
            ],
            "image/png": "[encoded data removed]"
          },
          "metadata": {
            "needs_background": "light"
          }
        }
      ]
    },
    {
      "cell_type": "markdown",
      "source": [
        "We notice an increasing trend for movie releases from the first records of data until 1957, with a peak of about 400 movies released that year.\n",
        "Then another increasing trend from 1965 - 1971, with a peak of about 300 movies, again from 1976 - 1997 with a peak of 400+ movies, from 1998 - 2006 with a peak fo 800 movies and then lastly, from 2008 - 2013, with a peak of about 100 movies.\n",
        "Throughout the rest of the time there is a decreasing trend in movie releases each year."
      ],
      "metadata": {
        "id": "90btNISjqvbS"
      }
    },
    {
      "cell_type": "markdown",
      "source": [
        "##2.5 Visualize Genre Breakdown"
      ],
      "metadata": {
        "id": "gi2kf-wvrUI-"
      }
    },
    {
      "cell_type": "code",
      "source": [
        "movie_plots_data[movie_plots_data['Genre']!='unknown'].groupby(['Genre']).size().sort_values(ascending=True).tail(25).plot.barh(figsize=(4,8), grid=True)"
      ],
      "metadata": {
        "colab": {
          "base_uri": "https://localhost:8080/",
          "height": 501
        },
        "id": "g6To8OQ6PXc6",
        "outputId": "168b62c5-3508-4e56-a7b8-aeb152d2a2cc"
      },
      "execution_count": 13,
      "outputs": [
        {
          "output_type": "execute_result",
          "data": {
            "text/plain": [
              "<matplotlib.axes._subplots.AxesSubplot at 0x7f14af140520>"
            ]
          },
          "metadata": {},
          "execution_count": 13
        },
        {
          "output_type": "display_data",
          "data": {
            "text/plain": [
              "<Figure size 288x576 with 1 Axes>"
            ],
            "image/png": "[encoded data removed]"
          },
          "metadata": {
            "needs_background": "light"
          }
        }
      ]
    },
    {
      "cell_type": "markdown",
      "source": [
        "Drama and Comedy are the most popular genres, followed by horror and action, which have much smaller values. The chart visualizes an interesting observation suggesting that an exponential distriution for the number of movies for each distribution."
      ],
      "metadata": {
        "id": "q7W6owlatcYp"
      }
    },
    {
      "cell_type": "markdown",
      "source": [
        "##2.6 Visualize Top Directors"
      ],
      "metadata": {
        "id": "sIivvHj-txaD"
      }
    },
    {
      "cell_type": "code",
      "source": [
        "#Plotting the most popular movie directors in descending order\n",
        "movie_plots_data[movie_plots_data['Director']!='Unknown'].groupby(['Director']).size().sort_values(ascending=True).tail(20).plot.barh(figsize=(4,8), grid=True)"
      ],
      "metadata": {
        "colab": {
          "base_uri": "https://localhost:8080/",
          "height": 501
        },
        "id": "XdiMZqq9Plcd",
        "outputId": "1bf53034-24f4-4266-b65d-fd9c5b4b5178"
      },
      "execution_count": 14,
      "outputs": [
        {
          "output_type": "execute_result",
          "data": {
            "text/plain": [
              "<matplotlib.axes._subplots.AxesSubplot at 0x7f14af0cb8b0>"
            ]
          },
          "metadata": {},
          "execution_count": 14
        },
        {
          "output_type": "display_data",
          "data": {
            "text/plain": [
              "<Figure size 288x576 with 1 Axes>"
            ],
            "image/png": "[encoded data removed]"
          },
          "metadata": {
            "needs_background": "light"
          }
        }
      ]
    },
    {
      "cell_type": "markdown",
      "source": [
        "Here, the distribution is not exponential. Michael Curtiz and Lloyd Bacon are very close in number with each having directed roughly 80 movies. Other popular directors such as Lloyd Bacon, Jules White and John Ford are close in proximity with each having directed around 60 movies."
      ],
      "metadata": {
        "id": "pde5gUMIv2L1"
      }
    },
    {
      "cell_type": "markdown",
      "source": [
        "##2.7 Visualize Top Titles"
      ],
      "metadata": {
        "id": "oSDyF4anwdMC"
      }
    },
    {
      "cell_type": "code",
      "source": [
        "#Ploting the distribution of top movie titles\n",
        "movie_plots_data[movie_plots_data['Title']!='Unknown'].groupby(['Title']).size().sort_values(ascending=True).tail(20).plot.barh(figsize=(4,8),grid=True)"
      ],
      "metadata": {
        "colab": {
          "base_uri": "https://localhost:8080/",
          "height": 501
        },
        "id": "0AFB8SnlP2RI",
        "outputId": "4760acfe-7cc6-45e1-fde9-f9757be9b5a8"
      },
      "execution_count": 15,
      "outputs": [
        {
          "output_type": "execute_result",
          "data": {
            "text/plain": [
              "<matplotlib.axes._subplots.AxesSubplot at 0x7f14af00f760>"
            ]
          },
          "metadata": {},
          "execution_count": 15
        },
        {
          "output_type": "display_data",
          "data": {
            "text/plain": [
              "<Figure size 288x576 with 1 Axes>"
            ],
            "image/png": "[encoded data removed]"
          },
          "metadata": {
            "needs_background": "light"
          }
        }
      ]
    },
    {
      "cell_type": "markdown",
      "source": [
        "Again, the distribution is not so exponential in nature. The count for popular movie titles does not rapidly decrease. The Three Musketeers and Cinderella are the most popular titles, followed closely by Treasure Island, Hero, Anna Karenina and Alice in Wonderland which have about 6 makes of the title."
      ],
      "metadata": {
        "id": "84w5yTMa0_qY"
      }
    },
    {
      "cell_type": "markdown",
      "source": [
        "##2.8 Visalize Top Casts"
      ],
      "metadata": {
        "id": "Ds7jehYc1sLW"
      }
    },
    {
      "cell_type": "code",
      "source": [
        "#Plotting the top casts and seeing how they aare distributed throughout the dataset\n",
        "movie_plots_data[movie_plots_data['Cast']!='Unknown'].groupby(['Cast']).size().sort_values(ascending=True).tail(20).plot.barh(figsize=(4,8),grid=True)"
      ],
      "metadata": {
        "colab": {
          "base_uri": "https://localhost:8080/",
          "height": 501
        },
        "id": "7W1lrF-FQXOi",
        "outputId": "db0411a0-5747-4e37-f138-a84d12035396"
      },
      "execution_count": null,
      "outputs": [
        {
          "output_type": "execute_result",
          "data": {
            "text/plain": [
              "<matplotlib.axes._subplots.AxesSubplot at 0x7f0dd28af4f0>"
            ]
          },
          "metadata": {},
          "execution_count": 29
        },
        {
          "output_type": "display_data",
          "data": {
            "text/plain": [
              "<Figure size 288x576 with 1 Axes>"
            ],
            "image/png": "[encoded data removed]"
          },
          "metadata": {
            "needs_background": "light"
          }
        }
      ]
    },
    {
      "cell_type": "markdown",
      "source": [
        "Tom and Jerry are the most popular characters, followed by the Three Stooges, Looney Toons and Bugs Bunny, in descending order and equlally spaced between each other. Interesting to note is the the fact that these are all cartoon characters. This is likely because there are lots of episodes in these series which are included in the plots dataset."
      ],
      "metadata": {
        "id": "OVAB1IYd2aUE"
      }
    },
    {
      "cell_type": "markdown",
      "source": [
        "We've analyzed all the seven columns to see what knowledge we could extract and so far, the country of origin and the genre seem to be the most interesting  types which we could include for additional information."
      ],
      "metadata": {
        "id": "1iJVY_wy3eKD"
      }
    },
    {
      "cell_type": "markdown",
      "source": [
        "#3.0 Basic Pre-Processing"
      ],
      "metadata": {
        "id": "B1qyxZsw5WwN"
      }
    },
    {
      "cell_type": "markdown",
      "source": [
        "##3.1 Selecting a subset of the data\n",
        "\n",
        "This is important because the raw data is very large and we need to limit the data we are processing because of memeory and CPU constraints."
      ],
      "metadata": {
        "id": "OSz1fkAs4dcQ"
      }
    },
    {
      "cell_type": "code",
      "source": [
        "#Create a substet of the data by creating a filter based on the release year column\n",
        "#Select values that are greater than or equal to 2005\n",
        "movie_plots_data_selection = movie_plots_data[movie_plots_data['Release Year'] >= 2005]"
      ],
      "metadata": {
        "id": "oEmCCPnTQyWD"
      },
      "execution_count": 16,
      "outputs": []
    },
    {
      "cell_type": "code",
      "source": [
        "#Previewing the data subset\n",
        "movie_plots_data_selection.head()"
      ],
      "metadata": {
        "colab": {
          "base_uri": "https://localhost:8080/",
          "height": 727
        },
        "id": "azkdy9TxQ9Jn",
        "outputId": "453170fa-120e-4588-af53-f11daf857d1d"
      },
      "execution_count": 17,
      "outputs": [
        {
          "output_type": "execute_result",
          "data": {
            "text/plain": [
              "       Release Year                                            Title  \\\n",
              "14591          2005                           The 40-Year-Old Virgin   \n",
              "14592          2005                                  51 Birch Street   \n",
              "14593          2005   The Adventures of Sharkboy and Lavagirl in 3-D   \n",
              "14594          2005                                         Æon Flux   \n",
              "14595          2005                            The Amityville Horror   \n",
              "\n",
              "      Origin/Ethnicity          Director  \\\n",
              "14591         American       Judd Apatow   \n",
              "14592         American        Doug Block   \n",
              "14593         American  Robert Rodriguez   \n",
              "14594         American      Karyn Kusama   \n",
              "14595         American    Andrew Douglas   \n",
              "\n",
              "                                                    Cast              Genre  \\\n",
              "14591          Steve Carell, Catherine Keener, Paul Rudd             comedy   \n",
              "14592     love, marriage, fidelity and a suburban family        documentary   \n",
              "14593  Taylor Lautner, Taylor Dooley, Cayden Boyd, Ge...  family, superhero   \n",
              "14594                                    Charlize Theron    science fiction   \n",
              "14595  Ryan Reynolds, Melissa George, Jesse James, Ji...             horror   \n",
              "\n",
              "                                               Wiki Page  \\\n",
              "14591  https://en.wikipedia.org/wiki/The_40-Year-Old_...   \n",
              "14592      https://en.wikipedia.org/wiki/51_Birch_Street   \n",
              "14593  https://en.wikipedia.org/wiki/The_Adventures_o...   \n",
              "14594  https://en.wikipedia.org/wiki/%C3%86on_Flux_(f...   \n",
              "14595  https://en.wikipedia.org/wiki/The_Amityville_H...   \n",
              "\n",
              "                                                    Plot  \n",
              "14591  Andy Stitzer is a 40-year-old virgin who lives...  \n",
              "14592  51 Birch Street is the first-person account of...  \n",
              "14593  Max is a lonely child in the suburbs of Austin...  \n",
              "14594  In 2011, a deadly pathogenic virus has killed ...  \n",
              "14595  In 1974, Ronald DeFeo Jr. murdered his family ...  "
            ],
            "text/html": [
              "\n",
              "  <div id=\"df-1616c3bb-5ce2-49c9-b1cf-0606c5bb34c4\">\n",
              "    <div class=\"colab-df-container\">\n",
              "      <div>\n",
              "<style scoped>\n",
              "    .dataframe tbody tr th:only-of-type {\n",
              "        vertical-align: middle;\n",
              "    }\n",
              "\n",
              "    .dataframe tbody tr th {\n",
              "        vertical-align: top;\n",
              "    }\n",
              "\n",
              "    .dataframe thead th {\n",
              "        text-align: right;\n",
              "    }\n",
              "</style>\n",
              "<table border=\"1\" class=\"dataframe\">\n",
              "  <thead>\n",
              "    <tr style=\"text-align: right;\">\n",
              "      <th></th>\n",
              "      <th>Release Year</th>\n",
              "      <th>Title</th>\n",
              "      <th>Origin/Ethnicity</th>\n",
              "      <th>Director</th>\n",
              "      <th>Cast</th>\n",
              "      <th>Genre</th>\n",
              "      <th>Wiki Page</th>\n",
              "      <th>Plot</th>\n",
              "    </tr>\n",
              "  </thead>\n",
              "  <tbody>\n",
              "    <tr>\n",
              "      <th>14591</th>\n",
              "      <td>2005</td>\n",
              "      <td>The 40-Year-Old Virgin</td>\n",
              "      <td>American</td>\n",
              "      <td>Judd Apatow</td>\n",
              "      <td>Steve Carell, Catherine Keener, Paul Rudd</td>\n",
              "      <td>comedy</td>\n",
              "      <td>https://en.wikipedia.org/wiki/The_40-Year-Old_...</td>\n",
              "      <td>Andy Stitzer is a 40-year-old virgin who lives...</td>\n",
              "    </tr>\n",
              "    <tr>\n",
              "      <th>14592</th>\n",
              "      <td>2005</td>\n",
              "      <td>51 Birch Street</td>\n",
              "      <td>American</td>\n",
              "      <td>Doug Block</td>\n",
              "      <td>love, marriage, fidelity and a suburban family</td>\n",
              "      <td>documentary</td>\n",
              "      <td>https://en.wikipedia.org/wiki/51_Birch_Street</td>\n",
              "      <td>51 Birch Street is the first-person account of...</td>\n",
              "    </tr>\n",
              "    <tr>\n",
              "      <th>14593</th>\n",
              "      <td>2005</td>\n",
              "      <td>The Adventures of Sharkboy and Lavagirl in 3-D</td>\n",
              "      <td>American</td>\n",
              "      <td>Robert Rodriguez</td>\n",
              "      <td>Taylor Lautner, Taylor Dooley, Cayden Boyd, Ge...</td>\n",
              "      <td>family, superhero</td>\n",
              "      <td>https://en.wikipedia.org/wiki/The_Adventures_o...</td>\n",
              "      <td>Max is a lonely child in the suburbs of Austin...</td>\n",
              "    </tr>\n",
              "    <tr>\n",
              "      <th>14594</th>\n",
              "      <td>2005</td>\n",
              "      <td>Æon Flux</td>\n",
              "      <td>American</td>\n",
              "      <td>Karyn Kusama</td>\n",
              "      <td>Charlize Theron</td>\n",
              "      <td>science fiction</td>\n",
              "      <td>https://en.wikipedia.org/wiki/%C3%86on_Flux_(f...</td>\n",
              "      <td>In 2011, a deadly pathogenic virus has killed ...</td>\n",
              "    </tr>\n",
              "    <tr>\n",
              "      <th>14595</th>\n",
              "      <td>2005</td>\n",
              "      <td>The Amityville Horror</td>\n",
              "      <td>American</td>\n",
              "      <td>Andrew Douglas</td>\n",
              "      <td>Ryan Reynolds, Melissa George, Jesse James, Ji...</td>\n",
              "      <td>horror</td>\n",
              "      <td>https://en.wikipedia.org/wiki/The_Amityville_H...</td>\n",
              "      <td>In 1974, Ronald DeFeo Jr. murdered his family ...</td>\n",
              "    </tr>\n",
              "  </tbody>\n",
              "</table>\n",
              "</div>\n",
              "      <button class=\"colab-df-convert\" onclick=\"convertToInteractive('df-1616c3bb-5ce2-49c9-b1cf-0606c5bb34c4')\"\n",
              "              title=\"Convert this dataframe to an interactive table.\"\n",
              "              style=\"display:none;\">\n",
              "        \n",
              "  <svg xmlns=\"http://www.w3.org/2000/svg\" height=\"24px\"viewBox=\"0 0 24 24\"\n",
              "       width=\"24px\">\n",
              "    <path d=\"M0 0h24v24H0V0z\" fill=\"none\"/>\n",
              "    <path d=\"M18.56 5.44l.94 2.06.94-2.06 2.06-.94-2.06-.94-.94-2.06-.94 2.06-2.06.94zm-11 1L8.5 8.5l.94-2.06 2.06-.94-2.06-.94L8.5 2.5l-.94 2.06-2.06.94zm10 10l.94 2.06.94-2.06 2.06-.94-2.06-.94-.94-2.06-.94 2.06-2.06.94z\"/><path d=\"M17.41 7.96l-1.37-1.37c-.4-.4-.92-.59-1.43-.59-.52 0-1.04.2-1.43.59L10.3 9.45l-7.72 7.72c-.78.78-.78 2.05 0 2.83L4 21.41c.39.39.9.59 1.41.59.51 0 1.02-.2 1.41-.59l7.78-7.78 2.81-2.81c.8-.78.8-2.07 0-2.86zM5.41 20L4 18.59l7.72-7.72 1.47 1.35L5.41 20z\"/>\n",
              "  </svg>\n",
              "      </button>\n",
              "      \n",
              "  <style>\n",
              "    .colab-df-container {\n",
              "      display:flex;\n",
              "      flex-wrap:wrap;\n",
              "      gap: 12px;\n",
              "    }\n",
              "\n",
              "    .colab-df-convert {\n",
              "      background-color: #E8F0FE;\n",
              "      border: none;\n",
              "      border-radius: 50%;\n",
              "      cursor: pointer;\n",
              "      display: none;\n",
              "      fill: #1967D2;\n",
              "      height: 32px;\n",
              "      padding: 0 0 0 0;\n",
              "      width: 32px;\n",
              "    }\n",
              "\n",
              "    .colab-df-convert:hover {\n",
              "      background-color: #E2EBFA;\n",
              "      box-shadow: 0px 1px 2px rgba(60, 64, 67, 0.3), 0px 1px 3px 1px rgba(60, 64, 67, 0.15);\n",
              "      fill: #174EA6;\n",
              "    }\n",
              "\n",
              "    [theme=dark] .colab-df-convert {\n",
              "      background-color: #3B4455;\n",
              "      fill: #D2E3FC;\n",
              "    }\n",
              "\n",
              "    [theme=dark] .colab-df-convert:hover {\n",
              "      background-color: #434B5C;\n",
              "      box-shadow: 0px 1px 3px 1px rgba(0, 0, 0, 0.15);\n",
              "      filter: drop-shadow(0px 1px 2px rgba(0, 0, 0, 0.3));\n",
              "      fill: #FFFFFF;\n",
              "    }\n",
              "  </style>\n",
              "\n",
              "      <script>\n",
              "        const buttonEl =\n",
              "          document.querySelector('#df-1616c3bb-5ce2-49c9-b1cf-0606c5bb34c4 button.colab-df-convert');\n",
              "        buttonEl.style.display =\n",
              "          google.colab.kernel.accessAllowed ? 'block' : 'none';\n",
              "\n",
              "        async function convertToInteractive(key) {\n",
              "          const element = document.querySelector('#df-1616c3bb-5ce2-49c9-b1cf-0606c5bb34c4');\n",
              "          const dataTable =\n",
              "            await google.colab.kernel.invokeFunction('convertToInteractive',\n",
              "                                                     [key], {});\n",
              "          if (!dataTable) return;\n",
              "\n",
              "          const docLinkHtml = 'Like what you see? Visit the ' +\n",
              "            '<a target=\"_blank\" href=https://colab.research.google.com/notebooks/data_table.ipynb>data table notebook</a>'\n",
              "            + ' to learn more about interactive tables.';\n",
              "          element.innerHTML = '';\n",
              "          dataTable['output_type'] = 'display_data';\n",
              "          await google.colab.output.renderOutput(dataTable, element);\n",
              "          const docLink = document.createElement('div');\n",
              "          docLink.innerHTML = docLinkHtml;\n",
              "          element.appendChild(docLink);\n",
              "        }\n",
              "      </script>\n",
              "    </div>\n",
              "  </div>\n",
              "  "
            ]
          },
          "metadata": {},
          "execution_count": 17
        }
      ]
    },
    {
      "cell_type": "code",
      "source": [
        "#The shape shows us the number of rows in the data subset we created\n",
        "movie_plots_data_selection.shape"
      ],
      "metadata": {
        "id": "C5mHh8EsRB86",
        "outputId": "41a38de4-8806-48c9-eceb-33c2680588ce",
        "colab": {
          "base_uri": "https://localhost:8080/"
        }
      },
      "execution_count": 18,
      "outputs": [
        {
          "output_type": "execute_result",
          "data": {
            "text/plain": [
              "(10052, 8)"
            ]
          },
          "metadata": {},
          "execution_count": 18
        }
      ]
    },
    {
      "cell_type": "markdown",
      "source": [
        "The new data subset is now roughly a third of the original data set."
      ],
      "metadata": {
        "id": "cQ3Lk-Zu6k6I"
      }
    },
    {
      "cell_type": "markdown",
      "source": [
        "#3. Topic Modelling"
      ],
      "metadata": {
        "id": "_K-1GCedLxJF"
      }
    },
    {
      "cell_type": "markdown",
      "source": [
        "##3.1 Pre Processing for Topic Modelling\n",
        "In this section, we use two common pre-processing methods Bag of Words (BoW) and Term Frequency - Inverse Document Frequency (TF-IDF) on the dataset. We will cover the LDA method and perform LDA computed with Bow and LDA computed with TF-IDF and see the difference between the two.\n",
        "\n",
        "###Why is Topic Modeling important for creating knowledge graphs?\n",
        "Knowledge graphs when used with topic modeling are an important part of knowledge mining. Knowledge graphs aim to find the links between entities, whereas topic modeling looks for ways to group text into clusteres.\n",
        "\n",
        "Topic modeling's clustering approach is complimentary to Knowledge Graphs and provides a more compete view of a large dataset like the one we have (and many others as well). \n",
        "\n",
        "Combining the use of topic modeling with knowledge graphs also allows for improved graph searches by narrowing down graph search queries to more specific topics discovered during a technique called LDA."
      ],
      "metadata": {
        "id": "ak1tL5RjV3un"
      }
    },
    {
      "cell_type": "markdown",
      "source": [
        "###Bag of Words (BoW)\n",
        "Bag of Words is used for classifying text documents by making use of the frequency of occurence of each token/word in a sentence. Grammar and word order are usually disregarded in Bow representation.\n",
        "\n",
        "After transforming a text into a bag of words, we can calculate various measures to characterize the text.\n",
        "\n",
        "The most common type of feature calculated from bag of words model is the *term frequency*. Term frequency is the number of times a token/word appears in a text."
      ],
      "metadata": {
        "id": "ncZB5O7HlX14"
      }
    },
    {
      "cell_type": "markdown",
      "source": [
        "###TF-IDF\n",
        "In information retrieval, TF-IDF is a numercal statistic to compute how importatnt a token/word is to a text document or corpus of documents.\n",
        "\n",
        "\n",
        "It is often used as a weighted factor in searches for information retrieval and text mining.\n",
        "\n",
        "The TF-IDF value increases proportionately to the number of times a word/token appears in a text document and is offset by the number of documents in the corpus that contain the word which heps to adjust for the fact that some words appear more frequently in general."
      ],
      "metadata": {
        "id": "b-ByuQ2qmNyb"
      }
    },
    {
      "cell_type": "markdown",
      "source": [
        "###LDA\n",
        "LDA is the abbreviation for Linear Discriminant Analysis. It is closely related to Principal Component Analysis of PCA, for short form. Both algorithmic techniques are used in factor analysis where we are looking for linear combinations of variables which best explain the data.\n",
        "\n",
        "LDA explicity attemots to model the difference between classes if data it can find. It is a generalization of Fischer's Linear Discriminant, a method used in statistics, pattern recognition and machine learning to find a linear combnation of features that characterize or seperate two classes of objects or events. LDA is an unsupervised learning approach and therefore no manually labelled data is fed to the algorithm for training. *(Per the job description, I relaize that manual labelling of the data is required for the algorithm that Shopify uses).*"
      ],
      "metadata": {
        "id": "OSLtYMf0obdF"
      }
    },
    {
      "cell_type": "markdown",
      "source": [
        "###Important Pre-Processing Standards\n",
        "\n",
        "Before we perform any kind of processing on the data the text needs to be normalized. Normalization is done to put all words on equal footing and allows processing to proceed uniformly. We also perform stemming and lemmatization. \n",
        "\n",
        "*Stemming* is the process of eliminating any affixes from a word in order to arrive at the stem of a word. Stems are not necessarily actual words. For example, the word \"arguing\" has it's stem as \"argu\".\n",
        "\n",
        "*Lemmatization* is the process of reducing a word to it's disctionary form. For example, the word \"arguing\" is lemmatized to \"argue\"."
      ],
      "metadata": {
        "id": "IPjgoHkTnF2o"
      }
    },
    {
      "cell_type": "code",
      "source": [
        "#importing necessary libraries\n",
        "import gensim\n",
        "from gensim.utils import simple_preprocess\n",
        "from gensim.parsing.preprocessing import STOPWORDS\n",
        "from nltk.stem import WordNetLemmatizer, SnowballStemmer\n",
        "from nltk.stem.porter import *\n",
        "import numpy as np\n",
        "np.random.seed(1234)\n",
        "import nltk\n",
        "nltk.download('wordnet')\n",
        "import nltk\n",
        "nltk.download('omw-1.4')"
      ],
      "metadata": {
        "id": "4c2pcELWL6-e",
        "colab": {
          "base_uri": "https://localhost:8080/"
        },
        "outputId": "bbcb1f92-ad4c-446b-c7eb-4145e2926f95"
      },
      "execution_count": 24,
      "outputs": [
        {
          "output_type": "stream",
          "name": "stderr",
          "text": [
            "[nltk_data] Downloading package wordnet to /root/nltk_data...\n",
            "[nltk_data]   Package wordnet is already up-to-date!\n",
            "[nltk_data] Downloading package omw-1.4 to /root/nltk_data...\n"
          ]
        },
        {
          "output_type": "execute_result",
          "data": {
            "text/plain": [
              "True"
            ]
          },
          "metadata": {},
          "execution_count": 24
        }
      ]
    },
    {
      "cell_type": "markdown",
      "source": [
        "Gensim is an NLP library\n",
        "\n",
        "I use nltk lemmatizing and stemming methods\n",
        "\n",
        "I also use the numpy library and set a fixed seed value to avoid random variations between consecutive runs of the code, as is good practice for reproducable experiment results."
      ],
      "metadata": {
        "id": "S6SdmU6lqsZM"
      }
    },
    {
      "cell_type": "markdown",
      "source": [
        "##3.2 Select data subset: Films released in 2015 and after and of the Comedy genre"
      ],
      "metadata": {
        "id": "CqA26UCtroIG"
      }
    },
    {
      "cell_type": "code",
      "source": [
        "#Creating the dsubset \n",
        "movie_plots_selection = movie_plots_data[(movie_plots_data['Release Year'] >= 2015) & movie_plots_data['Genre'].str.contains('comedy')]"
      ],
      "metadata": {
        "id": "LYWLAKVMMBTu"
      },
      "execution_count": 25,
      "outputs": []
    },
    {
      "cell_type": "code",
      "source": [
        "movie_plots = movie_plots_selection.Plot\n",
        "movie_plots.head()"
      ],
      "metadata": {
        "id": "klEa-M9VMTKR",
        "colab": {
          "base_uri": "https://localhost:8080/"
        },
        "outputId": "21466e28-c2ed-4206-8844-0d966f8db508"
      },
      "execution_count": 26,
      "outputs": [
        {
          "output_type": "execute_result",
          "data": {
            "text/plain": [
              "16917    Jimmy Callahan (Kevin Hart) provides best man ...\n",
              "16922    Lord Charlie Mortdecai, an unscrupulous art de...\n",
              "16925    Quinn (Simon Helberg) and Devon (Melanie Lynsk...\n",
              "16934    Jerry (Ryan Reynolds) is an upbeat man who wor...\n",
              "16935    The film opens with an unnamed dancer (Charles...\n",
              "Name: Plot, dtype: object"
            ]
          },
          "metadata": {},
          "execution_count": 26
        }
      ]
    },
    {
      "cell_type": "markdown",
      "source": [
        "##3.3 Topic Model Specific Pre-Processing"
      ],
      "metadata": {
        "id": "6uKg6YNGsjYb"
      }
    },
    {
      "cell_type": "code",
      "source": [
        "#instatiate a SnowballStemmer object for the english language\n",
        "stemmer = SnowballStemmer('english')\n",
        "\n",
        "def lemmatize_stemming(text):\n",
        "    # lemmatize + stem a text\n",
        "    return stemmer.stem(WordNetLemmatizer().lemmatize(text, pos='v'))\n",
        "\n",
        "def preprocess(text):\n",
        "    result = []\n",
        "    for token in gensim.utils.simple_preprocess(text):\n",
        "        # normalization to remove stopword tokens and tokens of length small than 3\n",
        "        if token not in gensim.parsing.preprocessing.STOPWORDS and len(token) > 2:\n",
        "            # lemmatize + stem tokens\n",
        "            result.append(lemmatize_stemming(token))\n",
        "    return result"
      ],
      "metadata": {
        "id": "GtVzL1gaMUYz"
      },
      "execution_count": 27,
      "outputs": []
    },
    {
      "cell_type": "code",
      "source": [
        "# preprocess movie plots\n",
        "preprocessed_docs = movie_plots.map(preprocess)\n",
        "preprocessed_docs.head()"
      ],
      "metadata": {
        "id": "VDEYVBUVMbRL",
        "colab": {
          "base_uri": "https://localhost:8080/"
        },
        "outputId": "c7f3e2cf-1231-45e9-8679-13b0a37f7d26"
      },
      "execution_count": 28,
      "outputs": [
        {
          "output_type": "execute_result",
          "data": {
            "text/plain": [
              "16917    [jimmi, callahan, kevin, hart, provid, best, m...\n",
              "16922    [lord, charli, mortdecai, unscrupul, art, deal...\n",
              "16925    [quinn, simon, helberg, devon, melani, lynskey...\n",
              "16934    [jerri, ryan, reynold, upbeat, man, work, bath...\n",
              "16935    [film, open, unnam, dancer, charl, lil, buck, ...\n",
              "Name: Plot, dtype: object"
            ]
          },
          "metadata": {},
          "execution_count": 28
        }
      ]
    },
    {
      "cell_type": "code",
      "source": [
        "# example before preprocessing\n",
        "print(movie_plots[movie_plots.index[0]][0:118])"
      ],
      "metadata": {
        "id": "SVefSWQJMg1w",
        "colab": {
          "base_uri": "https://localhost:8080/"
        },
        "outputId": "b02f0857-ec1c-4327-ca8a-7527379284b4"
      },
      "execution_count": 29,
      "outputs": [
        {
          "output_type": "stream",
          "name": "stdout",
          "text": [
            "Jimmy Callahan (Kevin Hart) provides best man services, through The Best Man Inc., for guys who don't have the friends\n"
          ]
        }
      ]
    },
    {
      "cell_type": "code",
      "source": [
        "# example after preprocessing\n",
        "preprocessed_docs[preprocessed_docs.index[0]][0:12]"
      ],
      "metadata": {
        "id": "tXswKSgOMlsV",
        "colab": {
          "base_uri": "https://localhost:8080/"
        },
        "outputId": "adf3e8a6-907b-480c-a50b-3505fef7793a"
      },
      "execution_count": 30,
      "outputs": [
        {
          "output_type": "execute_result",
          "data": {
            "text/plain": [
              "['jimmi',\n",
              " 'callahan',\n",
              " 'kevin',\n",
              " 'hart',\n",
              " 'provid',\n",
              " 'best',\n",
              " 'man',\n",
              " 'servic',\n",
              " 'best',\n",
              " 'man',\n",
              " 'guy',\n",
              " 'friend']"
            ]
          },
          "metadata": {},
          "execution_count": 30
        }
      ]
    },
    {
      "cell_type": "markdown",
      "source": [
        "As you can see, after pre-processing, several tokens have been removed while those that have been preserved have been lemmatized and stemmed."
      ],
      "metadata": {
        "id": "XiNM2iDqtPW6"
      }
    },
    {
      "cell_type": "markdown",
      "source": [
        "##3.4 Bag of Words (BoW)"
      ],
      "metadata": {
        "id": "PszP004Rtisr"
      }
    },
    {
      "cell_type": "markdown",
      "source": [
        "Creating a Bow transformation of the dataset using gensim's dictionary and filter out extreme values: words that appear in lless than 10 douments and words that appear in 50% of the documents while keeping only the first 100,000 token sorted by their appearance frequency."
      ],
      "metadata": {
        "id": "oDP6L_f6Avl1"
      }
    },
    {
      "cell_type": "code",
      "source": [
        "# BoW dictionary on the dataset\n",
        "dictionary = gensim.corpora.Dictionary(preprocessed_docs)"
      ],
      "metadata": {
        "id": "U5uRLtmNMqI5"
      },
      "execution_count": 31,
      "outputs": []
    },
    {
      "cell_type": "code",
      "source": [
        "# filter out extreme values\n",
        "dictionary.filter_extremes(no_below=10, no_above=0.5, keep_n=100000)"
      ],
      "metadata": {
        "id": "bFn0OAUKMwLs"
      },
      "execution_count": 32,
      "outputs": []
    },
    {
      "cell_type": "markdown",
      "source": [
        "Thereafter, I recerate the corpus and do some exploratory data analysis on the most frequent words that appear in the data to get a better understanding of the terms. I do this by counting how many ties a token has apeared in the BoW corpus. I do this using a dictionary then convert it to a pandas data frame and sort values based on term counting and plot the top most frequent terms."
      ],
      "metadata": {
        "id": "57BMZlcuA0Ir"
      }
    },
    {
      "cell_type": "code",
      "source": [
        "# create corpus using BoW transformation\n",
        "bow_corpus = [dictionary.doc2bow(doc) for doc in preprocessed_docs]"
      ],
      "metadata": {
        "id": "V8xEWJ-iM0I3"
      },
      "execution_count": 33,
      "outputs": []
    },
    {
      "cell_type": "code",
      "source": [
        "# count word occurence\n",
        "word_dict_count = {}\n",
        "for doc in bow_corpus:\n",
        "    for i, word_info in enumerate(doc):\n",
        "        word = dictionary[word_info[0]]\n",
        "        word_count = word_info[1]\n",
        "        if word in word_dict_count:\n",
        "            word_dict_count[word] += word_count\n",
        "        else:\n",
        "            word_dict_count[word] = 0"
      ],
      "metadata": {
        "id": "3-URH4XHM3t1"
      },
      "execution_count": 34,
      "outputs": []
    },
    {
      "cell_type": "code",
      "source": [
        "# create word dictionary\n",
        "word_dict = {'words': list(word_dict_count.keys()), 'count': list(word_dict_count.values())}"
      ],
      "metadata": {
        "id": "uZYq1tIaNE2u"
      },
      "execution_count": 35,
      "outputs": []
    },
    {
      "cell_type": "code",
      "source": [
        "# create DataFrame\n",
        "word_df = pd.DataFrame.from_dict(word_dict)\n",
        "word_df.sort_values(by=['count'], ascending=False).head(20).plot(x='words', kind='bar', figsize=(16,4), rot=45, grid=True)"
      ],
      "metadata": {
        "id": "BmDpLM0wNFXy",
        "colab": {
          "base_uri": "https://localhost:8080/",
          "height": 310
        },
        "outputId": "fec227ce-df0d-4c71-ccdb-441b7f5f4765"
      },
      "execution_count": 36,
      "outputs": [
        {
          "output_type": "execute_result",
          "data": {
            "text/plain": [
              "<matplotlib.axes._subplots.AxesSubplot at 0x7f149c251760>"
            ]
          },
          "metadata": {},
          "execution_count": 36
        },
        {
          "output_type": "display_data",
          "data": {
            "text/plain": [
              "<Figure size 1152x288 with 1 Axes>"
            ],
            "image/png": "[encoded data removed]"
          },
          "metadata": {
            "needs_background": "light"
          }
        }
      ]
    },
    {
      "cell_type": "markdown",
      "source": [
        "From the visualization we see that the 'get', 'tell', 'friend' and 'father' tokens are the most frequent words in the data. We expect that these terms will appear also in the topics we will compute with LDA."
      ],
      "metadata": {
        "id": "l3zn2NEuCNAi"
      }
    },
    {
      "cell_type": "markdown",
      "source": [
        "##3.5 LDA using BoW"
      ],
      "metadata": {
        "id": "tJ0YFx0MCEbb"
      }
    },
    {
      "cell_type": "markdown",
      "source": [
        "I'm training the LDA models and start by using the oW preprocessing. I want to extract 4 topis from the data and pass the BoW dictionary I computed earlier. It is used internally by the library for determining the vocabulary size as well as for the bagging and topic printing.\n",
        "\n",
        "I create a methd to display the cmputed topics. By default, it includes 10 words, but I call this method to show 5."
      ],
      "metadata": {
        "id": "rsc9zNRNSxGB"
      }
    },
    {
      "cell_type": "code",
      "source": [
        "# train LDA model using BoW\n",
        "lda_model = gensim.models.LdaMulticore(bow_corpus, num_topics=4, id2word=dictionary, passes=2, workers=4)"
      ],
      "metadata": {
        "id": "lZvZv2mQNFw5",
        "colab": {
          "base_uri": "https://localhost:8080/"
        },
        "outputId": "0e3b1daf-1496-4112-dcf7-bafd1dbe59aa"
      },
      "execution_count": 37,
      "outputs": [
        {
          "output_type": "stream",
          "name": "stderr",
          "text": [
            "WARNING:gensim.models.ldamulticore:too few updates, training might not converge; consider increasing the number of passes or iterations to improve accuracy\n"
          ]
        }
      ]
    },
    {
      "cell_type": "code",
      "source": [
        "def show_model_topics(model, words_per_topic=10):\n",
        "    for idx, topic in model.show_topics(num_words=words_per_topic, formatted=False):\n",
        "        print('Topic {} | Words & Probability: {}'.format(idx, topic))"
      ],
      "metadata": {
        "id": "WrvHXGOdNKdC"
      },
      "execution_count": 38,
      "outputs": []
    },
    {
      "cell_type": "code",
      "source": [
        "show_model_topics(lda_model, words_per_topic=5)"
      ],
      "metadata": {
        "id": "rixwngrwNMdS",
        "colab": {
          "base_uri": "https://localhost:8080/"
        },
        "outputId": "1e37a74b-0e81-47f5-c5d7-a515010b6579"
      },
      "execution_count": 39,
      "outputs": [
        {
          "output_type": "stream",
          "name": "stdout",
          "text": [
            "Topic 0 | Words & Probability: [('friend', 0.008890618), ('love', 0.008688431), ('school', 0.0071582654), ('leav', 0.0069917757), ('year', 0.006304975)]\n",
            "Topic 1 | Words & Probability: [('tell', 0.008979466), ('get', 0.0077647837), ('leav', 0.007721027), ('meet', 0.0071938056), ('tri', 0.007025581)]\n",
            "Topic 2 | Words & Probability: [('father', 0.012083194), ('friend', 0.011637828), ('love', 0.010389528), ('day', 0.00869085), ('meet', 0.0081614265)]\n",
            "Topic 3 | Words & Probability: [('hous', 0.0087432815), ('kill', 0.008286529), ('friend', 0.0078064995), ('tell', 0.0067677265), ('ghost', 0.0066331676)]\n"
          ]
        }
      ]
    },
    {
      "cell_type": "markdown",
      "source": [
        "The 4 topics the library has found are quite interesting.\n",
        "\n",
        "The first includes the words 'friend', 'love' and 'school'.\n",
        "\n",
        "The second includes the words 'tell', 'get' and 'leave'.\n",
        "\n",
        "The third includes the words 'father', 'friend' and love and the fourth includes the words 'house', 'kill' and 'ghost'.\n",
        "\n",
        "These are distinct words and probably refer to various plot categories. \n",
        "\n",
        "Also, as expected, sme of the most frequent words computed earlier are included in the topics the LDA algorithm has found."
      ],
      "metadata": {
        "id": "avtHMAYtDABr"
      }
    },
    {
      "cell_type": "markdown",
      "source": [
        "##3.6 LDA using TF-IDF"
      ],
      "metadata": {
        "id": "_CR9_VzdT89p"
      }
    },
    {
      "cell_type": "markdown",
      "source": [
        "Next, I'm training a new LDA model by addingg the TF-IDF transformation. \n",
        "\n",
        "The TF-IDF model is created using the BoW corpus and the same parameters are passed to the LDA library for training: 4 topics and the dictionary computed earlier."
      ],
      "metadata": {
        "id": "c6lRIJoDT-Ru"
      }
    },
    {
      "cell_type": "code",
      "source": [
        "from gensim import corpora, models\n",
        "\n",
        "# create corpus\n",
        "tfidf = models.TfidfModel(bow_corpus)\n",
        "corpus_tfidf = tfidf[bow_corpus]"
      ],
      "metadata": {
        "id": "2-gxhL6rNRJF"
      },
      "execution_count": 40,
      "outputs": []
    },
    {
      "cell_type": "code",
      "source": [
        "# train LDA model using TF-IDF\n",
        "lda_model_tfidf = gensim.models.LdaMulticore(corpus_tfidf, num_topics=4, id2word=dictionary, passes=2, workers=4)"
      ],
      "metadata": {
        "id": "iAGIfbZYNVHl",
        "colab": {
          "base_uri": "https://localhost:8080/"
        },
        "outputId": "d3044a95-617a-4b4f-c47d-12f002f661b3"
      },
      "execution_count": 41,
      "outputs": [
        {
          "output_type": "stream",
          "name": "stderr",
          "text": [
            "WARNING:gensim.models.ldamulticore:too few updates, training might not converge; consider increasing the number of passes or iterations to improve accuracy\n"
          ]
        }
      ]
    },
    {
      "cell_type": "code",
      "source": [
        "show_model_topics(lda_model_tfidf, words_per_topic=10)"
      ],
      "metadata": {
        "id": "Ki9OL0GXNZrs",
        "colab": {
          "base_uri": "https://localhost:8080/"
        },
        "outputId": "45934ac5-2a6c-4486-cfaa-64c0b04073a6"
      },
      "execution_count": 42,
      "outputs": [
        {
          "output_type": "stream",
          "name": "stdout",
          "text": [
            "Topic 0 | Words & Probability: [('jam', 0.003168589), ('movi', 0.0031658155), ('kill', 0.0029559515), ('meet', 0.0028721387), ('krishna', 0.0028223859), ('life', 0.002768274), ('ami', 0.0027428283), ('wife', 0.002638606), ('famili', 0.0026142653), ('year', 0.0025582165)]\n",
            "Topic 1 | Words & Probability: [('love', 0.0036076058), ('man', 0.0035566539), ('film', 0.0035468433), ('girl', 0.0030150425), ('stori', 0.0029314687), ('dream', 0.002898039), ('comedi', 0.0028807628), ('ghost', 0.0027838785), ('friend', 0.0027818142), ('villag', 0.002657241)]\n",
            "Topic 2 | Words & Probability: [('villag', 0.005387636), ('father', 0.0034078762), ('school', 0.0032746976), ('guy', 0.0028577445), ('kill', 0.0028362826), ('girl', 0.0027501064), ('polic', 0.0027405978), ('love', 0.0026644727), ('set', 0.0025067304), ('wed', 0.0024815637)]\n",
            "Topic 3 | Words & Probability: [('ghost', 0.0039039906), ('team', 0.0036190827), ('father', 0.0034885122), ('hous', 0.0034882692), ('film', 0.0034289234), ('love', 0.0033288395), ('babi', 0.0028065143), ('wed', 0.0027427825), ('marri', 0.0026513294), ('win', 0.002584541)]\n"
          ]
        }
      ]
    },
    {
      "cell_type": "markdown",
      "source": [
        "The topics it has computed have completely different tokens that are more distinct compred to the initial BoW preprocessing.\n",
        "\n",
        "Interesting to note that the token 'love' appears in 3 out of 4 topics. This is expected because TF-IDF leverages filtering capabilities to perofrm better pre-processing."
      ],
      "metadata": {
        "id": "x1GK4d2nWI7x"
      }
    },
    {
      "cell_type": "markdown",
      "source": [
        "#4.0 Testing and Visualization"
      ],
      "metadata": {
        "id": "P8-zDL9nW6mZ"
      }
    },
    {
      "cell_type": "markdown",
      "source": [
        "##4.1 Testing\n",
        "We start off by selecting a sample sentence from the filtered dataset in use."
      ],
      "metadata": {
        "id": "mcyXKWhRXOvV"
      }
    },
    {
      "cell_type": "code",
      "source": [
        "#Selectng the sentence at index 23 and transform it into BoW representation \n",
        "sample = movie_plots[movie_plots.index[23]]\n",
        "txt = dictionary.doc2bow(preprocess(sample))"
      ],
      "metadata": {
        "id": "7SnTyFYoNdrm"
      },
      "execution_count": 43,
      "outputs": []
    },
    {
      "cell_type": "code",
      "source": [
        "# Classify sample document using LDA BoW model\n",
        "for index, score in sorted(lda_model[txt], reverse=True):\n",
        "    print('\\nScore: {}\\t \\nTopic: {}'.format(score, lda_model.print_topic(index, 10)))"
      ],
      "metadata": {
        "id": "qLyrw7sUNizn",
        "colab": {
          "base_uri": "https://localhost:8080/"
        },
        "outputId": "4f34f3a9-71f0-44ad-d19c-3a2b1a20a3df"
      },
      "execution_count": 44,
      "outputs": [
        {
          "output_type": "stream",
          "name": "stdout",
          "text": [
            "\n",
            "Score: 0.34751492738723755\t \n",
            "Topic: 0.009*\"hous\" + 0.008*\"kill\" + 0.008*\"friend\" + 0.007*\"tell\" + 0.007*\"ghost\" + 0.007*\"decid\" + 0.006*\"get\" + 0.006*\"time\" + 0.006*\"stori\" + 0.006*\"famili\"\n",
            "\n",
            "Score: 0.059505898505449295\t \n",
            "Topic: 0.012*\"father\" + 0.012*\"friend\" + 0.010*\"love\" + 0.009*\"day\" + 0.008*\"meet\" + 0.008*\"tell\" + 0.008*\"go\" + 0.007*\"get\" + 0.007*\"famili\" + 0.006*\"reveal\"\n",
            "\n",
            "Score: 0.5619775056838989\t \n",
            "Topic: 0.009*\"tell\" + 0.008*\"get\" + 0.008*\"leav\" + 0.007*\"meet\" + 0.007*\"tri\" + 0.007*\"take\" + 0.007*\"help\" + 0.007*\"go\" + 0.006*\"return\" + 0.006*\"school\"\n",
            "\n",
            "Score: 0.031001629307866096\t \n",
            "Topic: 0.009*\"friend\" + 0.009*\"love\" + 0.007*\"school\" + 0.007*\"leav\" + 0.006*\"year\" + 0.006*\"return\" + 0.006*\"tell\" + 0.006*\"new\" + 0.006*\"home\" + 0.006*\"take\"\n"
          ]
        }
      ]
    },
    {
      "cell_type": "markdown",
      "source": [
        "The topic with the second largest weight has a score of 0.34 and has dominant tokens which include: 'house', 'kill', 'friend' and 'tell'.\n",
        "\n",
        "The most dominant topic has a score value of 0.56 and it's dominant tokens include: 'tell', 'get', 'leave' and 'meet'.\n",
        "\n",
        "The remaining two topics have very small weighted values and thererfore the text cannot be well described by these topics."
      ],
      "metadata": {
        "id": "r3v_5V5OZiCR"
      }
    },
    {
      "cell_type": "code",
      "source": [
        "# Classify sample document using LDA TF-IDF model\n",
        "for index, score in sorted(lda_model_tfidf[txt], reverse=True):\n",
        "    print('\\nScore: {}\\t \\nTopic: {}'.format(score, lda_model_tfidf.print_topic(index, 10)))"
      ],
      "metadata": {
        "id": "SQJhR6__NmJT",
        "colab": {
          "base_uri": "https://localhost:8080/"
        },
        "outputId": "c1c44ebb-141c-41ac-94a1-8b6655e34813"
      },
      "execution_count": 45,
      "outputs": [
        {
          "output_type": "stream",
          "name": "stdout",
          "text": [
            "\n",
            "Score: 0.8504155278205872\t \n",
            "Topic: 0.005*\"villag\" + 0.003*\"father\" + 0.003*\"school\" + 0.003*\"guy\" + 0.003*\"kill\" + 0.003*\"girl\" + 0.003*\"polic\" + 0.003*\"love\" + 0.003*\"set\" + 0.002*\"wed\"\n",
            "\n",
            "Score: 0.14546296000480652\t \n",
            "Topic: 0.003*\"jam\" + 0.003*\"movi\" + 0.003*\"kill\" + 0.003*\"meet\" + 0.003*\"krishna\" + 0.003*\"life\" + 0.003*\"ami\" + 0.003*\"wife\" + 0.003*\"famili\" + 0.003*\"year\"\n"
          ]
        }
      ]
    },
    {
      "cell_type": "markdown",
      "source": [
        "Here, there are only tw topics that are found to be relevant.\n",
        "\n",
        "The first topic has a weighted score of 0.85. The most important tokens in this topic include: 'village','father', 'school' and guy. The topics discovered using this model differ from those discovered using the model that uses just the BoW.\n",
        "\n",
        "The second topic has a weighted scre of 0.14 and produces more distinct topics than the BoW."
      ],
      "metadata": {
        "id": "cfHn_be5aFqN"
      }
    },
    {
      "cell_type": "markdown",
      "source": [
        "##4.1.1 Testing using Unseen Text"
      ],
      "metadata": {
        "id": "CfMs-tupbV84"
      }
    },
    {
      "cell_type": "code",
      "source": [
        "#define unseen text\n",
        "unseen_document = 'The main character runs out of the house and tells his friend to get some help from someone in front of the school.'"
      ],
      "metadata": {
        "id": "dcJrpnIUNnOE"
      },
      "execution_count": 46,
      "outputs": []
    },
    {
      "cell_type": "code",
      "source": [
        "bow_vector = dictionary.doc2bow(preprocess(unseen_document))\n",
        "\n",
        "for index, score in sorted(lda_model[bow_vector], key=lambda tup: tup[1], reverse=True):\n",
        "    print('Score: {}\\t Topic: {}'.format(score, lda_model.print_topic(index, 10)))"
      ],
      "metadata": {
        "id": "ANN9n4gmNqOg",
        "colab": {
          "base_uri": "https://localhost:8080/"
        },
        "outputId": "e0fdcaf9-921c-4364-f31c-90db4796f47a"
      },
      "execution_count": 47,
      "outputs": [
        {
          "output_type": "stream",
          "name": "stdout",
          "text": [
            "Score: 0.9094069004058838\t Topic: 0.009*\"tell\" + 0.008*\"get\" + 0.008*\"leav\" + 0.007*\"meet\" + 0.007*\"tri\" + 0.007*\"take\" + 0.007*\"help\" + 0.007*\"go\" + 0.006*\"return\" + 0.006*\"school\"\n",
            "Score: 0.030331946909427643\t Topic: 0.009*\"hous\" + 0.008*\"kill\" + 0.008*\"friend\" + 0.007*\"tell\" + 0.007*\"ghost\" + 0.007*\"decid\" + 0.006*\"get\" + 0.006*\"time\" + 0.006*\"stori\" + 0.006*\"famili\"\n",
            "Score: 0.030166059732437134\t Topic: 0.012*\"father\" + 0.012*\"friend\" + 0.010*\"love\" + 0.009*\"day\" + 0.008*\"meet\" + 0.008*\"tell\" + 0.008*\"go\" + 0.007*\"get\" + 0.007*\"famili\" + 0.006*\"reveal\"\n",
            "Score: 0.030095169320702553\t Topic: 0.009*\"friend\" + 0.009*\"love\" + 0.007*\"school\" + 0.007*\"leav\" + 0.006*\"year\" + 0.006*\"return\" + 0.006*\"tell\" + 0.006*\"new\" + 0.006*\"home\" + 0.006*\"take\"\n"
          ]
        }
      ]
    },
    {
      "cell_type": "markdown",
      "source": [
        "The dominant topic is clear has a score of 0.9 and has the main tokens as: 'tell', 'get', 'leave' and 'meet'. The other topics have very small scores, so the algorithm is very unambiguous in determining the topic the sentence falls in. "
      ],
      "metadata": {
        "id": "qU-SbqKdcLAf"
      }
    },
    {
      "cell_type": "code",
      "source": [
        "# LDA TF-IDF\n",
        "for index, score in sorted(lda_model_tfidf[bow_vector], key=lambda tup: tup[1], reverse=True):\n",
        "    print(\"Score: {}\\t Topic: {}\".format(score, lda_model_tfidf.print_topic(index, 10)))"
      ],
      "metadata": {
        "id": "nMwkkjGPNrTA",
        "colab": {
          "base_uri": "https://localhost:8080/"
        },
        "outputId": "4c99b93f-58fc-4910-8566-0940207349d5"
      },
      "execution_count": 48,
      "outputs": [
        {
          "output_type": "stream",
          "name": "stdout",
          "text": [
            "Score: 0.9109057188034058\t Topic: 0.004*\"ghost\" + 0.004*\"team\" + 0.003*\"father\" + 0.003*\"hous\" + 0.003*\"film\" + 0.003*\"love\" + 0.003*\"babi\" + 0.003*\"wed\" + 0.003*\"marri\" + 0.003*\"win\"\n",
            "Score: 0.029822563752532005\t Topic: 0.005*\"villag\" + 0.003*\"father\" + 0.003*\"school\" + 0.003*\"guy\" + 0.003*\"kill\" + 0.003*\"girl\" + 0.003*\"polic\" + 0.003*\"love\" + 0.003*\"set\" + 0.002*\"wed\"\n",
            "Score: 0.029704175889492035\t Topic: 0.003*\"jam\" + 0.003*\"movi\" + 0.003*\"kill\" + 0.003*\"meet\" + 0.003*\"krishna\" + 0.003*\"life\" + 0.003*\"ami\" + 0.003*\"wife\" + 0.003*\"famili\" + 0.003*\"year\"\n",
            "Score: 0.02956758625805378\t Topic: 0.004*\"love\" + 0.004*\"man\" + 0.004*\"film\" + 0.003*\"girl\" + 0.003*\"stori\" + 0.003*\"dream\" + 0.003*\"comedi\" + 0.003*\"ghost\" + 0.003*\"friend\" + 0.003*\"villag\"\n"
          ]
        }
      ]
    },
    {
      "cell_type": "markdown",
      "source": [
        "In this model, the dominant topic has a score of 0.91 and the key tokens are: 'ghost', 'team', 'house' and 'father'. The dominant tokens seem to reflect better the theme of the sentence. The model in this case has even matched a atoken from the input sentence. The 'house' toke. The TF-IDF produces much clearer matching of the words to the topics."
      ],
      "metadata": {
        "id": "QwdzXgQtdAKE"
      }
    },
    {
      "cell_type": "markdown",
      "source": [
        "##4.2 Visaulization"
      ],
      "metadata": {
        "id": "A4Lj3ZZPa_vv"
      }
    },
    {
      "cell_type": "markdown",
      "source": [
        "###4.2.1 LDA Model"
      ],
      "metadata": {
        "id": "4BL9sedRdwWM"
      }
    },
    {
      "cell_type": "markdown",
      "source": [
        "###Understanding the Visualization\n",
        "LDAvis creates interactive visualization.\n",
        "\n",
        "When you generate visualizations you can see intertopic distances on the map via multi-dimensional scaling on the left. On the right hand side, the top most important terms for each selected topic.\n",
        "\n",
        "The bars represent the terms that are most useful in interpreting the topic currently selected.\n",
        "\n",
        "Two juxtaposed bars shoowcase the topic specific frequency of each token in red and the corpus wide frequency in blue-grey.\n",
        "\n",
        "Relevance is denoted by lambda and represents the weight assigned to the probability of a tken in a topic relative to its lift. When lambda =1 , the terms are ranked by their probability within the topic - the regular method. When lambda = 0, the terms are ranked by their lift only. The value of lambda can be adjusted in the interface.\n",
        "\n",
        "Lift is the. ratio of the term's probability within a topic to it's margin probability across the corpus. On one hand, it decreases the ranking of globally common tokens and on the other, it gives a high rankig to tokens that occur in a single topic."
      ],
      "metadata": {
        "id": "llF81xDAh1Mc"
      }
    },
    {
      "cell_type": "code",
      "source": [
        "!pip install pyLDAvis\n",
        "\n",
        "import pyLDAvis\n",
        "import pyLDAvis.gensim_models\n",
        "\n",
        "pyLDAvis.enable_notebook()"
      ],
      "metadata": {
        "id": "qCYz0JgDN1gz",
        "colab": {
          "base_uri": "https://localhost:8080/"
        },
        "outputId": "1a4ffee8-9f1d-4e8f-e946-d7699fe89672"
      },
      "execution_count": 51,
      "outputs": [
        {
          "output_type": "stream",
          "name": "stdout",
          "text": [
            "Looking in indexes: https://pypi.org/simple, https://us-python.pkg.dev/colab-wheels/public/simple/\n",
            "Collecting pyLDAvis\n",
            "  Downloading pyLDAvis-3.3.1.tar.gz (1.7 MB)\n",
            "\u001b[K     |████████████████████████████████| 1.7 MB 7.3 MB/s \n",
            "\u001b[?25h  Installing build dependencies ... \u001b[?25l\u001b[?25hdone\n",
            "  Getting requirements to build wheel ... \u001b[?25l\u001b[?25hdone\n",
            "  Installing backend dependencies ... \u001b[?25l\u001b[?25hdone\n",
            "    Preparing wheel metadata ... \u001b[?25l\u001b[?25hdone\n",
            "Collecting sklearn\n",
            "  Downloading sklearn-0.0.post1.tar.gz (3.6 kB)\n",
            "Requirement already satisfied: gensim in /usr/local/lib/python3.8/dist-packages (from pyLDAvis) (3.6.0)\n",
            "Requirement already satisfied: setuptools in /usr/local/lib/python3.8/dist-packages (from pyLDAvis) (57.4.0)\n",
            "Requirement already satisfied: scipy in /usr/local/lib/python3.8/dist-packages (from pyLDAvis) (1.7.3)\n",
            "Requirement already satisfied: pandas>=1.2.0 in /usr/local/lib/python3.8/dist-packages (from pyLDAvis) (1.3.5)\n",
            "Requirement already satisfied: future in /usr/local/lib/python3.8/dist-packages (from pyLDAvis) (0.16.0)\n",
            "Requirement already satisfied: joblib in /usr/local/lib/python3.8/dist-packages (from pyLDAvis) (1.2.0)\n",
            "Requirement already satisfied: numexpr in /usr/local/lib/python3.8/dist-packages (from pyLDAvis) (2.8.4)\n",
            "Requirement already satisfied: numpy>=1.20.0 in /usr/local/lib/python3.8/dist-packages (from pyLDAvis) (1.21.6)\n",
            "Collecting funcy\n",
            "  Downloading funcy-1.17-py2.py3-none-any.whl (33 kB)\n",
            "Requirement already satisfied: scikit-learn in /usr/local/lib/python3.8/dist-packages (from pyLDAvis) (1.0.2)\n",
            "Requirement already satisfied: jinja2 in /usr/local/lib/python3.8/dist-packages (from pyLDAvis) (2.11.3)\n",
            "Requirement already satisfied: python-dateutil>=2.7.3 in /usr/local/lib/python3.8/dist-packages (from pandas>=1.2.0->pyLDAvis) (2.8.2)\n",
            "Requirement already satisfied: pytz>=2017.3 in /usr/local/lib/python3.8/dist-packages (from pandas>=1.2.0->pyLDAvis) (2022.6)\n",
            "Requirement already satisfied: six>=1.5 in /usr/local/lib/python3.8/dist-packages (from python-dateutil>=2.7.3->pandas>=1.2.0->pyLDAvis) (1.15.0)\n",
            "Requirement already satisfied: smart-open>=1.2.1 in /usr/local/lib/python3.8/dist-packages (from gensim->pyLDAvis) (6.3.0)\n",
            "Requirement already satisfied: MarkupSafe>=0.23 in /usr/local/lib/python3.8/dist-packages (from jinja2->pyLDAvis) (2.0.1)\n",
            "Requirement already satisfied: threadpoolctl>=2.0.0 in /usr/local/lib/python3.8/dist-packages (from scikit-learn->pyLDAvis) (3.1.0)\n",
            "Building wheels for collected packages: pyLDAvis, sklearn\n",
            "  Building wheel for pyLDAvis (PEP 517) ... \u001b[?25l\u001b[?25hdone\n",
            "  Created wheel for pyLDAvis: filename=pyLDAvis-3.3.1-py2.py3-none-any.whl size=136898 sha256=c7e18085fac6aac9acd46d7e62658707b3d745bbb0b1bf9a74db041a09962477\n",
            "  Stored in directory: /root/.cache/pip/wheels/90/61/ec/9dbe9efc3acf9c4e37ba70fbbcc3f3a0ebd121060aa593181a\n",
            "  Building wheel for sklearn (setup.py) ... \u001b[?25l\u001b[?25hdone\n",
            "  Created wheel for sklearn: filename=sklearn-0.0.post1-py3-none-any.whl size=2344 sha256=06fc0c00bc1af46df378d484cddabddbcddce05757ff559500a0d2f518da5871\n",
            "  Stored in directory: /root/.cache/pip/wheels/14/25/f7/1cc0956978ae479e75140219088deb7a36f60459df242b1a72\n",
            "Successfully built pyLDAvis sklearn\n",
            "Installing collected packages: sklearn, funcy, pyLDAvis\n",
            "Successfully installed funcy-1.17 pyLDAvis-3.3.1 sklearn-0.0.post1\n"
          ]
        },
        {
          "output_type": "stream",
          "name": "stderr",
          "text": [
            "/usr/local/lib/python3.8/dist-packages/past/types/oldstr.py:5: DeprecationWarning: Using or importing the ABCs from 'collections' instead of from 'collections.abc' is deprecated since Python 3.3, and in 3.10 it will stop working\n",
            "  from collections import Iterable\n"
          ]
        }
      ]
    },
    {
      "cell_type": "markdown",
      "source": [
        "###LDA using BoW"
      ],
      "metadata": {
        "id": "plTODf0ZkOcE"
      }
    },
    {
      "cell_type": "code",
      "source": [
        "lda_display = pyLDAvis.gensim_models.prepare(lda_model, bow_corpus, dictionary, sort_topics=False)\n",
        "pyLDAvis.display(lda_display)"
      ],
      "metadata": {
        "id": "p4BzOXRQN40_",
        "colab": {
          "base_uri": "https://localhost:8080/",
          "height": 917
        },
        "outputId": "e85e0c0a-994b-4195-daa5-decb897e4625"
      },
      "execution_count": 52,
      "outputs": [
        {
          "output_type": "stream",
          "name": "stderr",
          "text": [
            "/usr/local/lib/python3.8/dist-packages/pyLDAvis/_prepare.py:246: FutureWarning: In a future version of pandas all arguments of DataFrame.drop except for the argument 'labels' will be keyword-only\n",
            "  default_term_info = default_term_info.sort_values(\n"
          ]
        },
        {
          "output_type": "execute_result",
          "data": {
            "text/plain": [
              "<IPython.core.display.HTML object>"
            ],
            "text/html": [
              "\n",
              "<link rel=\"stylesheet\" type=\"text/css\" href=\"https://cdn.jsdelivr.net/gh/bmabey/pyLDAvis@3.3.1/pyLDAvis/js/ldavis.v1.0.0.css\">\n",
              "\n",
              "\n",
              "<div id=\"ldavis_el1051397264427756009371092119\"></div>\n",
              "<script type=\"text/javascript\">\n",
              "\n",
              "var ldavis_el1051397264427756009371092119_data = {\"mdsDat\": {\"x\": [-0.02617006494948716, -0.006409635811540468, 0.015395507248328173, 0.01718419351269942], \"y\": [-0.011184452926918973, 0.02164671130493099, -0.01444364477015323, 0.003981386392141246], \"topics\": [1, 2, 3, 4], \"cluster\": [1, 1, 1, 1], \"Freq\": [16.151790692528728, 31.34102678966962, 32.69778918418784, 19.809393333613812]}, \"tinfo\": {\"Term\": [\"ghost\", \"love\", \"ladi\", \"friend\", \"jam\", \"school\", \"hous\", \"wed\", \"mari\", \"stori\", \"return\", \"year\", \"kill\", \"home\", \"kumar\", \"mother\", \"ram\", \"team\", \"son\", \"girl\", \"michael\", \"bodi\", \"babi\", \"krishna\", \"human\", \"villag\", \"live\", \"king\", \"feel\", \"father\", \"mari\", \"michael\", \"sad\", \"launch\", \"hall\", \"ladi\", \"histori\", \"presid\", \"male\", \"memori\", \"rout\", \"properti\", \"red\", \"human\", \"countri\", \"grandfath\", \"femal\", \"rat\", \"sexual\", \"island\", \"mad\", \"difficult\", \"robot\", \"serv\", \"half\", \"littl\", \"exact\", \"surviv\", \"jessica\", \"mansion\", \"war\", \"world\", \"wed\", \"london\", \"club\", \"romant\", \"allow\", \"school\", \"boss\", \"feel\", \"year\", \"love\", \"return\", \"arriv\", \"friend\", \"son\", \"brother\", \"home\", \"new\", \"old\", \"leav\", \"babi\", \"girl\", \"discov\", \"take\", \"run\", \"job\", \"reveal\", \"tell\", \"time\", \"plan\", \"later\", \"day\", \"meet\", \"marri\", \"father\", \"work\", \"hous\", \"get\", \"come\", \"jam\", \"captain\", \"ship\", \"minist\", \"boat\", \"politician\", \"race\", \"abil\", \"crime\", \"bomb\", \"detect\", \"speed\", \"coach\", \"toy\", \"product\", \"hope\", \"cat\", \"hometown\", \"planet\", \"monster\", \"sentenc\", \"concern\", \"easi\", \"knowledg\", \"swim\", \"hero\", \"suit\", \"season\", \"hostag\", \"crew\", \"spot\", \"phone\", \"cross\", \"divorc\", \"joy\", \"team\", \"use\", \"villag\", \"polic\", \"student\", \"fight\", \"arrest\", \"offic\", \"train\", \"tri\", \"scene\", \"destroy\", \"room\", \"tell\", \"help\", \"return\", \"leav\", \"take\", \"caus\", \"get\", \"school\", \"money\", \"learn\", \"meet\", \"go\", \"order\", \"come\", \"give\", \"later\", \"home\", \"new\", \"time\", \"reveal\", \"start\", \"kill\", \"call\", \"day\", \"father\", \"end\", \"friend\", \"ask\", \"know\", \"hous\", \"lucki\", \"krishna\", \"produc\", \"bodi\", \"bank\", \"babu\", \"bulli\", \"match\", \"templ\", \"david\", \"version\", \"jealous\", \"closer\", \"blind\", \"resort\", \"desper\", \"romanc\", \"innoc\", \"profession\", \"distanc\", \"particular\", \"jail\", \"lesson\", \"round\", \"older\", \"photograph\", \"medic\", \"ambit\", \"lie\", \"struggl\", \"sister\", \"father\", \"relationship\", \"condit\", \"love\", \"film\", \"propos\", \"child\", \"friend\", \"girl\", \"day\", \"final\", \"song\", \"boyfriend\", \"famili\", \"go\", \"meet\", \"break\", \"mother\", \"marriag\", \"reveal\", \"end\", \"fall\", \"want\", \"find\", \"tell\", \"get\", \"see\", \"marri\", \"decid\", \"ask\", \"help\", \"time\", \"work\", \"leav\", \"tri\", \"later\", \"new\", \"life\", \"take\", \"hous\", \"come\", \"kill\", \"ram\", \"martin\", \"kumar\", \"twist\", \"ghost\", \"magic\", \"rob\", \"mark\", \"haunt\", \"comedi\", \"woo\", \"king\", \"flashback\", \"handsom\", \"storm\", \"shift\", \"hang\", \"rent\", \"kid\", \"stone\", \"frighten\", \"card\", \"smart\", \"devic\", \"deep\", \"colleagu\", \"stage\", \"major\", \"narrat\", \"chief\", \"demand\", \"children\", \"stori\", \"compani\", \"hous\", \"kill\", \"dream\", \"happen\", \"inspector\", \"live\", \"mother\", \"wife\", \"decid\", \"boy\", \"life\", \"plan\", \"famili\", \"home\", \"know\", \"forc\", \"time\", \"come\", \"group\", \"friend\", \"later\", \"year\", \"work\", \"get\", \"love\", \"tell\", \"go\", \"take\", \"end\", \"leav\", \"father\", \"man\", \"day\", \"help\", \"find\", \"meet\"], \"Freq\": [129.0, 411.0, 81.0, 500.0, 116.0, 278.0, 323.0, 126.0, 39.0, 216.0, 272.0, 268.0, 315.0, 280.0, 51.0, 231.0, 38.0, 120.0, 169.0, 265.0, 30.0, 124.0, 124.0, 65.0, 45.0, 169.0, 244.0, 84.0, 146.0, 447.0, 26.670348296165894, 20.292303830723597, 18.14582229550887, 10.918449104817498, 11.833882387208723, 44.20862302228974, 8.121015485585863, 13.474147364407422, 7.094842930397891, 21.028794098834243, 5.598496589084017, 8.744956385211623, 16.24040520527852, 21.573290574201888, 9.395749899808667, 9.792491733217416, 12.628959762563783, 5.70733989827573, 6.449028037622397, 12.06649628426511, 5.204970795389362, 5.571298785086817, 8.319894167905474, 6.249381696125749, 6.313116298761605, 23.760790640864393, 4.9588286942526185, 10.148495537040242, 7.704042598503964, 10.54244380088602, 13.045445492330499, 26.091184080484, 40.60414890952129, 13.63464366032792, 22.18830178292339, 10.849885290535488, 15.026893470896015, 70.39913452941519, 21.41737275561021, 39.5052319174041, 62.007311097338224, 85.44780066931901, 61.052395746758855, 44.07649634120567, 87.43623600650864, 40.07882960226011, 36.32550402800763, 54.92997205557291, 55.58306282317327, 35.14152284269796, 68.76176387346862, 31.49640916222162, 48.46630239321442, 33.81252562952555, 54.147836692652206, 37.63222137900978, 32.29123236854267, 49.84243307842306, 59.868100857326134, 49.40954886634059, 42.24663500350366, 47.22327842824802, 49.24808054560084, 50.18627569540249, 38.613414601970014, 49.764968768328536, 41.10546641665209, 42.960112669886556, 45.805303734683854, 37.57845203435593, 91.9534883859383, 35.0159153775755, 26.66206775846321, 27.827693687331607, 14.649389077692966, 8.18403327871284, 38.28791804263522, 16.43549265995639, 30.234046100118587, 11.66139003064192, 27.713453313353035, 9.010492615687829, 17.270968284541826, 12.074098738320089, 20.631596491462716, 16.470108228615302, 16.98192056624499, 11.363960286189062, 19.4652463270982, 17.040310386933765, 9.498803955784659, 7.238305018540048, 6.442070294831079, 9.369976679144955, 22.944629161151394, 11.375941274012925, 11.939263195118244, 9.469274697458166, 7.700948208568845, 26.244339387890918, 21.690202185500983, 41.40089103360198, 18.43851477042371, 35.65673716150957, 37.611295476431266, 65.23556563102274, 66.76265394147494, 88.58319852204616, 99.14772389669753, 47.50194415933637, 104.34705939813612, 35.790274190455335, 68.90863036391886, 42.941557648815795, 134.07083049486832, 36.44430549665913, 42.86722353930599, 50.52307253717238, 171.3572819138954, 129.2945907043659, 108.19014618928105, 147.34219270101465, 133.6806053004984, 64.11695058354518, 148.17721401222906, 106.86064531755576, 75.45075623627842, 69.48086526910528, 137.28110430258076, 127.04238715160754, 55.41039583465954, 103.55715395948374, 78.62758191629273, 104.79656526728667, 94.15500434029333, 91.50152989105855, 97.27506417553194, 92.12955314525902, 73.78154892840956, 86.93199490884159, 65.72944980775152, 88.48472026722395, 91.56360975824751, 78.28912845198906, 87.0287669892435, 74.64989395877062, 74.88662565958847, 76.29294881185318, 43.520340674556635, 50.592629200243834, 25.347342276419564, 90.54608060259604, 20.641056632052077, 28.48770915114044, 17.353973599204505, 27.447498751882623, 15.054763758198455, 18.658122892618714, 7.628299214386102, 9.347234377492622, 9.254552022850985, 9.22133744639825, 14.72109175253547, 21.530594466776947, 9.812693307091159, 12.835928997072935, 16.309719877758223, 8.855318283788998, 10.475157286965242, 16.337913039753342, 7.523781247961491, 8.675258334413346, 12.644227547827917, 11.537949565318625, 11.469863218165662, 8.48519264018954, 30.38636471263344, 21.947818034441006, 57.78064319275251, 240.56862633680694, 82.53368779897059, 20.171512081251066, 206.84882582523414, 126.76572734683121, 35.73532419270407, 38.08679243748388, 231.701677562481, 128.49771088660182, 173.02923208915774, 78.32370981306258, 30.938634546065977, 30.70541516597431, 132.30786700332155, 158.42133597474285, 162.48875353579095, 71.50040834923725, 100.5754850855442, 63.914097569798834, 128.77821476997056, 113.5801720831126, 84.00262477994885, 93.66779882708568, 101.73231328698753, 161.4108124160367, 146.39916352132337, 81.36454768725777, 83.8199579365454, 104.10324603147426, 93.606007500319, 116.79923598367878, 115.56238036548378, 99.94556585116129, 126.99399832172232, 108.93542976581321, 109.73237563830995, 96.46880476847856, 94.05029316593233, 105.0428728520489, 98.58102051900416, 95.37968280250067, 92.38750849532698, 27.118090626318686, 24.327254790357948, 34.002811005077675, 7.110445865722779, 80.00755343774526, 15.843732077675572, 8.005906406590439, 12.37949349179222, 11.57191372779332, 11.103798748313496, 8.57596704700172, 38.28632610374865, 8.088706890888059, 5.5186770269593834, 14.710951805576594, 5.859164048347391, 18.515004112602554, 8.798036773404712, 17.30223240133823, 19.26431356672936, 5.257583969753575, 9.513777401010792, 4.398004223819684, 9.463327624437477, 5.184479991909803, 7.201215023414878, 9.527039098962186, 7.90057037351608, 7.4683523369425435, 8.203324497731142, 17.80649707459853, 36.246573190548595, 76.45442096523912, 26.05702560642698, 105.45920138369378, 99.94997372900015, 43.01015850033931, 29.63386891927483, 20.615904483125853, 74.83652891945707, 70.31787687418768, 54.51412858063682, 78.4180144233608, 44.21817287848284, 72.65500242423991, 66.63055053754697, 76.04194838862561, 70.43811889006716, 63.799162227994586, 40.44042912911661, 76.46382891444493, 69.91195897024473, 38.07280778192229, 94.15997916988836, 70.48806807949244, 61.15669677186721, 61.166284455028006, 76.9571873874841, 75.76035021466569, 81.63056790124416, 72.35582402280882, 67.7272702807572, 57.15276907353485, 63.72303928137581, 65.33202887970043, 52.21371930757469, 59.7378376144776, 57.14790502337829, 52.493413424949075, 52.54626644108445], \"Total\": [129.0, 411.0, 81.0, 500.0, 116.0, 278.0, 323.0, 126.0, 39.0, 216.0, 272.0, 268.0, 315.0, 280.0, 51.0, 231.0, 38.0, 120.0, 169.0, 265.0, 30.0, 124.0, 124.0, 65.0, 45.0, 169.0, 244.0, 84.0, 146.0, 447.0, 39.36385770592728, 30.149026694500147, 29.382810578489874, 18.86736620096162, 20.999934769551103, 81.61350723496268, 15.140770625111262, 26.30635442575898, 14.116604274104436, 42.01438141513001, 11.519875710631947, 18.035642805875934, 34.33569193484775, 45.888217428225865, 20.09931661520828, 21.314789094958456, 29.057126177472085, 13.417647161189935, 15.228727938540445, 28.78846724593625, 12.469165265603202, 13.36806902105877, 20.158189710626292, 15.232903718681744, 15.41793947499385, 58.77559263171055, 12.38737835049789, 25.62241848252174, 19.62683304348496, 26.93381778447344, 33.537215094896446, 76.22424852311345, 126.29360515710367, 37.33391931385522, 67.73466860635259, 29.270865862428025, 43.19027615567115, 278.3803402235648, 67.74692179430123, 146.27637759973723, 268.3419536567765, 411.4391005841288, 272.46581543519153, 186.35115409188708, 500.32665972812146, 169.49442979452868, 148.6556384991531, 280.1365857271726, 288.68984798722806, 145.73377975625286, 406.8209941775814, 124.68100333977898, 265.18180745655513, 146.0548686713908, 360.5985851259567, 184.1814008072405, 139.29363091145726, 322.1278709595944, 474.2667630885024, 338.71082232180123, 249.47711774218078, 332.2402874133371, 370.49987051646013, 402.50239997485863, 206.4532208076945, 447.2292337430834, 272.4369821749157, 323.29328338443764, 417.33886865572043, 306.4272477665851, 116.95700938357103, 46.348559884866205, 35.51085242768285, 38.90341074668156, 20.700323378371692, 11.753781611164298, 56.17859190497251, 24.600299497817215, 45.4375903351503, 17.714345282370658, 42.323215491864865, 13.791127537940316, 26.531289395715977, 18.71531445202678, 32.035527292913834, 26.4792049533025, 27.460863251452018, 18.501572087241623, 31.720568357710906, 27.948201866608464, 15.708883533215307, 12.045491551410251, 10.7830500409795, 15.711947252804503, 38.716599500536596, 19.70604372785191, 20.790516108034186, 16.564028996704604, 13.538759231757195, 46.262163518451906, 38.26787117575181, 74.11692684130732, 32.50338967279725, 64.15423968799307, 67.93047998685917, 120.57957237944524, 124.29350548509026, 169.13040066804462, 192.8052837777331, 91.45578416687857, 225.73501168962744, 67.88558763833548, 146.71840288848105, 84.15158193187462, 327.4876113551967, 69.4047726285241, 84.59323237512955, 104.45039055615362, 474.2667630885024, 338.98245003745603, 272.46581543519153, 406.8209941775814, 360.5985851259567, 142.34171291317023, 417.33886865572043, 278.3803402235648, 178.65908248643478, 161.00113336421106, 402.50239997485863, 387.9027696128627, 120.42600428251295, 306.4272477665851, 203.67018992019297, 332.2402874133371, 280.1365857271726, 288.68984798722806, 338.71082232180123, 322.1278709595944, 219.73254196086253, 315.16723299542974, 174.61861845303798, 370.49987051646013, 447.2292337430834, 284.98653682798573, 500.32665972812146, 242.87451239706365, 249.47304970016853, 323.29328338443764, 52.79668564253175, 65.26225101809463, 34.520528470624384, 124.65261886272064, 29.622812101591663, 43.119015927504094, 26.44531586360437, 42.314422524420785, 23.359843903048137, 29.585405494957488, 12.1273314929722, 15.188860661249402, 15.040246804657748, 15.004746186311097, 24.07978017846911, 35.26177846253984, 16.212776171485412, 21.212094564421502, 27.170586677279676, 14.991032279649993, 18.032097458581138, 28.207647719573146, 13.033333602379997, 15.065351719146216, 22.05828792896716, 20.206442153980714, 20.189435325690425, 15.030973246649255, 53.867826467170744, 38.943650628201596, 103.27408475187089, 447.2292337430834, 154.022862341127, 36.15033494275585, 411.4391005841288, 249.76063555416522, 66.25899057913435, 70.95529300501784, 500.32665972812146, 265.18180745655513, 370.49987051646013, 159.26390914764153, 57.986491935809205, 57.70378712726599, 302.2798870321328, 387.9027696128627, 402.50239997485863, 154.7738398979889, 231.96654002286428, 137.28426396211603, 322.1278709595944, 284.98653682798573, 195.69041019917245, 225.4950255453802, 250.86067081788627, 474.2667630885024, 417.33886865572043, 193.8228048114285, 206.4532208076945, 282.61887954977215, 242.87451239706365, 338.98245003745603, 338.71082232180123, 272.4369821749157, 406.8209941775814, 327.4876113551967, 332.2402874133371, 288.68984798722806, 272.44507088782944, 360.5985851259567, 323.29328338443764, 306.4272477665851, 315.16723299542974, 38.141000970114575, 36.258454437644055, 51.369804027032956, 11.165488061450045, 129.6919225366355, 29.074694705997764, 15.155109948155086, 24.132667131066917, 22.60158784847065, 24.077269565450308, 18.85304419864542, 84.27801482799846, 17.9941658565414, 12.346463970235284, 33.310725131764414, 13.370313949835431, 42.4552080442626, 20.187039833734975, 40.1724919928421, 45.23757471772815, 12.501546871954549, 22.628062922648304, 10.463735134268834, 22.557191121619468, 12.398656633557334, 17.250657575200023, 22.93049064727454, 19.029397084662694, 18.169398590412882, 19.98482726723755, 43.648906842563406, 95.92351436405795, 216.21621931443445, 70.45126848081551, 323.29328338443764, 315.16723299542974, 124.55376743180659, 83.31691125605292, 55.295715580406856, 244.7383735250853, 231.96654002286428, 178.89344595899792, 282.61887954977215, 143.18762048919515, 272.44507088782944, 249.47711774218078, 302.2798870321328, 280.1365857271726, 249.47304970016853, 137.49165935489708, 338.71082232180123, 306.4272477665851, 129.21877190308234, 500.32665972812146, 332.2402874133371, 268.3419536567765, 272.4369821749157, 417.33886865572043, 411.4391005841288, 474.2667630885024, 387.9027696128627, 360.5985851259567, 284.98653682798573, 406.8209941775814, 447.2292337430834, 235.33584952443158, 370.49987051646013, 338.98245003745603, 250.86067081788627, 402.50239997485863], \"Category\": [\"Default\", \"Default\", \"Default\", \"Default\", \"Default\", \"Default\", \"Default\", \"Default\", \"Default\", \"Default\", \"Default\", \"Default\", \"Default\", \"Default\", \"Default\", \"Default\", \"Default\", \"Default\", \"Default\", \"Default\", \"Default\", \"Default\", \"Default\", \"Default\", \"Default\", \"Default\", \"Default\", \"Default\", \"Default\", \"Default\", \"Topic1\", \"Topic1\", \"Topic1\", \"Topic1\", \"Topic1\", \"Topic1\", \"Topic1\", \"Topic1\", \"Topic1\", \"Topic1\", \"Topic1\", \"Topic1\", \"Topic1\", \"Topic1\", \"Topic1\", \"Topic1\", \"Topic1\", \"Topic1\", \"Topic1\", \"Topic1\", \"Topic1\", \"Topic1\", \"Topic1\", \"Topic1\", \"Topic1\", \"Topic1\", \"Topic1\", \"Topic1\", \"Topic1\", \"Topic1\", \"Topic1\", \"Topic1\", \"Topic1\", \"Topic1\", \"Topic1\", \"Topic1\", \"Topic1\", \"Topic1\", \"Topic1\", \"Topic1\", \"Topic1\", \"Topic1\", \"Topic1\", \"Topic1\", \"Topic1\", \"Topic1\", \"Topic1\", \"Topic1\", \"Topic1\", \"Topic1\", \"Topic1\", \"Topic1\", \"Topic1\", \"Topic1\", \"Topic1\", \"Topic1\", \"Topic1\", \"Topic1\", \"Topic1\", \"Topic1\", \"Topic1\", \"Topic1\", \"Topic1\", \"Topic1\", \"Topic1\", \"Topic1\", \"Topic1\", \"Topic1\", \"Topic1\", \"Topic1\", \"Topic2\", \"Topic2\", \"Topic2\", \"Topic2\", \"Topic2\", \"Topic2\", \"Topic2\", \"Topic2\", \"Topic2\", \"Topic2\", \"Topic2\", \"Topic2\", \"Topic2\", \"Topic2\", \"Topic2\", \"Topic2\", \"Topic2\", \"Topic2\", \"Topic2\", \"Topic2\", \"Topic2\", \"Topic2\", \"Topic2\", \"Topic2\", \"Topic2\", \"Topic2\", \"Topic2\", \"Topic2\", \"Topic2\", \"Topic2\", \"Topic2\", \"Topic2\", \"Topic2\", \"Topic2\", \"Topic2\", \"Topic2\", \"Topic2\", \"Topic2\", \"Topic2\", \"Topic2\", \"Topic2\", \"Topic2\", \"Topic2\", \"Topic2\", \"Topic2\", \"Topic2\", \"Topic2\", \"Topic2\", \"Topic2\", \"Topic2\", \"Topic2\", \"Topic2\", \"Topic2\", \"Topic2\", \"Topic2\", \"Topic2\", \"Topic2\", \"Topic2\", \"Topic2\", \"Topic2\", \"Topic2\", \"Topic2\", \"Topic2\", \"Topic2\", \"Topic2\", \"Topic2\", \"Topic2\", \"Topic2\", \"Topic2\", \"Topic2\", \"Topic2\", \"Topic2\", \"Topic2\", \"Topic2\", \"Topic2\", \"Topic2\", \"Topic2\", \"Topic2\", \"Topic3\", \"Topic3\", \"Topic3\", \"Topic3\", \"Topic3\", \"Topic3\", \"Topic3\", \"Topic3\", \"Topic3\", \"Topic3\", \"Topic3\", \"Topic3\", \"Topic3\", \"Topic3\", \"Topic3\", \"Topic3\", \"Topic3\", \"Topic3\", \"Topic3\", \"Topic3\", \"Topic3\", \"Topic3\", \"Topic3\", \"Topic3\", \"Topic3\", \"Topic3\", \"Topic3\", \"Topic3\", \"Topic3\", \"Topic3\", \"Topic3\", \"Topic3\", \"Topic3\", \"Topic3\", \"Topic3\", \"Topic3\", \"Topic3\", \"Topic3\", \"Topic3\", \"Topic3\", \"Topic3\", \"Topic3\", \"Topic3\", \"Topic3\", \"Topic3\", \"Topic3\", \"Topic3\", \"Topic3\", \"Topic3\", \"Topic3\", \"Topic3\", \"Topic3\", \"Topic3\", \"Topic3\", \"Topic3\", \"Topic3\", \"Topic3\", \"Topic3\", \"Topic3\", \"Topic3\", \"Topic3\", \"Topic3\", \"Topic3\", \"Topic3\", \"Topic3\", \"Topic3\", \"Topic3\", \"Topic3\", \"Topic3\", \"Topic3\", \"Topic3\", \"Topic3\", \"Topic3\", \"Topic4\", \"Topic4\", \"Topic4\", \"Topic4\", \"Topic4\", \"Topic4\", \"Topic4\", \"Topic4\", \"Topic4\", \"Topic4\", \"Topic4\", \"Topic4\", \"Topic4\", \"Topic4\", \"Topic4\", \"Topic4\", \"Topic4\", \"Topic4\", \"Topic4\", \"Topic4\", \"Topic4\", \"Topic4\", \"Topic4\", \"Topic4\", \"Topic4\", \"Topic4\", \"Topic4\", \"Topic4\", \"Topic4\", \"Topic4\", \"Topic4\", \"Topic4\", \"Topic4\", \"Topic4\", \"Topic4\", \"Topic4\", \"Topic4\", \"Topic4\", \"Topic4\", \"Topic4\", \"Topic4\", \"Topic4\", \"Topic4\", \"Topic4\", \"Topic4\", \"Topic4\", \"Topic4\", \"Topic4\", \"Topic4\", \"Topic4\", \"Topic4\", \"Topic4\", \"Topic4\", \"Topic4\", \"Topic4\", \"Topic4\", \"Topic4\", \"Topic4\", \"Topic4\", \"Topic4\", \"Topic4\", \"Topic4\", \"Topic4\", \"Topic4\", \"Topic4\", \"Topic4\", \"Topic4\", \"Topic4\", \"Topic4\", \"Topic4\"], \"logprob\": [30.0, 29.0, 28.0, 27.0, 26.0, 25.0, 24.0, 23.0, 22.0, 21.0, 20.0, 19.0, 18.0, 17.0, 16.0, 15.0, 14.0, 13.0, 12.0, 11.0, 10.0, 9.0, 8.0, 7.0, 6.0, 5.0, 4.0, 3.0, 2.0, 1.0, -5.9101, -6.1834, -6.2952, -6.8032, -6.7227, -5.4047, -7.0992, -6.5929, -7.2343, -6.1478, -7.4712, -7.0252, -6.4062, -6.1222, -6.9534, -6.9121, -6.6577, -7.4519, -7.3297, -6.7032, -7.5441, -7.476, -7.075, -7.3612, -7.351, -6.0256, -7.5925, -6.8763, -7.1519, -6.8383, -6.6252, -5.9321, -5.4898, -6.5811, -6.0941, -6.8095, -6.4838, -4.9395, -6.1295, -5.5172, -5.0664, -4.7458, -5.0819, -5.4077, -4.7228, -5.5028, -5.6011, -5.1876, -5.1758, -5.6343, -4.963, -5.7438, -5.3128, -5.6728, -5.202, -5.5658, -5.7189, -5.2848, -5.1015, -5.2935, -5.4501, -5.3388, -5.2968, -5.2779, -5.5401, -5.2864, -5.4775, -5.4334, -5.3693, -5.5672, -5.3353, -6.3008, -6.5733, -6.5305, -7.1722, -7.7544, -6.2114, -7.0571, -6.4476, -7.4003, -6.5346, -7.6582, -7.0075, -7.3655, -6.8297, -7.055, -7.0244, -7.4261, -6.8879, -7.021, -7.6054, -7.8772, -7.9937, -7.6191, -6.7235, -7.4251, -7.3767, -7.6085, -7.8152, -6.5891, -6.7797, -6.1333, -6.9421, -6.2826, -6.2293, -5.6786, -5.6554, -5.3726, -5.26, -5.9958, -5.2088, -6.2789, -5.6238, -6.0967, -4.9582, -6.2608, -6.0985, -5.9341, -4.7128, -4.9945, -5.1727, -4.8638, -4.9611, -5.6959, -4.8582, -5.185, -5.5331, -5.6155, -4.9345, -5.012, -5.8418, -5.2164, -5.4918, -5.2045, -5.3116, -5.3402, -5.279, -5.3334, -5.5555, -5.3914, -5.671, -5.3737, -5.3395, -5.4962, -5.3903, -5.5438, -5.5406, -5.522, -6.1257, -5.9751, -6.6663, -5.3931, -6.8717, -6.5495, -7.0451, -6.5867, -7.1873, -6.9727, -7.8671, -7.6639, -7.6738, -7.6774, -7.2097, -6.8295, -7.6153, -7.3467, -7.1072, -7.7179, -7.5499, -7.1055, -7.8809, -7.7385, -7.3617, -7.4533, -7.4592, -7.7606, -6.485, -6.8103, -5.8423, -4.4159, -5.4857, -6.8947, -4.567, -5.0566, -6.3228, -6.2591, -4.4535, -5.043, -4.7455, -5.5381, -6.4669, -6.4745, -5.0138, -4.8337, -4.8083, -5.6292, -5.288, -5.7414, -5.0409, -5.1664, -5.4681, -5.3592, -5.2766, -4.815, -4.9126, -5.5, -5.4703, -5.2536, -5.3599, -5.1385, -5.1491, -5.2943, -5.0548, -5.2082, -5.2009, -5.3297, -5.3551, -5.2446, -5.3081, -5.3411, -5.373, -6.0976, -6.2062, -5.8714, -7.4362, -5.0157, -6.635, -7.3176, -6.8818, -6.9492, -6.9905, -7.2488, -5.7527, -7.3073, -7.6897, -6.7092, -7.6298, -6.4792, -7.2233, -6.547, -6.4395, -7.7381, -7.1451, -7.9166, -7.1504, -7.7521, -7.4235, -7.1437, -7.3309, -7.3871, -7.2933, -6.5182, -5.8074, -5.0611, -6.1375, -4.7395, -4.7931, -5.6364, -6.0089, -6.3717, -5.0825, -5.1448, -5.3993, -5.0357, -5.6087, -5.1121, -5.1986, -5.0665, -5.1431, -5.2421, -5.698, -5.061, -5.1506, -5.7583, -4.8528, -5.1424, -5.2844, -5.2842, -5.0545, -5.0702, -4.9956, -5.1162, -5.1823, -5.3521, -5.2432, -5.2183, -5.4424, -5.3078, -5.3522, -5.4371, -5.4361], \"loglift\": [30.0, 29.0, 28.0, 27.0, 26.0, 25.0, 24.0, 23.0, 22.0, 21.0, 20.0, 19.0, 18.0, 17.0, 16.0, 15.0, 14.0, 13.0, 12.0, 11.0, 10.0, 9.0, 8.0, 7.0, 6.0, 5.0, 4.0, 3.0, 2.0, 1.0, 1.4338, 1.4272, 1.3412, 1.2762, 1.2496, 1.2101, 1.2002, 1.1541, 1.1352, 1.131, 1.1016, 1.0993, 1.0745, 1.0684, 1.0627, 1.0454, 0.9899, 0.9683, 0.9639, 0.9536, 0.9495, 0.9479, 0.9382, 0.9322, 0.9302, 0.9174, 0.9076, 0.897, 0.888, 0.8852, 0.8789, 0.7511, 0.6884, 0.8159, 0.7071, 0.8307, 0.7674, 0.4483, 0.6716, 0.5141, 0.3581, 0.2514, 0.3274, 0.3814, 0.0788, 0.3812, 0.414, 0.1939, 0.1757, 0.4007, 0.0454, 0.4473, 0.1236, 0.36, -0.0729, 0.2351, 0.3614, -0.0429, -0.2465, -0.1019, 0.0473, -0.1278, -0.1948, -0.2588, 0.1467, -0.3726, -0.0681, -0.1951, -0.3864, -0.2754, 0.9197, 0.8799, 0.8736, 0.8252, 0.8145, 0.7983, 0.7768, 0.7569, 0.7529, 0.7422, 0.7368, 0.7346, 0.7309, 0.722, 0.7202, 0.6854, 0.6796, 0.6728, 0.6719, 0.6655, 0.6572, 0.6509, 0.6451, 0.6433, 0.6371, 0.6108, 0.6056, 0.6011, 0.596, 0.5934, 0.5925, 0.5779, 0.5933, 0.5729, 0.5691, 0.5459, 0.5387, 0.5135, 0.4952, 0.5052, 0.3886, 0.5201, 0.4045, 0.4875, 0.2672, 0.5161, 0.4805, 0.434, 0.1422, 0.1964, 0.2366, 0.1446, 0.1679, 0.3627, 0.1248, 0.2028, 0.2982, 0.3199, 0.0846, 0.044, 0.384, 0.0754, 0.2085, 0.0064, 0.0699, 0.0112, -0.0874, -0.0915, 0.0689, -0.1277, 0.1832, -0.2718, -0.4258, -0.1318, -0.5888, -0.0195, -0.0431, -0.2837, 0.9246, 0.8633, 0.809, 0.7982, 0.7566, 0.7034, 0.6966, 0.685, 0.6785, 0.6569, 0.6543, 0.6324, 0.6322, 0.631, 0.6258, 0.6245, 0.6157, 0.6155, 0.6075, 0.5914, 0.5747, 0.5718, 0.5684, 0.5659, 0.5614, 0.5575, 0.5524, 0.5461, 0.5453, 0.5444, 0.5371, 0.4978, 0.494, 0.5344, 0.4302, 0.4397, 0.5004, 0.4957, 0.3481, 0.3934, 0.3565, 0.4082, 0.4897, 0.487, 0.2916, 0.2224, 0.2108, 0.3456, 0.2822, 0.3533, 0.201, 0.1979, 0.2722, 0.2393, 0.2153, 0.04, 0.0703, 0.2499, 0.2165, 0.1191, 0.1644, 0.0524, 0.0425, 0.1151, -0.0464, 0.0172, 0.01, 0.0217, 0.0543, -0.1155, -0.0698, -0.0493, -0.1092, 1.2779, 1.2199, 1.2064, 1.1678, 1.136, 1.0119, 0.9809, 0.9515, 0.9496, 0.845, 0.8313, 0.83, 0.8194, 0.8138, 0.8017, 0.794, 0.7891, 0.7885, 0.7767, 0.7653, 0.7528, 0.7526, 0.7522, 0.7504, 0.7471, 0.7454, 0.7407, 0.74, 0.7299, 0.7286, 0.7224, 0.6458, 0.5794, 0.6244, 0.4988, 0.4706, 0.5557, 0.5853, 0.6324, 0.4341, 0.4254, 0.4307, 0.337, 0.444, 0.2973, 0.2988, 0.2389, 0.2385, 0.2554, 0.3953, 0.1307, 0.1413, 0.397, -0.0513, 0.0686, 0.1402, 0.1252, -0.0716, -0.0731, -0.1406, -0.0601, -0.0533, 0.0123, -0.2348, -0.3046, 0.1133, -0.2059, -0.1613, 0.0548, -0.417]}, \"token.table\": {\"Topic\": [1, 2, 3, 4, 1, 2, 3, 4, 1, 2, 3, 4, 1, 2, 3, 4, 1, 2, 3, 4, 1, 2, 3, 4, 1, 2, 3, 4, 1, 2, 3, 4, 1, 2, 3, 4, 1, 2, 3, 4, 1, 2, 3, 4, 1, 2, 3, 4, 1, 2, 3, 4, 1, 2, 3, 4, 1, 2, 3, 4, 1, 2, 3, 4, 1, 2, 3, 4, 1, 2, 3, 4, 1, 2, 3, 4, 1, 2, 3, 4, 1, 2, 3, 4, 1, 2, 3, 4, 1, 2, 3, 4, 1, 2, 3, 4, 1, 2, 3, 4, 1, 2, 3, 4, 1, 2, 3, 4, 1, 2, 3, 4, 1, 2, 3, 4, 1, 2, 3, 4, 1, 2, 3, 4, 1, 2, 3, 4, 1, 2, 3, 4, 1, 2, 3, 4, 2, 3, 4, 1, 2, 3, 4, 1, 2, 3, 4, 1, 2, 3, 4, 1, 2, 3, 4, 1, 2, 3, 4, 1, 2, 3, 4, 1, 2, 3, 4, 1, 2, 3, 4, 1, 2, 3, 4, 1, 2, 3, 4, 1, 2, 3, 4, 1, 2, 3, 4, 1, 2, 3, 4, 1, 2, 3, 4, 1, 2, 3, 4, 1, 2, 3, 4, 1, 2, 3, 4, 1, 2, 3, 4, 1, 2, 3, 4, 1, 2, 3, 4, 1, 2, 3, 4, 1, 2, 3, 4, 1, 2, 3, 4, 1, 2, 3, 4, 1, 2, 3, 4, 1, 2, 3, 4, 1, 2, 3, 4, 1, 2, 3, 4, 1, 2, 3, 4, 1, 2, 3, 4, 1, 2, 3, 4, 1, 2, 3, 4, 1, 2, 3, 4, 1, 2, 3, 4, 1, 2, 3, 4, 1, 2, 3, 4, 1, 2, 3, 4, 1, 2, 3, 4, 1, 2, 3, 4, 1, 2, 3, 4, 1, 2, 3, 4, 1, 2, 3, 4, 1, 2, 3, 4, 1, 2, 3, 4, 1, 2, 3, 4, 1, 2, 3, 4, 1, 2, 3, 4, 1, 2, 3, 4, 1, 2, 3, 4, 1, 2, 3, 4, 1, 2, 3, 4, 1, 2, 3, 4, 1, 2, 3, 4, 1, 2, 3, 4, 1, 2, 3, 4, 1, 2, 3, 4, 1, 2, 3, 4, 1, 2, 3, 4, 1, 2, 3, 4, 1, 2, 3, 4, 1, 2, 3, 4, 1, 2, 3, 4, 1, 2, 3, 4, 1, 2, 3, 4, 1, 2, 3, 4, 1, 2, 3, 4, 1, 2, 3, 4, 1, 2, 3, 4, 1, 2, 3, 4, 1, 2, 3, 4, 1, 2, 3, 4, 1, 2, 3, 4, 1, 2, 3, 4, 1, 2, 3, 4, 1, 2, 3, 4, 1, 2, 3, 4, 1, 2, 3, 4, 1, 2, 3, 4, 1, 2, 3, 4, 1, 2, 3, 4, 1, 2, 3, 4, 1, 2, 3, 4, 1, 2, 3, 4, 1, 2, 3, 4, 1, 2, 3, 4, 1, 2, 3, 4, 1, 2, 3, 4, 1, 2, 3, 4, 1, 2, 3, 4, 1, 2, 3, 4, 1, 2, 3, 4, 1, 2, 3, 4, 1, 2, 3, 4, 1, 2, 3, 4, 1, 2, 3, 4, 1, 2, 3, 4, 1, 2, 3, 4, 1, 2, 3, 4, 1, 2, 3, 4, 1, 2, 3, 4, 1, 2, 3, 4, 1, 2, 3, 4, 1, 2, 3, 4, 1, 2, 3, 4, 1, 2, 3, 4, 1, 2, 3, 4, 1, 2, 3, 4, 1, 2, 3, 4, 1, 2, 3, 4, 1, 2, 3, 4, 1, 2, 3, 4, 1, 2, 3, 4, 1, 2, 3, 4, 1, 2, 3, 4, 1, 2, 3, 4, 1, 2, 3, 4, 1, 2, 3, 4, 1, 2, 3, 4, 1, 2, 3, 4, 1, 2, 3, 4, 1, 2, 3, 4, 1, 2, 3, 4, 1, 2, 3, 4, 1, 2, 3, 4, 1, 2, 3, 4, 1, 2, 3, 4, 1, 2, 3, 4, 1, 2, 3, 4, 1, 2, 3, 4, 1, 2, 3, 4, 1, 2, 3, 4, 1, 2, 3, 4, 1, 2, 3, 4, 1, 2, 3, 4, 1, 2, 3, 4, 1, 2, 3, 4, 1, 2, 3, 4, 1, 2, 3, 4, 1, 2, 3, 4, 1, 2, 3, 4, 1, 2, 3, 4, 1, 2, 3, 4, 1, 2, 3, 4, 1, 2, 3, 4, 1, 2, 3, 4, 1, 2, 3, 4, 1, 2, 3, 4, 1, 2, 3, 4, 1, 2, 3, 4, 1, 2, 3, 4, 1, 2, 3, 4, 1, 2, 3, 4, 1, 2, 3, 4, 1, 2, 3, 4, 1, 2, 3, 4, 1, 2, 3, 4, 1, 2, 3, 4, 1, 2, 3, 4, 1, 2, 3, 4, 1, 2, 3, 4, 1, 2, 3, 4, 1, 2, 3, 4, 1, 2, 3, 4, 1, 2, 3, 4, 1, 2, 3, 4, 1, 2, 3, 4, 1, 2, 3, 4, 1, 2, 3, 4, 1, 2, 3, 4, 1, 2, 3, 4, 1, 2, 3, 4, 1, 2, 3, 4, 1, 2, 3, 4, 1, 2, 3, 4, 1, 2, 3, 4, 1, 2, 3, 4, 1, 2, 3, 4, 1, 2, 3, 4, 1, 2, 3, 4, 1, 2, 3, 4, 1, 2, 3, 4, 1, 2, 3, 4, 1, 2, 3, 4, 1, 2, 3, 4, 1, 2, 3, 4, 1, 2, 3, 4, 1, 2, 3, 4, 1, 2, 3, 4], \"Freq\": [0.08129982320652072, 0.6503985856521658, 0.12194973480978108, 0.12194973480978108, 0.34730039571720606, 0.18522687771584323, 0.25468695685928444, 0.20838023743032363, 0.06652929145642134, 0.199587874369264, 0.5322343316513707, 0.199587874369264, 0.11784533769701572, 0.5303040196365707, 0.22096000818190445, 0.13257600490914268, 0.23611337538754512, 0.31660657154239, 0.31660657154239, 0.12342290077076222, 0.11940322479202478, 0.3088014434276503, 0.3870311424293217, 0.1893982186356255, 0.24863450862293127, 0.38498246496453875, 0.32883918882387686, 0.03208187208037823, 0.06957487167712485, 0.0463832477847499, 0.6493654689864986, 0.23191623892374952, 0.0675155347554778, 0.16878883688869448, 0.7089131149325169, 0.0675155347554778, 0.06664557917762746, 0.06664557917762746, 0.5998102125986472, 0.1999367375328824, 0.09661684812565097, 0.7246263609423823, 0.09661684812565097, 0.09661684812565097, 0.06417835479903045, 0.1283567095980609, 0.7300287858389712, 0.08022294349878806, 0.11290284614641688, 0.6774170768785013, 0.11290284614641688, 0.11290284614641688, 0.3099771833731712, 0.3099771833731712, 0.22141227383797943, 0.14760818255865293, 0.1257091914685339, 0.3212568226418088, 0.24443453896659367, 0.3072891347008606, 0.1559689657829642, 0.1559689657829642, 0.5372264376968767, 0.1559689657829642, 0.16798704494982192, 0.2261364066632218, 0.46519489370719913, 0.14214288418831084, 0.2421704306910975, 0.21526260505875333, 0.3699826024447323, 0.17490086661023707, 0.07562775995247309, 0.18906939988118274, 0.6428359595960212, 0.07562775995247309, 0.12598885614203098, 0.37796656842609294, 0.2977918417902551, 0.20043681658959475, 0.08630257358451573, 0.7551475188645127, 0.08630257358451573, 0.06472693018838681, 0.2651574737311974, 0.1325787368655987, 0.1767716491541316, 0.44192912288532904, 0.07283092238166432, 0.6190628402441467, 0.14566184476332864, 0.1820773059541608, 0.16158299299117057, 0.4496222413667355, 0.20373507811930203, 0.18968438307659155, 0.10007592126046205, 0.4003036850418482, 0.10007592126046205, 0.4003036850418482, 0.08456028783611239, 0.19730733828426222, 0.5355484896287118, 0.1832139569782435, 0.15637458760185316, 0.2084994501358042, 0.2606243126697553, 0.37529901024444756, 0.13297654127461717, 0.13297654127461717, 0.5983944357357772, 0.13297654127461717, 0.3247967466683184, 0.4576681430326305, 0.13287139636431208, 0.08858093090954139, 0.11307403704564814, 0.6407528765920061, 0.11307403704564814, 0.11307403704564814, 0.11593760940888712, 0.23187521881777423, 0.23187521881777423, 0.4057816329311049, 0.12400985968762723, 0.33939540546087454, 0.3100246492190681, 0.22843921521405017, 0.04153294862948042, 0.16613179451792168, 0.33226358903584335, 0.45686243492428463, 0.09935946010547929, 0.24130154597044973, 0.28388417172994085, 0.3690494232489231, 0.5811302901275507, 0.33207445150145753, 0.08301861287536438, 0.13831130494136537, 0.1936358269179115, 0.5532452197654615, 0.08298678296481922, 0.4477764180892643, 0.19901174137300637, 0.19901174137300637, 0.09950587068650318, 0.12969562043087043, 0.5620143552004385, 0.19454343064630567, 0.10807968369239203, 0.06602462801992418, 0.6602462801992417, 0.15405746537982307, 0.11004104669987362, 0.12306408778490208, 0.5537883950320593, 0.18459613167735311, 0.09229806583867656, 0.06760089870462915, 0.2704035948185166, 0.642208537693977, 0.03380044935231458, 0.13225375742155107, 0.23751695210401008, 0.46693673538629255, 0.16194337643455234, 0.10968835503624086, 0.2441450483064716, 0.36798673947642097, 0.27599005460731574, 0.0806538990114034, 0.3226155960456136, 0.1613077980228068, 0.403269495057017, 0.16037056839128175, 0.2749209743850544, 0.1374604871925272, 0.4123814615775816, 0.056718636642921726, 0.17015590992876517, 0.6239050030721389, 0.14179659160730432, 0.18914042590366847, 0.508314894616109, 0.14185531942775137, 0.15367659604673065, 0.023627694360609592, 0.6615754420970685, 0.14176616616365756, 0.16539386052426713, 0.2659905645011548, 0.22165880375096236, 0.1329952822505774, 0.3989858467517322, 0.4488307167286597, 0.14961023890955324, 0.22441535836432985, 0.22441535836432985, 0.2327892271533699, 0.301256646904361, 0.2875631629541628, 0.17801529135257696, 0.13341309408792065, 0.13341309408792065, 0.6003589233956429, 0.20011964113188097, 0.12469947487347836, 0.5611476369306526, 0.21822408102858712, 0.09352460615510877, 0.04817196720512698, 0.30508912563247087, 0.30508912563247087, 0.34523243163674333, 0.09273813959868844, 0.5564288375921307, 0.1854762791973769, 0.1854762791973769, 0.12632175681242494, 0.27369713976025406, 0.40001889657267903, 0.20000944828633951, 0.4036366580987682, 0.24218199485926092, 0.16145466323950727, 0.24218199485926092, 0.17885393548093248, 0.24017528478868075, 0.42924944515423796, 0.15330337326937069, 0.10586215415846821, 0.20510792368203215, 0.4366813859036814, 0.251422616126362, 0.11179948945091354, 0.20571106058968092, 0.5388735391534033, 0.14533933628618761, 0.2734549532628832, 0.2802913270944553, 0.259782205599739, 0.19141846728401823, 0.4473945537697003, 0.20648979404755397, 0.06882993134918465, 0.2753197253967386, 0.07530954047737183, 0.46071718880274526, 0.33224797269428746, 0.12846921610845782, 0.09609200403718206, 0.24023001009295514, 0.508486854696755, 0.15614950656042084, 0.10046218308736608, 0.22603991194657366, 0.4897531425509096, 0.18208770684585102, 0.0996569128133636, 0.28302563238995265, 0.4066002042785235, 0.2072863786517963, 0.16672070402804545, 0.22229427203739396, 0.16672070402804545, 0.44458854407478793, 0.07273168457577298, 0.3345657490485557, 0.2909267383030919, 0.2909267383030919, 0.1738863966339031, 0.1738863966339031, 0.46369705769040825, 0.18787725613318265, 0.07999010124445947, 0.2399703037333784, 0.2399703037333784, 0.3999505062222974, 0.11022218023489982, 0.3546278842340255, 0.3498356155281603, 0.18450234517581057, 0.04626348258739949, 0.16192218905589822, 0.1773433499183647, 0.6168464344986598, 0.18100789213401777, 0.16592390112284963, 0.4826877123573807, 0.16592390112284963, 0.16202665698367968, 0.3878819970215362, 0.2749543270026079, 0.1767563530731051, 0.07733896829337104, 0.32740163244193743, 0.4073185663450875, 0.1856135239040905, 0.4691578206779104, 0.14074734620337312, 0.3284104744745373, 0.09383156413558208, 0.11608220523292402, 0.30181373360560243, 0.2863361062412126, 0.2940749199234075, 0.3891570601721015, 0.19457853008605075, 0.2594380401147343, 0.12971902005736716, 0.5714303464122862, 0.09523839106871436, 0.23809597767178592, 0.09523839106871436, 0.16198970043743516, 0.16198970043743516, 0.24298455065615274, 0.4859691013123055, 0.25909659866774676, 0.09421694497008973, 0.21198812618270188, 0.4475304886079262, 0.08401655671664682, 0.25204967014994045, 0.3000591311308815, 0.3600709573570578, 0.1769787161334624, 0.1769787161334624, 0.1769787161334624, 0.5309361484003872, 0.10620018822809901, 0.38055067448402147, 0.3451506117413218, 0.16815029802782344, 0.10149170618013306, 0.5582043839907318, 0.20298341236026612, 0.15223755927019958, 0.5283746909640018, 0.2641873454820009, 0.13209367274100045, 0.13209367274100045, 0.19633279907810747, 0.3355506020607655, 0.217750922613901, 0.2498781079175913, 0.21619784422310434, 0.594544071613537, 0.054049461055776085, 0.054049461055776085, 0.15106193736006104, 0.6042477494402442, 0.11329645302004578, 0.11329645302004578, 0.22158603669995466, 0.5908960978665457, 0.07386201223331822, 0.14772402446663643, 0.13300616563959797, 0.23508066485138246, 0.30622349763535345, 0.3247824974920416, 0.479425901309206, 0.3486733827703316, 0.10896043211572863, 0.0871683456925829, 0.04714291636608457, 0.1885716654643383, 0.6128579127590994, 0.1414287490982537, 0.05425375128092205, 0.25318417264430293, 0.3255225076855323, 0.3797762589664544, 0.4168335846950625, 0.4168335846950625, 0.06947226411584374, 0.06947226411584374, 0.10635413593591907, 0.21270827187183813, 0.5672220583249017, 0.10635413593591907, 0.06840120179341522, 0.7866138206242751, 0.042750751120884514, 0.10260180269012284, 0.06583772294068449, 0.19751316882205347, 0.5925395064661605, 0.06583772294068449, 0.40760524035005047, 0.05095065504375631, 0.15285196513126892, 0.40760524035005047, 0.2297305324774036, 0.23690961161732246, 0.3804911944156997, 0.15793974107821496, 0.25025584985250465, 0.5593954290820692, 0.19137212047544472, 0.014720932344264978, 0.09957062162617934, 0.22403389865890352, 0.24892655406544836, 0.4231751419112622, 0.11422507237775584, 0.27604392491290997, 0.29190851829870934, 0.31729186771598844, 0.09492392549026055, 0.16611686960795596, 0.28477177647078167, 0.45088864607873763, 0.08016898027276767, 0.30063367602287877, 0.3647688602410929, 0.25654073687285656, 0.06364583484847844, 0.572812513636306, 0.19093750454543534, 0.19093750454543534, 0.015322793565958056, 0.04596838069787417, 0.7814624718638609, 0.15322793565958057, 0.058400067059264496, 0.11680013411852899, 0.15573351215803866, 0.6618674266716643, 0.5391264447602454, 0.11027586370095929, 0.28181609612467373, 0.07351724246730619, 0.14146387954910394, 0.3160363266522535, 0.33108567554045604, 0.21069088443483566, 0.5830172522670047, 0.15900470516372858, 0.10600313677581905, 0.15900470516372858, 0.17391181922092058, 0.4285684116515543, 0.2608677288313809, 0.1366450008164376, 0.1696077660384479, 0.36133828416886726, 0.3121766128533751, 0.15731734820957485, 0.07672634112713815, 0.1534526822542763, 0.6138107290171052, 0.1534526822542763, 0.11138374041612102, 0.1299476971521412, 0.5569187020806051, 0.1856395673602017, 0.12479579788029424, 0.26060298969120266, 0.3450236764925782, 0.2679439189782788, 0.40833276068154084, 0.1871525153123729, 0.27222184045436054, 0.13611092022718027, 0.12666587406581153, 0.25333174813162307, 0.3146216871957254, 0.3064496953205118, 0.37499411412732053, 0.4017794079935577, 0.10714117546494872, 0.1339264693311859, 0.20659193518390376, 0.10451121426950426, 0.5031121245066833, 0.184717494987961, 0.018940582876180088, 0.11364349725708053, 0.8333856465519239, 0.037881165752360176, 0.400989151518646, 0.16039566060745838, 0.2405934909111876, 0.16039566060745838, 0.1375766810433558, 0.17197085130419476, 0.1375766810433558, 0.5503067241734232, 0.1051005447572461, 0.3678519066503614, 0.1051005447572461, 0.4204021790289844, 0.4958699602312174, 0.07083856574731677, 0.14167713149463354, 0.21251569724195032, 0.14022512960386888, 0.28045025920773775, 0.35693669353712076, 0.22096081028488426, 0.4084084955212394, 0.2598963153316978, 0.22276827028431243, 0.1485121801895416, 0.6859083833120967, 0.17782809937721025, 0.05080802839348864, 0.07621204259023297, 0.2900632558341895, 0.12431282392893837, 0.08287521595262558, 0.4972512957157535, 0.18890477875531633, 0.22281076468575772, 0.40687183116529674, 0.184061066479539, 0.1675355888301001, 0.1821039009022827, 0.46618598630984376, 0.18938805693837402, 0.08273932373922029, 0.11031909831896039, 0.13789887289870048, 0.6619145899137623, 0.09453041684998757, 0.11816302106248446, 0.638080313737416, 0.16542822948747823, 0.049530855314587785, 0.24765427657293893, 0.5448394084604656, 0.09906171062917557, 0.12422286178448409, 0.3403706412894864, 0.4024820721817285, 0.13167623349155314, 0.49982885128085175, 0.21421236483465075, 0.190410990964134, 0.11900686935258376, 0.6633713321050078, 0.13267426642100155, 0.13267426642100155, 0.06633713321050078, 0.05140937418117251, 0.7197312385364151, 0.17993280963410377, 0.05140937418117251, 0.1343340605245875, 0.41979393913933594, 0.268668121049175, 0.17351482817759217, 0.07156095442367368, 0.6082681126012263, 0.03578047721183684, 0.2862438176946947, 0.10777416431497328, 0.15519479661356153, 0.43540762383249204, 0.3017676600819252, 0.11007518988852519, 0.22015037977705038, 0.22015037977705038, 0.38526316460983817, 0.19397980355193334, 0.31868110583531906, 0.3325368060890286, 0.15587662785423215, 0.19084177205283834, 0.4702886525587802, 0.1226839963196818, 0.21810488234610095, 0.24016394866405905, 0.22644029445468425, 0.27447308418749605, 0.25388760287343387, 0.09066886815696971, 0.18133773631393943, 0.5893476430203032, 0.18133773631393943, 0.15777323272660462, 0.45671198947175023, 0.17438094143466826, 0.20759635885079555, 0.16636999699512806, 0.16636999699512806, 0.5545666566504268, 0.11091333133008537, 0.10793755678954282, 0.553179978546407, 0.2293673081777785, 0.10793755678954282, 0.09897833496660349, 0.24744583741650872, 0.5938700097996209, 0.09897833496660349, 0.16835211333251177, 0.2645533209510899, 0.3006287738080567, 0.268561704601864, 0.03152528632914332, 0.5989804402537232, 0.22067700430400328, 0.1261011453165733, 0.12966449627397206, 0.5134714052449294, 0.22302293359123193, 0.13485107612493094, 0.08507900121694899, 0.6806320097355919, 0.08507900121694899, 0.17015800243389798, 0.49417717824369084, 0.19006814547834264, 0.07602725819133704, 0.19006814547834264, 0.057936540621095114, 0.057936540621095114, 0.7242067577636889, 0.14484135155273778, 0.031215343854233895, 0.6555222209389118, 0.24972275083387116, 0.06243068770846779, 0.07360901049929924, 0.18402252624824814, 0.588872083994394, 0.1472180209985985, 0.49901187869321956, 0.16633729289773985, 0.16633729289773985, 0.16633729289773985, 0.12073833196184072, 0.22638437242845136, 0.5433224938282832, 0.10564604046661064, 0.1068022496923588, 0.6764142480516057, 0.12460262464108526, 0.07120149979490586, 0.026218504353977264, 0.10487401741590906, 0.15731102612386358, 0.7078996175573861, 0.44717228944242815, 0.22358614472121408, 0.22358614472121408, 0.14905742981414272, 0.4659874054776623, 0.23299370273883116, 0.17474527705412338, 0.14562106421176949, 0.11037322473821265, 0.20776136421310618, 0.5388810384277442, 0.14932848052817005, 0.09907346577172543, 0.14861019865758815, 0.34675713020103904, 0.4458305959727645, 0.207643091545775, 0.08305723661831, 0.6229292746373251, 0.08305723661831, 0.2238812964575712, 0.39638000028553594, 0.19451981495493892, 0.18350925939145182, 0.15521786379754662, 0.2856008693874858, 0.4004620885976703, 0.15832222107349755, 0.06598434478014034, 0.13196868956028068, 0.19795303434042102, 0.5278747582411227, 0.39686103339839285, 0.14882288752439732, 0.29764577504879464, 0.19843051669919642, 0.12335950233603701, 0.24671900467207403, 0.616797511680185, 0.06167975116801851, 0.37580029411154386, 0.06832732620209887, 0.20498197860629663, 0.3416366310104944, 0.09573923033465247, 0.48827007470672756, 0.25849592190356163, 0.16275669156890918, 0.13275494905693075, 0.19913242358539612, 0.5973972707561884, 0.13275494905693075, 0.5208389526687747, 0.26041947633438733, 0.1736129842229249, 0.08680649211146245, 0.20631833525780283, 0.3094775028867042, 0.32576579251232024, 0.16288289625616012, 0.6126030711703655, 0.10210051186172758, 0.17016751976954597, 0.10210051186172758, 0.12967407944941764, 0.5186963177976706, 0.1728987725992235, 0.1728987725992235, 0.2514545385776295, 0.3843662232543765, 0.24786233088366336, 0.11495064620691633, 0.12074357032325275, 0.5433460664546373, 0.12074357032325275, 0.18111535548487911, 0.12898379024244677, 0.31472044819157013, 0.41790748038552755, 0.13414314185214465, 0.1273164955212217, 0.5729242298454976, 0.1273164955212217, 0.1273164955212217, 0.3938841937694096, 0.1969420968847048, 0.1969420968847048, 0.1969420968847048, 0.3939921984432702, 0.1313307328144234, 0.1969960992216351, 0.1969960992216351, 0.07479255937833147, 0.2991702375133259, 0.14958511875666294, 0.4487553562699888, 0.08448121616087478, 0.760330945447873, 0.08448121616087478, 0.08448121616087478, 0.15492754100355413, 0.18397645494172052, 0.5616123361378836, 0.10651268443994345, 0.19113633653149156, 0.28670450479723736, 0.19113633653149156, 0.3822726730629831, 0.235995956023395, 0.2595955516257345, 0.24189585492397986, 0.26549545052631934, 0.06898158289051151, 0.20694474867153453, 0.5346072674014642, 0.18969935294890666, 0.07251038736672785, 0.6525934863005506, 0.1450207747334557, 0.07251038736672785, 0.10452632657900694, 0.5748947961845382, 0.18292107151326215, 0.15678948986851043, 0.1308301704550126, 0.2616603409100252, 0.21805028409168767, 0.43610056818337534, 0.09101974528452997, 0.3367730575527609, 0.35952799387389334, 0.2138964014186454, 0.06631655252783324, 0.24316069260205522, 0.26526621011133295, 0.4200048326762772, 0.11562499834317941, 0.17112499754790553, 0.3607499948307198, 0.3514999949632654, 0.09006108357392864, 0.30020361191309547, 0.15010180595654773, 0.4503054178696432, 0.17974688780026316, 0.1283906341430451, 0.5649187902293985, 0.1283906341430451, 0.2624218929248631, 0.5248437858497262, 0.13121094646243156, 0.0874739643082877, 0.09619770810918589, 0.5771862486551154, 0.24049427027296472, 0.09619770810918589, 0.39028322040799823, 0.23416993224479893, 0.15611328816319928, 0.23416993224479893, 0.23245843168316638, 0.5940604365236474, 0.051657429262925866, 0.12914357315731465, 0.14975100354633356, 0.37160434213349436, 0.29118250689564856, 0.1885753377990867, 0.24050508247567418, 0.5390631158937524, 0.11610590188480822, 0.10781262317875048, 0.12651107914303383, 0.3605565755576464, 0.33947139570047413, 0.1728984748288129, 0.04280850523446836, 0.2140425261723418, 0.6421275785170254, 0.12842551570340507, 0.14466617766776357, 0.28637998436271567, 0.3424750328461342, 0.22438019393367412, 0.053432177298613576, 0.6411861275833629, 0.16029653189584073, 0.10686435459722715, 0.19013308642198656, 0.5109826697590889, 0.17824976852061242, 0.1188331790137416, 0.1068742718393662, 0.40917578361357343, 0.33283701801402615, 0.14962398057511267, 0.17912338350037724, 0.08956169175018862, 0.17912338350037724, 0.6269318422513204, 0.0885001992426669, 0.5390466681144257, 0.23331870709430366, 0.14481850785163675, 0.08245837104226111, 0.16491674208452223, 0.6596669683380889, 0.08245837104226111, 0.041388183155428276, 0.5262211858333025, 0.18920312299624356, 0.24241650133893708, 0.13747531647327335, 0.31486282160007767, 0.41686063704799015, 0.12860594121693314, 0.3876290849796376, 0.23854097537208468, 0.2087233534505741, 0.17890573152906353, 0.32464034856711715, 0.16627920292462098, 0.4434112077989893, 0.06334445825699847, 0.11179839424963599, 0.2739060659116082, 0.31303550389898077, 0.307445584186499, 0.21216732734798327, 0.21216732734798327, 0.15912549551098745, 0.4773764865329624, 0.15049351843750902, 0.25694015342989346, 0.36705736204270495, 0.22390499084605003, 0.3410988039077359, 0.30174124961068943, 0.2099069562509144, 0.14431103242250365, 0.23104847808964402, 0.26086118493992067, 0.27949412672134355, 0.22732188973335943], \"Term\": [\"abil\", \"abil\", \"abil\", \"abil\", \"allow\", \"allow\", \"allow\", \"allow\", \"ambit\", \"ambit\", \"ambit\", \"ambit\", \"arrest\", \"arrest\", \"arrest\", \"arrest\", \"arriv\", \"arriv\", \"arriv\", \"arriv\", \"ask\", \"ask\", \"ask\", \"ask\", \"babi\", \"babi\", \"babi\", \"babi\", \"babu\", \"babu\", \"babu\", \"babu\", \"bank\", \"bank\", \"bank\", \"bank\", \"blind\", \"blind\", \"blind\", \"blind\", \"boat\", \"boat\", \"boat\", \"boat\", \"bodi\", \"bodi\", \"bodi\", \"bodi\", \"bomb\", \"bomb\", \"bomb\", \"bomb\", \"boss\", \"boss\", \"boss\", \"boss\", \"boy\", \"boy\", \"boy\", \"boy\", \"boyfriend\", \"boyfriend\", \"boyfriend\", \"boyfriend\", \"break\", \"break\", \"break\", \"break\", \"brother\", \"brother\", \"brother\", \"brother\", \"bulli\", \"bulli\", \"bulli\", \"bulli\", \"call\", \"call\", \"call\", \"call\", \"captain\", \"captain\", \"captain\", \"captain\", \"card\", \"card\", \"card\", \"card\", \"cat\", \"cat\", \"cat\", \"cat\", \"caus\", \"caus\", \"caus\", \"caus\", \"chief\", \"chief\", \"chief\", \"chief\", \"child\", \"child\", \"child\", \"child\", \"children\", \"children\", \"children\", \"children\", \"closer\", \"closer\", \"closer\", \"closer\", \"club\", \"club\", \"club\", \"club\", \"coach\", \"coach\", \"coach\", \"coach\", \"colleagu\", \"colleagu\", \"colleagu\", \"colleagu\", \"come\", \"come\", \"come\", \"come\", \"comedi\", \"comedi\", \"comedi\", \"comedi\", \"compani\", \"compani\", \"compani\", \"compani\", \"concern\", \"concern\", \"concern\", \"condit\", \"condit\", \"condit\", \"condit\", \"countri\", \"countri\", \"countri\", \"countri\", \"crew\", \"crew\", \"crew\", \"crew\", \"crime\", \"crime\", \"crime\", \"crime\", \"cross\", \"cross\", \"cross\", \"cross\", \"david\", \"david\", \"david\", \"david\", \"day\", \"day\", \"day\", \"day\", \"decid\", \"decid\", \"decid\", \"decid\", \"deep\", \"deep\", \"deep\", \"deep\", \"demand\", \"demand\", \"demand\", \"demand\", \"desper\", \"desper\", \"desper\", \"desper\", \"destroy\", \"destroy\", \"destroy\", \"destroy\", \"detect\", \"detect\", \"detect\", \"detect\", \"devic\", \"devic\", \"devic\", \"devic\", \"difficult\", \"difficult\", \"difficult\", \"difficult\", \"discov\", \"discov\", \"discov\", \"discov\", \"distanc\", \"distanc\", \"distanc\", \"distanc\", \"divorc\", \"divorc\", \"divorc\", \"divorc\", \"dream\", \"dream\", \"dream\", \"dream\", \"easi\", \"easi\", \"easi\", \"easi\", \"end\", \"end\", \"end\", \"end\", \"exact\", \"exact\", \"exact\", \"exact\", \"fall\", \"fall\", \"fall\", \"fall\", \"famili\", \"famili\", \"famili\", \"famili\", \"father\", \"father\", \"father\", \"father\", \"feel\", \"feel\", \"feel\", \"feel\", \"femal\", \"femal\", \"femal\", \"femal\", \"fight\", \"fight\", \"fight\", \"fight\", \"film\", \"film\", \"film\", \"film\", \"final\", \"final\", \"final\", \"final\", \"find\", \"find\", \"find\", \"find\", \"flashback\", \"flashback\", \"flashback\", \"flashback\", \"forc\", \"forc\", \"forc\", \"forc\", \"friend\", \"friend\", \"friend\", \"friend\", \"frighten\", \"frighten\", \"frighten\", \"frighten\", \"get\", \"get\", \"get\", \"get\", \"ghost\", \"ghost\", \"ghost\", \"ghost\", \"girl\", \"girl\", \"girl\", \"girl\", \"give\", \"give\", \"give\", \"give\", \"go\", \"go\", \"go\", \"go\", \"grandfath\", \"grandfath\", \"grandfath\", \"grandfath\", \"group\", \"group\", \"group\", \"group\", \"half\", \"half\", \"half\", \"half\", \"hall\", \"hall\", \"hall\", \"hall\", \"handsom\", \"handsom\", \"handsom\", \"handsom\", \"hang\", \"hang\", \"hang\", \"hang\", \"happen\", \"happen\", \"happen\", \"happen\", \"haunt\", \"haunt\", \"haunt\", \"haunt\", \"help\", \"help\", \"help\", \"help\", \"hero\", \"hero\", \"hero\", \"hero\", \"histori\", \"histori\", \"histori\", \"histori\", \"home\", \"home\", \"home\", \"home\", \"hometown\", \"hometown\", \"hometown\", \"hometown\", \"hope\", \"hope\", \"hope\", \"hope\", \"hostag\", \"hostag\", \"hostag\", \"hostag\", \"hous\", \"hous\", \"hous\", \"hous\", \"human\", \"human\", \"human\", \"human\", \"innoc\", \"innoc\", \"innoc\", \"innoc\", \"inspector\", \"inspector\", \"inspector\", \"inspector\", \"island\", \"island\", \"island\", \"island\", \"jail\", \"jail\", \"jail\", \"jail\", \"jam\", \"jam\", \"jam\", \"jam\", \"jealous\", \"jealous\", \"jealous\", \"jealous\", \"jessica\", \"jessica\", \"jessica\", \"jessica\", \"job\", \"job\", \"job\", \"job\", \"joy\", \"joy\", \"joy\", \"joy\", \"kid\", \"kid\", \"kid\", \"kid\", \"kill\", \"kill\", \"kill\", \"kill\", \"king\", \"king\", \"king\", \"king\", \"know\", \"know\", \"know\", \"know\", \"knowledg\", \"knowledg\", \"knowledg\", \"knowledg\", \"krishna\", \"krishna\", \"krishna\", \"krishna\", \"kumar\", \"kumar\", \"kumar\", \"kumar\", \"ladi\", \"ladi\", \"ladi\", \"ladi\", \"later\", \"later\", \"later\", \"later\", \"launch\", \"launch\", \"launch\", \"launch\", \"learn\", \"learn\", \"learn\", \"learn\", \"leav\", \"leav\", \"leav\", \"leav\", \"lesson\", \"lesson\", \"lesson\", \"lesson\", \"lie\", \"lie\", \"lie\", \"lie\", \"life\", \"life\", \"life\", \"life\", \"littl\", \"littl\", \"littl\", \"littl\", \"live\", \"live\", \"live\", \"live\", \"london\", \"london\", \"london\", \"london\", \"love\", \"love\", \"love\", \"love\", \"lucki\", \"lucki\", \"lucki\", \"lucki\", \"mad\", \"mad\", \"mad\", \"mad\", \"magic\", \"magic\", \"magic\", \"magic\", \"major\", \"major\", \"major\", \"major\", \"male\", \"male\", \"male\", \"male\", \"man\", \"man\", \"man\", \"man\", \"mansion\", \"mansion\", \"mansion\", \"mansion\", \"mari\", \"mari\", \"mari\", \"mari\", \"mark\", \"mark\", \"mark\", \"mark\", \"marri\", \"marri\", \"marri\", \"marri\", \"marriag\", \"marriag\", \"marriag\", \"marriag\", \"martin\", \"martin\", \"martin\", \"martin\", \"match\", \"match\", \"match\", \"match\", \"medic\", \"medic\", \"medic\", \"medic\", \"meet\", \"meet\", \"meet\", \"meet\", \"memori\", \"memori\", \"memori\", \"memori\", \"michael\", \"michael\", \"michael\", \"michael\", \"minist\", \"minist\", \"minist\", \"minist\", \"money\", \"money\", \"money\", \"money\", \"monster\", \"monster\", \"monster\", \"monster\", \"mother\", \"mother\", \"mother\", \"mother\", \"narrat\", \"narrat\", \"narrat\", \"narrat\", \"new\", \"new\", \"new\", \"new\", \"offic\", \"offic\", \"offic\", \"offic\", \"old\", \"old\", \"old\", \"old\", \"older\", \"older\", \"older\", \"older\", \"order\", \"order\", \"order\", \"order\", \"particular\", \"particular\", \"particular\", \"particular\", \"phone\", \"phone\", \"phone\", \"phone\", \"photograph\", \"photograph\", \"photograph\", \"photograph\", \"plan\", \"plan\", \"plan\", \"plan\", \"planet\", \"planet\", \"planet\", \"planet\", \"polic\", \"polic\", \"polic\", \"polic\", \"politician\", \"politician\", \"politician\", \"politician\", \"presid\", \"presid\", \"presid\", \"presid\", \"produc\", \"produc\", \"produc\", \"produc\", \"product\", \"product\", \"product\", \"product\", \"profession\", \"profession\", \"profession\", \"profession\", \"properti\", \"properti\", \"properti\", \"properti\", \"propos\", \"propos\", \"propos\", \"propos\", \"race\", \"race\", \"race\", \"race\", \"ram\", \"ram\", \"ram\", \"ram\", \"rat\", \"rat\", \"rat\", \"rat\", \"red\", \"red\", \"red\", \"red\", \"relationship\", \"relationship\", \"relationship\", \"relationship\", \"rent\", \"rent\", \"rent\", \"rent\", \"resort\", \"resort\", \"resort\", \"resort\", \"return\", \"return\", \"return\", \"return\", \"reveal\", \"reveal\", \"reveal\", \"reveal\", \"rob\", \"rob\", \"rob\", \"rob\", \"robot\", \"robot\", \"robot\", \"robot\", \"romanc\", \"romanc\", \"romanc\", \"romanc\", \"romant\", \"romant\", \"romant\", \"romant\", \"room\", \"room\", \"room\", \"room\", \"round\", \"round\", \"round\", \"round\", \"rout\", \"rout\", \"rout\", \"rout\", \"run\", \"run\", \"run\", \"run\", \"sad\", \"sad\", \"sad\", \"sad\", \"scene\", \"scene\", \"scene\", \"scene\", \"school\", \"school\", \"school\", \"school\", \"season\", \"season\", \"season\", \"season\", \"see\", \"see\", \"see\", \"see\", \"sentenc\", \"sentenc\", \"sentenc\", \"sentenc\", \"serv\", \"serv\", \"serv\", \"serv\", \"sexual\", \"sexual\", \"sexual\", \"sexual\", \"shift\", \"shift\", \"shift\", \"shift\", \"ship\", \"ship\", \"ship\", \"ship\", \"sister\", \"sister\", \"sister\", \"sister\", \"smart\", \"smart\", \"smart\", \"smart\", \"son\", \"son\", \"son\", \"son\", \"song\", \"song\", \"song\", \"song\", \"speed\", \"speed\", \"speed\", \"speed\", \"spot\", \"spot\", \"spot\", \"spot\", \"stage\", \"stage\", \"stage\", \"stage\", \"start\", \"start\", \"start\", \"start\", \"stone\", \"stone\", \"stone\", \"stone\", \"stori\", \"stori\", \"stori\", \"stori\", \"storm\", \"storm\", \"storm\", \"storm\", \"struggl\", \"struggl\", \"struggl\", \"struggl\", \"student\", \"student\", \"student\", \"student\", \"suit\", \"suit\", \"suit\", \"suit\", \"surviv\", \"surviv\", \"surviv\", \"surviv\", \"swim\", \"swim\", \"swim\", \"swim\", \"take\", \"take\", \"take\", \"take\", \"team\", \"team\", \"team\", \"team\", \"tell\", \"tell\", \"tell\", \"tell\", \"templ\", \"templ\", \"templ\", \"templ\", \"time\", \"time\", \"time\", \"time\", \"toy\", \"toy\", \"toy\", \"toy\", \"train\", \"train\", \"train\", \"train\", \"tri\", \"tri\", \"tri\", \"tri\", \"twist\", \"twist\", \"twist\", \"twist\", \"use\", \"use\", \"use\", \"use\", \"version\", \"version\", \"version\", \"version\", \"villag\", \"villag\", \"villag\", \"villag\", \"want\", \"want\", \"want\", \"want\", \"war\", \"war\", \"war\", \"war\", \"wed\", \"wed\", \"wed\", \"wed\", \"wife\", \"wife\", \"wife\", \"wife\", \"woo\", \"woo\", \"woo\", \"woo\", \"work\", \"work\", \"work\", \"work\", \"world\", \"world\", \"world\", \"world\", \"year\", \"year\", \"year\", \"year\"]}, \"R\": 30, \"lambda.step\": 0.01, \"plot.opts\": {\"xlab\": \"PC1\", \"ylab\": \"PC2\"}, \"topic.order\": [1, 2, 3, 4]};\n",
              "\n",
              "function LDAvis_load_lib(url, callback){\n",
              "  var s = document.createElement('script');\n",
              "  s.src = url;\n",
              "  s.async = true;\n",
              "  s.onreadystatechange = s.onload = callback;\n",
              "  s.onerror = function(){console.warn(\"failed to load library \" + url);};\n",
              "  document.getElementsByTagName(\"head\")[0].appendChild(s);\n",
              "}\n",
              "\n",
              "if(typeof(LDAvis) !== \"undefined\"){\n",
              "   // already loaded: just create the visualization\n",
              "   !function(LDAvis){\n",
              "       new LDAvis(\"#\" + \"ldavis_el1051397264427756009371092119\", ldavis_el1051397264427756009371092119_data);\n",
              "   }(LDAvis);\n",
              "}else if(typeof define === \"function\" && define.amd){\n",
              "   // require.js is available: use it to load d3/LDAvis\n",
              "   require.config({paths: {d3: \"https://d3js.org/d3.v5\"}});\n",
              "   require([\"d3\"], function(d3){\n",
              "      window.d3 = d3;\n",
              "      LDAvis_load_lib(\"https://cdn.jsdelivr.net/gh/bmabey/pyLDAvis@3.3.1/pyLDAvis/js/ldavis.v3.0.0.js\", function(){\n",
              "        new LDAvis(\"#\" + \"ldavis_el1051397264427756009371092119\", ldavis_el1051397264427756009371092119_data);\n",
              "      });\n",
              "    });\n",
              "}else{\n",
              "    // require.js not available: dynamically load d3 & LDAvis\n",
              "    LDAvis_load_lib(\"https://d3js.org/d3.v5.js\", function(){\n",
              "         LDAvis_load_lib(\"https://cdn.jsdelivr.net/gh/bmabey/pyLDAvis@3.3.1/pyLDAvis/js/ldavis.v3.0.0.js\", function(){\n",
              "                 new LDAvis(\"#\" + \"ldavis_el1051397264427756009371092119\", ldavis_el1051397264427756009371092119_data);\n",
              "            })\n",
              "         });\n",
              "}\n",
              "</script>"
            ]
          },
          "metadata": {},
          "execution_count": 52
        }
      ]
    },
    {
      "cell_type": "markdown",
      "source": [
        "In this LDA model, the bubbles are very clearly spaced from each other.\n",
        "\n",
        "There is no overlap between any of them. This is most likely caused by the small amount of topics I trained tthe model on.\n",
        "\n",
        "We can also see that topic 3 has more dominant terms than the others."
      ],
      "metadata": {
        "id": "TP9pzBFejzsh"
      }
    },
    {
      "cell_type": "markdown",
      "source": [
        "###LDA using TF-IDF"
      ],
      "metadata": {
        "id": "QVaMb-kdkZHI"
      }
    },
    {
      "cell_type": "code",
      "source": [
        "lda_tfidf_display = pyLDAvis.gensim_models.prepare(lda_model_tfidf, bow_corpus, dictionary, sort_topics=False)"
      ],
      "metadata": {
        "id": "9GDuzoXmN9rz",
        "colab": {
          "base_uri": "https://localhost:8080/"
        },
        "outputId": "3aac5218-1145-4f34-e2d6-3ce338f12a89"
      },
      "execution_count": 53,
      "outputs": [
        {
          "output_type": "stream",
          "name": "stderr",
          "text": [
            "/usr/local/lib/python3.8/dist-packages/pyLDAvis/_prepare.py:246: FutureWarning: In a future version of pandas all arguments of DataFrame.drop except for the argument 'labels' will be keyword-only\n",
            "  default_term_info = default_term_info.sort_values(\n"
          ]
        }
      ]
    },
    {
      "cell_type": "code",
      "source": [
        "pyLDAvis.display(lda_tfidf_display)"
      ],
      "metadata": {
        "id": "AqBIOdb2OBkw",
        "colab": {
          "base_uri": "https://localhost:8080/",
          "height": 881
        },
        "outputId": "7711e5aa-9bb3-4a5e-9377-c0dfaafffc7f"
      },
      "execution_count": 54,
      "outputs": [
        {
          "output_type": "execute_result",
          "data": {
            "text/plain": [
              "<IPython.core.display.HTML object>"
            ],
            "text/html": [
              "\n",
              "<link rel=\"stylesheet\" type=\"text/css\" href=\"https://cdn.jsdelivr.net/gh/bmabey/pyLDAvis@3.3.1/pyLDAvis/js/ldavis.v1.0.0.css\">\n",
              "\n",
              "\n",
              "<div id=\"ldavis_el1051397264430294401297461168\"></div>\n",
              "<script type=\"text/javascript\">\n",
              "\n",
              "var ldavis_el1051397264430294401297461168_data = {\"mdsDat\": {\"x\": [-0.01812419244345087, 0.019808924949145806, -0.004599475922119021, 0.002914743416424068], \"y\": [0.014092320647170845, 0.009353276802713239, -0.01842792547610606, -0.005017671973778002], \"topics\": [1, 2, 3, 4], \"cluster\": [1, 1, 1, 1], \"Freq\": [9.964430753262922, 8.587036293943306, 55.67737050178682, 25.77116245100696]}, \"tinfo\": {\"Term\": [\"ghost\", \"film\", \"man\", \"movi\", \"love\", \"stori\", \"life\", \"ami\", \"wife\", \"jam\", \"dream\", \"krishna\", \"year\", \"comedi\", \"friend\", \"famili\", \"girl\", \"meet\", \"old\", \"brother\", \"new\", \"get\", \"time\", \"school\", \"team\", \"relationship\", \"journey\", \"son\", \"want\", \"name\", \"jam\", \"mari\", \"krishna\", \"martin\", \"older\", \"devic\", \"joy\", \"societi\", \"unexpect\", \"lie\", \"american\", \"speak\", \"strang\", \"easi\", \"hunt\", \"japanes\", \"cat\", \"simpl\", \"panic\", \"kevin\", \"hometown\", \"text\", \"rob\", \"motiv\", \"twist\", \"earth\", \"movi\", \"chao\", \"michael\", \"ami\", \"beauti\", \"alcohol\", \"produc\", \"lover\", \"trip\", \"husband\", \"prepar\", \"small\", \"wife\", \"life\", \"meet\", \"year\", \"kill\", \"home\", \"stori\", \"famili\", \"new\", \"divorc\", \"son\", \"start\", \"father\", \"school\", \"begin\", \"later\", \"go\", \"man\", \"day\", \"love\", \"get\", \"friend\", \"film\", \"journey\", \"comedi\", \"legal\", \"loss\", \"island\", \"fulfil\", \"smart\", \"comic\", \"road\", \"bank\", \"cheat\", \"dad\", \"ill\", \"option\", \"quiet\", \"woo\", \"crew\", \"belov\", \"stone\", \"colleagu\", \"store\", \"goodby\", \"indian\", \"babu\", \"understand\", \"chain\", \"big\", \"youth\", \"thug\", \"writer\", \"black\", \"memori\", \"dream\", \"man\", \"cross\", \"law\", \"film\", \"ghost\", \"old\", \"love\", \"stori\", \"town\", \"uncl\", \"brother\", \"girl\", \"friend\", \"time\", \"life\", \"name\", \"relationship\", \"movi\", \"turn\", \"get\", \"school\", \"wife\", \"leav\", \"villag\", \"year\", \"want\", \"mother\", \"marri\", \"father\", \"famili\", \"tell\", \"monster\", \"planet\", \"ambit\", \"toy\", \"realis\", \"spirit\", \"guy\", \"set\", \"plane\", \"villag\", \"report\", \"mansion\", \"park\", \"govern\", \"battl\", \"unit\", \"hostag\", \"captain\", \"captur\", \"music\", \"weapon\", \"van\", \"raj\", \"giant\", \"artist\", \"class\", \"benefit\", \"arrest\", \"street\", \"forest\", \"destroy\", \"perform\", \"india\", \"land\", \"rao\", \"hand\", \"polic\", \"power\", \"build\", \"school\", \"offic\", \"littl\", \"singh\", \"citi\", \"job\", \"father\", \"kill\", \"use\", \"wed\", \"boy\", \"girl\", \"help\", \"start\", \"love\", \"mother\", \"plan\", \"return\", \"live\", \"famili\", \"get\", \"meet\", \"know\", \"friend\", \"stori\", \"day\", \"leav\", \"hous\", \"revolv\", \"season\", \"obsess\", \"hang\", \"swim\", \"describ\", \"team\", \"match\", \"ghost\", \"mark\", \"plot\", \"aunt\", \"coach\", \"termin\", \"babi\", \"tournament\", \"angel\", \"persuad\", \"affair\", \"hope\", \"host\", \"fianc\\u00e9\", \"audienc\", \"jail\", \"titl\", \"los\", \"rule\", \"cousin\", \"footag\", \"improv\", \"player\", \"ladi\", \"eye\", \"win\", \"game\", \"event\", \"hous\", \"play\", \"film\", \"car\", \"room\", \"priest\", \"say\", \"love\", \"father\", \"wed\", \"marri\", \"end\", \"hotel\", \"tell\", \"fight\", \"famili\", \"leav\", \"friend\", \"go\", \"girl\", \"kill\", \"marriag\", \"work\", \"mother\", \"get\", \"school\", \"man\"], \"Freq\": [104.0, 148.0, 128.0, 82.0, 174.0, 129.0, 121.0, 73.0, 105.0, 46.0, 95.0, 45.0, 118.0, 48.0, 137.0, 145.0, 157.0, 131.0, 88.0, 111.0, 106.0, 135.0, 117.0, 173.0, 95.0, 94.0, 37.0, 106.0, 94.0, 110.0, 19.22459687666631, 13.670819987965634, 17.124098789709773, 10.491624408528033, 9.29209746692069, 8.331579311078418, 11.134768285435165, 9.72353747505136, 10.377565742532097, 12.96019854006183, 8.8218289316646, 10.12524988873285, 7.773037732582432, 5.540812032686804, 8.128694553314416, 8.709170191828099, 10.181490615496202, 8.849807677894425, 6.8478708907056935, 7.373500784375744, 11.266859299993339, 5.759541666098935, 6.500676489406698, 7.9599116295078565, 6.724541775243273, 11.057625432114728, 19.207769509954726, 7.898345250250996, 8.333750538633463, 16.641403967408813, 12.273045279127434, 8.44515132262236, 10.129972343981073, 9.564928383939298, 10.576171613982348, 13.092577026843461, 9.610185835334736, 10.9446700378953, 16.00906113532008, 16.795788558843995, 17.4259615760176, 15.521318950589599, 17.93447380547277, 14.302843563432738, 15.186209683795104, 15.861380932939063, 13.681320140481352, 11.830091549339377, 13.394350816836408, 13.455792177460463, 15.231114681530826, 14.579455411193754, 12.520672581036505, 12.821944883858315, 12.951897867899532, 12.827752246564101, 12.30344105225816, 12.802084579241273, 12.437340952232233, 12.380784500447051, 12.419315666869586, 12.691809536997056, 15.062242679133298, 7.814988078594431, 9.05951426428326, 10.627358469924621, 8.456408909208857, 6.605077783703739, 8.630632081483519, 8.55435842823886, 7.592312398155302, 10.729365480216455, 8.462981485063231, 10.047090350771711, 4.615041142894374, 5.382895190760084, 7.430653692521315, 9.375790412587406, 6.832759894630202, 8.968636442444971, 6.376100392038426, 6.418279797150922, 4.826414159781005, 7.094359126482527, 10.166718779009845, 10.0229919204466, 5.667948255990883, 9.766728417427341, 8.28910708904015, 6.971831533695923, 6.927263650378891, 8.753084197384965, 8.388681795839293, 15.152572684869629, 18.596180005478853, 8.589934214584538, 9.418693543639044, 18.544884940429785, 14.555677129653192, 12.864440999153251, 18.86258541059902, 15.32736132509842, 10.343195301517223, 10.504696357850758, 13.425749203017412, 15.764332316985845, 14.544883935075514, 13.518941243544193, 13.499675159922903, 12.46490897704272, 11.670578063942568, 11.165451444756938, 11.741277992692087, 12.807763945244728, 13.46498866171607, 11.72884865402323, 12.268980722123944, 13.893545198277426, 11.819652216345474, 11.26350565753087, 11.951276599847363, 11.579679546829317, 11.824385347466388, 11.423830735298868, 11.29664244485372, 62.720712891924435, 44.88291847034681, 38.376394167469975, 33.97461783744594, 54.69625887940363, 66.95513188005557, 96.88152144552369, 84.98165470840877, 36.66107317248764, 182.64836841626652, 40.58776461287504, 39.25261966758498, 48.90125487798088, 32.71024209805501, 49.456468434341986, 47.67699083165276, 29.7366922581517, 47.47376246321902, 48.747655529103874, 48.069204138573504, 36.64611934703234, 35.3824204566954, 69.00048684175059, 29.216805091774873, 56.15195399585554, 48.18977798958564, 28.25746726379941, 53.33978233564803, 33.2380245211812, 33.453258573709704, 64.73829928251797, 64.93986611479002, 51.17916570268825, 67.33216245630159, 61.437730710171664, 74.14280312975362, 92.91008692802181, 65.68509468312554, 54.73848794574614, 111.01681340929206, 81.27022494704187, 58.4562481204227, 58.85324870374283, 67.50504904323614, 74.68813429526223, 115.53175574383057, 96.15393436565087, 61.251970177965205, 84.12846970262157, 82.93360813706462, 93.23244072995855, 76.72715095036416, 73.4055230978306, 90.32933844465467, 78.47831534539533, 70.71510533450778, 70.86018388392372, 74.53580181837549, 78.09187597530254, 74.96102878323596, 72.54792574660685, 69.98275071144415, 72.65536122735224, 70.88837869233035, 68.83174422861599, 68.6058779233093, 68.38661829623226, 33.28791298904527, 23.093976058349792, 20.501345277605424, 33.65134449321546, 24.87023228148291, 21.3786096099166, 56.789933838428375, 23.334404079691325, 61.260652103582494, 25.62883718125453, 36.92912224680737, 19.481019568363674, 19.967045359708713, 14.186896435447926, 44.039269392077706, 17.954745354382023, 17.065300144304764, 18.407659179562092, 23.552108954882243, 17.980661688045405, 15.590611984197805, 16.026878487979804, 16.83316564201812, 22.278414411747228, 16.53460626310725, 14.277990877727833, 17.72504775835512, 21.298330537584818, 11.762709949534518, 11.562504582226053, 31.19111042767426, 39.6623665376247, 24.901944944653156, 40.55610830206696, 40.16974357362031, 29.760277446411088, 54.73723306935323, 37.760428792250046, 53.80599144606541, 33.83185823306749, 33.59085295357148, 26.516852033309764, 32.549837289083975, 52.23549487321133, 54.74104735741195, 43.039202521232156, 41.6041387491912, 37.76946763196009, 34.694935898202395, 40.03549451737713, 36.340351811029876, 40.09043999449895, 37.71013791569032, 38.33410648476069, 36.18415598431853, 38.68324171577591, 38.7376976195262, 35.10598023951944, 34.54556487043138, 35.259381113773955, 34.84862905506677, 34.45964474372922, 34.11342503174739], \"Total\": [104.0, 148.0, 128.0, 82.0, 174.0, 129.0, 121.0, 73.0, 105.0, 46.0, 95.0, 45.0, 118.0, 48.0, 137.0, 145.0, 157.0, 131.0, 88.0, 111.0, 106.0, 135.0, 117.0, 173.0, 95.0, 94.0, 37.0, 106.0, 94.0, 110.0, 46.518093501350116, 33.39075440712918, 45.36409665630758, 31.675242383577327, 29.954394127081468, 26.932306529275532, 37.49466316680831, 32.97049855898287, 35.60935792825372, 45.08682797455815, 31.462940346844505, 36.88788271198737, 28.574186188263404, 20.418006909149554, 30.41408503205674, 33.78649996762603, 40.750848467783484, 36.43848650811473, 28.268651445808324, 30.577388673038577, 47.02308078001412, 24.161403314934958, 27.447228994456793, 33.82024893702159, 28.67317261073892, 47.510131307621144, 82.8416638783258, 34.47703180922125, 36.487363925712586, 73.42134860989486, 55.36221191737751, 37.269318270523456, 46.10122044876825, 43.19961511076001, 50.5079398911669, 68.77765732694974, 44.64704749173315, 54.73499509155931, 105.31168233777541, 121.31799026587123, 131.27229727934522, 118.21376945700345, 160.46450778351652, 106.19789039358614, 129.4110341582977, 145.46752763803943, 106.82178415432232, 71.7291995730624, 106.95471693789582, 119.0194089122829, 197.32830313023976, 173.5209022259311, 96.55031943843733, 108.53038744855219, 123.56694328245521, 128.92335162284468, 121.16684296198746, 174.2295033077063, 135.0547627357797, 137.9151361476355, 148.97888359096373, 37.14638305405335, 48.842600260149, 26.64804196124878, 31.4663564445057, 38.190433139431406, 30.65553830985345, 24.516996227066183, 32.34416864984064, 32.781627152733286, 29.17812888694173, 42.218008121895096, 33.5679631304479, 39.887052116701895, 19.783222235151193, 23.084612584187866, 33.09296469803832, 43.19123436090592, 31.715497811548293, 41.86100288289463, 29.783693450184753, 30.193327336596248, 23.03511471041542, 33.907432938631125, 48.59246200715586, 48.59190252207045, 27.59127089634111, 48.33397227212867, 41.08077116182034, 34.58140947847505, 34.41559500419468, 45.93781070989737, 43.85969009227768, 95.04509766577948, 128.92335162284468, 45.830575678946005, 53.2255246246463, 148.97888359096373, 104.11707449079859, 88.17124501242284, 174.2295033077063, 129.4110341582977, 63.870360116668564, 67.00686395509123, 111.15029199704128, 157.59882922325352, 137.9151361476355, 117.6177330673311, 121.31799026587123, 110.8486459796755, 94.20532228407113, 82.8416638783258, 98.88799936327294, 135.0547627357797, 173.5209022259311, 105.31168233777541, 127.5377948712509, 230.47202332949365, 118.21376945700345, 94.88308005807758, 137.05248942016738, 128.55998056665024, 197.32830313023976, 145.46752763803943, 129.4800890306119, 70.19437331348497, 53.965722780362746, 47.504655088262595, 42.32675265297572, 68.2059449558385, 83.5590148119963, 121.13842690005482, 106.47180395679325, 46.10565757395806, 230.47202332949365, 51.3398359396324, 49.69647510688143, 62.136035693734826, 41.81491283806383, 63.26491010765941, 61.0188454391715, 38.289956346922935, 61.19187418952269, 63.266303581067646, 62.415939148808114, 47.62946463418964, 46.16275164233902, 90.24777216639569, 38.219189193244354, 73.5294090996241, 63.430549460687956, 37.233582495989985, 70.34373522353765, 43.88080904562202, 44.19528207129735, 85.69913135310178, 86.34150304585917, 68.78427706157734, 92.07810115121293, 83.97906499301962, 103.26874932734631, 132.37458650333127, 90.72852946611468, 74.28868373206834, 173.5209022259311, 120.50977818673081, 80.73678955444134, 81.41351903191648, 97.5298298490513, 111.59969500788614, 197.32830313023976, 160.46450778351652, 86.77247173704001, 135.22224957312096, 133.19502305365714, 157.59882922325352, 123.34497097963785, 119.0194089122829, 174.2295033077063, 137.05248942016738, 115.48922049950082, 116.70348409371493, 131.0131038914868, 145.46752763803943, 135.0547627357797, 131.27229727934522, 115.52231754849169, 137.9151361476355, 129.4110341582977, 121.16684296198746, 127.5377948712509, 143.69420152097504, 49.79161779958126, 36.17751973384652, 32.79499701578505, 54.27764342291409, 40.8916624953083, 35.9376193915802, 95.6491339324605, 39.63527763492673, 104.11707449079859, 43.84823986447003, 65.26566305665622, 34.65832052269462, 35.910934747628666, 26.051375380907785, 81.47658922187264, 33.849274357718684, 32.536062485784505, 35.26472555177189, 45.49062800677082, 35.176669110403765, 30.59402138770009, 31.572221762249864, 33.846216560880706, 45.367687101446634, 33.72937818724157, 29.152911532228135, 36.23963073108189, 44.13731464804954, 24.603551423988634, 24.188249393860133, 66.67305254887803, 86.42342191146717, 53.51157039051527, 91.8973506312978, 94.52200929037801, 67.5346934635185, 143.69420152097504, 94.60635593736993, 148.97888359096373, 82.5375550376959, 83.99712692983937, 60.287993252999485, 83.07568184945617, 174.2295033077063, 197.32830313023976, 135.22224957312096, 128.55998056665024, 109.07625185181715, 95.0924128449955, 129.4800890306119, 114.69452261446142, 145.46752763803943, 127.5377948712509, 137.9151361476355, 123.56694328245521, 157.59882922325352, 160.46450778351652, 116.90629460507486, 115.58081681320405, 137.05248942016738, 135.0547627357797, 173.5209022259311, 128.92335162284468], \"Category\": [\"Default\", \"Default\", \"Default\", \"Default\", \"Default\", \"Default\", \"Default\", \"Default\", \"Default\", \"Default\", \"Default\", \"Default\", \"Default\", \"Default\", \"Default\", \"Default\", \"Default\", \"Default\", \"Default\", \"Default\", \"Default\", \"Default\", \"Default\", \"Default\", \"Default\", \"Default\", \"Default\", \"Default\", \"Default\", \"Default\", \"Topic1\", \"Topic1\", \"Topic1\", \"Topic1\", \"Topic1\", \"Topic1\", \"Topic1\", \"Topic1\", \"Topic1\", \"Topic1\", \"Topic1\", \"Topic1\", \"Topic1\", \"Topic1\", \"Topic1\", \"Topic1\", \"Topic1\", \"Topic1\", \"Topic1\", \"Topic1\", \"Topic1\", \"Topic1\", \"Topic1\", \"Topic1\", \"Topic1\", \"Topic1\", \"Topic1\", \"Topic1\", \"Topic1\", \"Topic1\", \"Topic1\", \"Topic1\", \"Topic1\", \"Topic1\", \"Topic1\", \"Topic1\", \"Topic1\", \"Topic1\", \"Topic1\", \"Topic1\", \"Topic1\", \"Topic1\", \"Topic1\", \"Topic1\", \"Topic1\", \"Topic1\", \"Topic1\", \"Topic1\", \"Topic1\", \"Topic1\", \"Topic1\", \"Topic1\", \"Topic1\", \"Topic1\", \"Topic1\", \"Topic1\", \"Topic1\", \"Topic1\", \"Topic1\", \"Topic1\", \"Topic1\", \"Topic2\", \"Topic2\", \"Topic2\", \"Topic2\", \"Topic2\", \"Topic2\", \"Topic2\", \"Topic2\", \"Topic2\", \"Topic2\", \"Topic2\", \"Topic2\", \"Topic2\", \"Topic2\", \"Topic2\", \"Topic2\", \"Topic2\", \"Topic2\", \"Topic2\", \"Topic2\", \"Topic2\", \"Topic2\", \"Topic2\", \"Topic2\", \"Topic2\", \"Topic2\", \"Topic2\", \"Topic2\", \"Topic2\", \"Topic2\", \"Topic2\", \"Topic2\", \"Topic2\", \"Topic2\", \"Topic2\", \"Topic2\", \"Topic2\", \"Topic2\", \"Topic2\", \"Topic2\", \"Topic2\", \"Topic2\", \"Topic2\", \"Topic2\", \"Topic2\", \"Topic2\", \"Topic2\", \"Topic2\", \"Topic2\", \"Topic2\", \"Topic2\", \"Topic2\", \"Topic2\", \"Topic2\", \"Topic2\", \"Topic2\", \"Topic2\", \"Topic2\", \"Topic2\", \"Topic2\", \"Topic2\", \"Topic2\", \"Topic2\", \"Topic2\", \"Topic3\", \"Topic3\", \"Topic3\", \"Topic3\", \"Topic3\", \"Topic3\", \"Topic3\", \"Topic3\", \"Topic3\", \"Topic3\", \"Topic3\", \"Topic3\", \"Topic3\", \"Topic3\", \"Topic3\", \"Topic3\", \"Topic3\", \"Topic3\", \"Topic3\", \"Topic3\", \"Topic3\", \"Topic3\", \"Topic3\", \"Topic3\", \"Topic3\", \"Topic3\", \"Topic3\", \"Topic3\", \"Topic3\", \"Topic3\", \"Topic3\", \"Topic3\", \"Topic3\", \"Topic3\", \"Topic3\", \"Topic3\", \"Topic3\", \"Topic3\", \"Topic3\", \"Topic3\", \"Topic3\", \"Topic3\", \"Topic3\", \"Topic3\", \"Topic3\", \"Topic3\", \"Topic3\", \"Topic3\", \"Topic3\", \"Topic3\", \"Topic3\", \"Topic3\", \"Topic3\", \"Topic3\", \"Topic3\", \"Topic3\", \"Topic3\", \"Topic3\", \"Topic3\", \"Topic3\", \"Topic3\", \"Topic3\", \"Topic3\", \"Topic3\", \"Topic3\", \"Topic3\", \"Topic3\", \"Topic4\", \"Topic4\", \"Topic4\", \"Topic4\", \"Topic4\", \"Topic4\", \"Topic4\", \"Topic4\", \"Topic4\", \"Topic4\", \"Topic4\", \"Topic4\", \"Topic4\", \"Topic4\", \"Topic4\", \"Topic4\", \"Topic4\", \"Topic4\", \"Topic4\", \"Topic4\", \"Topic4\", \"Topic4\", \"Topic4\", \"Topic4\", \"Topic4\", \"Topic4\", \"Topic4\", \"Topic4\", \"Topic4\", \"Topic4\", \"Topic4\", \"Topic4\", \"Topic4\", \"Topic4\", \"Topic4\", \"Topic4\", \"Topic4\", \"Topic4\", \"Topic4\", \"Topic4\", \"Topic4\", \"Topic4\", \"Topic4\", \"Topic4\", \"Topic4\", \"Topic4\", \"Topic4\", \"Topic4\", \"Topic4\", \"Topic4\", \"Topic4\", \"Topic4\", \"Topic4\", \"Topic4\", \"Topic4\", \"Topic4\", \"Topic4\", \"Topic4\", \"Topic4\", \"Topic4\", \"Topic4\", \"Topic4\", \"Topic4\"], \"logprob\": [30.0, 29.0, 28.0, 27.0, 26.0, 25.0, 24.0, 23.0, 22.0, 21.0, 20.0, 19.0, 18.0, 17.0, 16.0, 15.0, 14.0, 13.0, 12.0, 11.0, 10.0, 9.0, 8.0, 7.0, 6.0, 5.0, 4.0, 3.0, 2.0, 1.0, -5.7545, -6.0954, -5.8702, -6.3601, -6.4815, -6.5906, -6.3006, -6.4361, -6.371, -6.1488, -6.5334, -6.3956, -6.66, -6.9985, -6.6153, -6.5463, -6.3901, -6.5303, -6.7867, -6.7128, -6.2888, -6.9598, -6.8388, -6.6362, -6.8049, -6.3075, -5.7553, -6.644, -6.5903, -5.8988, -6.2033, -6.5771, -6.3952, -6.4526, -6.3521, -6.1386, -6.4478, -6.3178, -5.9375, -5.8895, -5.8527, -5.9684, -5.8239, -6.0502, -5.9903, -5.9468, -6.0946, -6.24, -6.1158, -6.1112, -5.9873, -6.031, -6.1833, -6.1595, -6.1494, -6.159, -6.2008, -6.1611, -6.19, -6.1945, -6.1914, -6.0209, -5.8497, -6.5058, -6.3581, -6.1985, -6.427, -6.6741, -6.4066, -6.4155, -6.5348, -6.1889, -6.4262, -6.2546, -7.0326, -6.8787, -6.5563, -6.3238, -6.6402, -6.3682, -6.7093, -6.7027, -6.9878, -6.6026, -6.2428, -6.257, -6.8271, -6.2829, -6.4469, -6.62, -6.6264, -6.3925, -6.435, -5.8437, -5.6389, -6.4113, -6.3192, -5.6417, -5.8839, -6.0074, -5.6247, -5.8323, -6.2256, -6.2101, -5.9647, -5.8041, -5.8847, -5.9578, -5.9592, -6.039, -6.1048, -6.1491, -6.0988, -6.0118, -5.9618, -6.0998, -6.0548, -5.9305, -6.0921, -6.1403, -6.0811, -6.1126, -6.0917, -6.1262, -6.1374, -6.2925, -6.6272, -6.7838, -6.9056, -6.4294, -6.2272, -5.8577, -5.9888, -6.8295, -5.2236, -6.7277, -6.7612, -6.5414, -6.9435, -6.5301, -6.5668, -7.0388, -6.571, -6.5446, -6.5586, -6.8299, -6.865, -6.1971, -7.0565, -6.4031, -6.5561, -7.0899, -6.4545, -6.9275, -6.9211, -6.2609, -6.2577, -6.4959, -6.2216, -6.3132, -6.1252, -5.8996, -6.2463, -6.4286, -5.7215, -6.0334, -6.3629, -6.3562, -6.219, -6.1179, -5.6817, -5.8653, -6.3162, -5.9989, -6.0132, -5.8961, -6.091, -6.1352, -5.9277, -6.0684, -6.1726, -6.1705, -6.1199, -6.0733, -6.1142, -6.147, -6.183, -6.1455, -6.1701, -6.1995, -6.2028, -6.206, -6.1557, -6.5213, -6.6404, -6.1448, -6.4472, -6.5985, -5.6215, -6.511, -5.5458, -6.4172, -6.0519, -6.6915, -6.6668, -7.0086, -5.8758, -6.773, -6.8238, -6.7481, -6.5017, -6.7716, -6.9142, -6.8866, -6.8375, -6.5573, -6.8554, -7.0022, -6.7859, -6.6023, -7.196, -7.2131, -6.2208, -5.9805, -6.4459, -5.9582, -5.9678, -6.2677, -5.6583, -6.0296, -5.6755, -6.1395, -6.1466, -6.3831, -6.1781, -5.7051, -5.6583, -5.8988, -5.9327, -6.0294, -6.1143, -5.9711, -6.068, -5.9698, -6.031, -6.0146, -6.0723, -6.0055, -6.0041, -6.1025, -6.1186, -6.0982, -6.1099, -6.1211, -6.1312], \"loglift\": [30.0, 29.0, 28.0, 27.0, 26.0, 25.0, 24.0, 23.0, 22.0, 21.0, 20.0, 19.0, 18.0, 17.0, 16.0, 15.0, 14.0, 13.0, 12.0, 11.0, 10.0, 9.0, 8.0, 7.0, 6.0, 5.0, 4.0, 3.0, 2.0, 1.0, 1.4225, 1.4131, 1.3319, 1.2012, 1.1356, 1.1329, 1.092, 1.0851, 1.0732, 1.0594, 1.0346, 1.0133, 1.0043, 1.0019, 0.9866, 0.9505, 0.9192, 0.8909, 0.8883, 0.8838, 0.8774, 0.8722, 0.8658, 0.8595, 0.856, 0.8483, 0.8445, 0.8325, 0.8295, 0.8218, 0.7997, 0.8216, 0.7908, 0.7984, 0.7426, 0.6473, 0.7702, 0.6965, 0.4224, 0.3289, 0.2868, 0.2759, 0.1148, 0.3013, 0.1635, 0.0901, 0.251, 0.5039, 0.2286, 0.1263, -0.2554, -0.1705, 0.2635, 0.1703, 0.0506, -0.0015, 0.0189, -0.3046, -0.0788, -0.1043, -0.1784, 1.381, 1.2785, 1.2282, 1.2098, 1.1758, 1.167, 1.1434, 1.1338, 1.1115, 1.1086, 1.0851, 1.077, 1.0761, 0.9994, 0.999, 0.9612, 0.9274, 0.9198, 0.9143, 0.9135, 0.9064, 0.892, 0.8906, 0.8906, 0.8763, 0.8722, 0.8558, 0.8543, 0.8535, 0.8519, 0.797, 0.8008, 0.6187, 0.5187, 0.7806, 0.7231, 0.3713, 0.4874, 0.5301, 0.2317, 0.3216, 0.6344, 0.6019, 0.3412, 0.1526, 0.2055, 0.2916, 0.2592, 0.2697, 0.3665, 0.4508, 0.324, 0.0993, -0.1013, 0.26, 0.1136, -0.3538, 0.1522, 0.3238, 0.0154, 0.0478, -0.3598, -0.0893, 0.0159, 0.473, 0.4013, 0.3722, 0.3658, 0.3649, 0.3641, 0.3622, 0.3602, 0.3564, 0.353, 0.3506, 0.3497, 0.3461, 0.34, 0.3394, 0.3389, 0.3328, 0.3318, 0.3249, 0.3244, 0.3235, 0.3196, 0.3172, 0.317, 0.316, 0.3108, 0.3097, 0.3089, 0.3078, 0.3071, 0.3051, 0.3007, 0.29, 0.2726, 0.2731, 0.2543, 0.2316, 0.2626, 0.2802, 0.139, 0.1916, 0.2627, 0.2611, 0.2176, 0.184, 0.0503, 0.0735, 0.2373, 0.111, 0.1118, 0.0606, 0.1109, 0.1023, -0.0713, 0.0281, 0.0951, 0.0867, 0.0216, -0.0365, -0.0031, -0.0074, 0.0844, -0.0553, -0.0163, 0.0201, -0.0344, -0.1569, 0.9533, 0.907, 0.8861, 0.8779, 0.8587, 0.8365, 0.8346, 0.8261, 0.8255, 0.8189, 0.7864, 0.7798, 0.769, 0.7482, 0.7407, 0.7219, 0.7106, 0.7058, 0.6976, 0.6848, 0.6818, 0.6779, 0.6574, 0.6447, 0.643, 0.6421, 0.6407, 0.6272, 0.618, 0.6178, 0.5962, 0.5771, 0.591, 0.5379, 0.5002, 0.5364, 0.3908, 0.4375, 0.3375, 0.4641, 0.4394, 0.5346, 0.4189, 0.1513, 0.0737, 0.2111, 0.2277, 0.2954, 0.3477, 0.1822, 0.2066, 0.0671, 0.1374, 0.0756, 0.1278, -0.0487, -0.0653, 0.1529, 0.1482, -0.0017, 0.0012, -0.2606, 0.0264]}, \"token.table\": {\"Topic\": [1, 2, 3, 4, 1, 2, 3, 4, 1, 2, 3, 4, 1, 2, 3, 4, 1, 2, 3, 4, 1, 2, 3, 4, 1, 2, 3, 4, 1, 2, 3, 4, 1, 2, 3, 4, 1, 2, 3, 4, 1, 2, 3, 4, 1, 2, 3, 4, 1, 2, 3, 4, 1, 2, 3, 4, 1, 2, 3, 4, 1, 2, 3, 4, 1, 2, 3, 4, 1, 2, 3, 4, 1, 2, 3, 4, 1, 2, 3, 4, 1, 2, 3, 4, 1, 2, 3, 4, 1, 2, 3, 4, 1, 2, 3, 4, 1, 2, 3, 4, 1, 2, 3, 4, 1, 2, 3, 4, 1, 2, 3, 4, 1, 2, 3, 4, 1, 2, 3, 4, 1, 2, 3, 4, 1, 2, 3, 4, 1, 2, 3, 4, 1, 2, 3, 4, 1, 2, 3, 4, 1, 2, 3, 4, 1, 2, 3, 4, 1, 2, 3, 4, 1, 2, 3, 4, 1, 2, 3, 4, 1, 2, 3, 4, 1, 2, 3, 4, 1, 2, 3, 4, 1, 2, 3, 4, 1, 2, 3, 4, 1, 2, 3, 4, 1, 2, 3, 4, 1, 2, 3, 4, 1, 2, 3, 4, 1, 2, 3, 4, 1, 2, 3, 4, 1, 2, 3, 4, 1, 2, 3, 4, 1, 2, 3, 4, 1, 2, 3, 4, 1, 2, 3, 4, 1, 2, 3, 4, 1, 2, 3, 4, 1, 2, 3, 4, 1, 2, 3, 4, 1, 2, 3, 4, 1, 2, 3, 4, 1, 2, 3, 4, 1, 2, 3, 4, 1, 2, 3, 4, 1, 2, 3, 4, 1, 2, 3, 4, 1, 2, 3, 4, 1, 2, 3, 4, 1, 2, 3, 4, 1, 2, 3, 4, 1, 2, 3, 4, 1, 2, 3, 4, 1, 2, 3, 4, 1, 2, 3, 4, 1, 2, 3, 4, 1, 2, 3, 4, 1, 2, 3, 4, 1, 2, 3, 4, 1, 2, 3, 4, 1, 2, 3, 4, 1, 2, 3, 4, 1, 2, 3, 4, 1, 2, 3, 4, 1, 2, 3, 4, 1, 2, 3, 4, 1, 2, 3, 4, 1, 2, 3, 4, 1, 2, 3, 4, 1, 2, 3, 4, 1, 2, 3, 4, 1, 2, 3, 4, 1, 2, 3, 4, 1, 2, 3, 4, 1, 2, 3, 4, 1, 2, 3, 4, 1, 2, 3, 4, 1, 2, 3, 4, 1, 2, 3, 4, 1, 2, 3, 4, 1, 2, 3, 4, 1, 2, 3, 4, 1, 2, 3, 4, 1, 2, 3, 4, 1, 2, 3, 4, 1, 2, 3, 4, 1, 2, 3, 4, 1, 2, 3, 4, 1, 2, 3, 4, 1, 2, 3, 4, 1, 2, 3, 4, 1, 2, 3, 4, 1, 2, 3, 4, 1, 2, 3, 4, 1, 2, 3, 4, 1, 2, 3, 4, 1, 2, 3, 4, 1, 2, 3, 4, 1, 2, 3, 4, 1, 2, 3, 4, 1, 2, 3, 4, 1, 2, 3, 4, 1, 2, 3, 4, 1, 2, 3, 4, 1, 2, 3, 4, 1, 2, 3, 4, 1, 2, 3, 4, 1, 2, 3, 4, 1, 2, 3, 4, 1, 2, 3, 4, 1, 2, 3, 4, 1, 2, 3, 4, 1, 2, 3, 4, 1, 2, 3, 4, 1, 2, 3, 4, 1, 2, 3, 4, 1, 2, 3, 4, 1, 2, 3, 4, 1, 2, 3, 4, 1, 2, 3, 4, 1, 2, 3, 4, 1, 2, 3, 4, 1, 2, 3, 4, 1, 2, 3, 4, 1, 2, 3, 4, 1, 2, 3, 4, 1, 2, 3, 4, 1, 2, 3, 4, 1, 2, 3, 4, 1, 2, 3, 4, 1, 2, 3, 4, 1, 2, 3, 4, 1, 2, 3, 4, 1, 2, 3, 4, 1, 2, 3, 4, 1, 2, 3, 4, 1, 2, 3, 4, 1, 2, 3, 4, 1, 2, 3, 4, 1, 2, 3, 4, 1, 2, 3, 4, 1, 2, 3, 4, 1, 2, 3, 4, 1, 2, 3, 4, 1, 2, 3, 4, 1, 2, 3, 4, 1, 2, 3, 4, 1, 2, 3, 4, 1, 2, 3, 4, 1, 2, 3, 4, 1, 2, 3, 4, 1, 2, 3, 4, 1, 2, 3, 4, 1, 2, 3, 4, 1, 2, 3, 4, 1, 2, 3, 4, 1, 2, 3, 4, 1, 2, 3, 4, 1, 2, 3, 4, 1, 2, 3, 4, 1, 2, 3, 4, 1, 2, 3, 4, 1, 2, 3, 4, 1, 2, 3, 4, 1, 2, 3, 4, 1, 2, 3, 4, 1, 2, 3, 4, 1, 2, 3, 4, 1, 2, 3, 4, 1, 2, 3, 4, 1, 2, 3, 4, 1, 2, 3, 4, 1, 2, 3, 4, 1, 2, 3, 4, 1, 2, 3, 4, 1, 2, 3, 4, 1, 2, 3, 4, 1, 2, 3, 4, 1, 2, 3, 4, 1, 2, 3, 4, 1, 2, 3, 4, 1, 2, 3, 4, 1, 2, 3, 4, 1, 2, 3, 4, 1, 2, 3, 4, 1, 2, 3, 4, 1, 2, 3, 4, 1, 2, 3, 4, 1, 2, 3, 4], \"Freq\": [0.08793019958758627, 0.08793019958758627, 0.28577314865965536, 0.5275811975255176, 0.2146537787981824, 0.0536634446995456, 0.5098027246456832, 0.2146537787981824, 0.04210113716822161, 0.04210113716822161, 0.7999216061962106, 0.10525284292055402, 0.28605082362884215, 0.06356684969529826, 0.5403182224100352, 0.12713369939059652, 0.23154028524217193, 0.01362001677895129, 0.6946208557265158, 0.05448006711580516, 0.1229405064533442, 0.0614702532266721, 0.27661613952002445, 0.5224971524267128, 0.0426477210865563, 0.056863628115408404, 0.7534430725291613, 0.142159070288521, 0.027200000985867088, 0.054400001971734176, 0.7616000276042785, 0.16320000591520253, 0.05909079959949173, 0.11818159919898347, 0.32499939779720455, 0.5022717965956797, 0.05770620069978231, 0.05770620069978231, 0.31738410384880267, 0.5482089066479319, 0.1350081060713697, 0.04909385675322535, 0.28228967633104574, 0.5400324242854788, 0.16463458877267625, 0.20579323596584534, 0.4939037663180288, 0.1234759415795072, 0.13708898248750093, 0.27417796497500185, 0.3084502105968771, 0.27417796497500185, 0.047419651666221106, 0.047419651666221106, 0.7745209772149447, 0.12645240444325628, 0.21675434532689525, 0.10837717266344762, 0.46963441487493973, 0.19869148321632066, 0.13464481604630107, 0.08285834833618527, 0.5489365577272274, 0.24857504500855582, 0.06306065293011914, 0.220712285255417, 0.5675458763710722, 0.15765163232529786, 0.05371494940663842, 0.05371494940663842, 0.752009291692938, 0.13428737351659606, 0.18620443503646741, 0.206893816707186, 0.33103010673149763, 0.26896196171934184, 0.13061136147498842, 0.19591704221248263, 0.5659825663916165, 0.10884280122915702, 0.0900934563836206, 0.060062304255747066, 0.6231464066533758, 0.22523364095905152, 0.08097144720267196, 0.11695875707052616, 0.5128191656169224, 0.2789016514758701, 0.08076600228427482, 0.04038300114213741, 0.7403550209391857, 0.14807100418783714, 0.03268407818014571, 0.049026117270218564, 0.7680758372334241, 0.13073631272058284, 0.07903101203934164, 0.031612404815736656, 0.7745039179855481, 0.12644961926294662, 0.09692557522871018, 0.03634709071076631, 0.4603964823363733, 0.41193369472201824, 0.24539366359220052, 0.0490787327184401, 0.466247960825181, 0.22085429723298047, 0.10873004042730888, 0.21746008085461777, 0.39867681490013257, 0.2899467744728237, 0.2320385363875876, 0.08701445114534534, 0.522086706872072, 0.17402890229069068, 0.09474629850965234, 0.26055232090154395, 0.18949259701930468, 0.45004491792084866, 0.11278600626110905, 0.07177291307525122, 0.6972225841595833, 0.11278600626110905, 0.06306109649072267, 0.06306109649072267, 0.756733157888672, 0.11035691885876467, 0.08354001423474786, 0.11138668564633047, 0.25062004270424354, 0.5569334282316524, 0.10072625831372135, 0.2014525166274427, 0.4700558721306996, 0.2014525166274427, 0.12284358261112974, 0.30710895652782433, 0.2047393043518829, 0.3685307478333892, 0.06183494841534145, 0.27825726786903654, 0.5565145357380731, 0.1236698968306829, 0.04531313279813187, 0.13593939839439562, 0.3171919295869231, 0.47578789438038466, 0.04630569210613435, 0.20837561447760455, 0.39359838290214194, 0.3472926907960076, 0.04363898926364076, 0.19637545168638343, 0.5236678711636891, 0.24001444095002417, 0.11916123669630078, 0.23832247339260157, 0.29790309174075197, 0.3276934009148271, 0.09903699483005139, 0.08253082902504283, 0.5694627202727954, 0.24759248707512846, 0.0834779835389672, 0.05565198902597813, 0.27825994512989066, 0.5843458847727704, 0.04667491883341271, 0.03500618912505953, 0.7584674310429566, 0.1633622159169445, 0.29704102733659166, 0.07426025683414791, 0.3341711557536656, 0.25991089891951774, 0.16729588607463772, 0.05576529535821257, 0.5158289820634663, 0.2648851529515097, 0.06312792713516534, 0.15781981783791335, 0.6523219137300418, 0.12625585427033068, 0.23152956426865273, 0.04209628441248232, 0.5262035551560289, 0.21048142206241158, 0.29385826083305555, 0.09795275361101852, 0.3428346376385648, 0.29385826083305555, 0.08251108602655992, 0.08251108602655992, 0.48589861771196396, 0.34838014100103076, 0.10365042974217872, 0.14807204248882674, 0.32575849347541885, 0.4442161274664802, 0.0560626417447046, 0.03737509449646974, 0.42981358670940195, 0.4671886812058717, 0.10999018309991566, 0.07561825088119202, 0.5362021426120889, 0.27497545774978915, 0.076015451215327, 0.06081236097226161, 0.5878528227318622, 0.2787233211228657, 0.06334682478353017, 0.09502023717529524, 0.3167341239176508, 0.5067745982682413, 0.07846930956112827, 0.07846930956112827, 0.5318475425809805, 0.3138772382445131, 0.08054832813049659, 0.12753485287328625, 0.42959108336264845, 0.3624674765872346, 0.0812890775617859, 0.0812890775617859, 0.36580084902803656, 0.4877344653707154, 0.0678805487689907, 0.0678805487689907, 0.7466860364588976, 0.11313424794831783, 0.08701002903085438, 0.10876253628856798, 0.5293110099376975, 0.27553175859770557, 0.097861599091076, 0.26096426424286934, 0.4240669293946627, 0.195723198182152, 0.052897732893506966, 0.021159093157402786, 0.5078182357776669, 0.4231818631480557, 0.08885284574137327, 0.09625724955315437, 0.5553302858835829, 0.2591541334123387, 0.019209145183739784, 0.14406858887804838, 0.2497188873886172, 0.5858789281040634, 0.10465946778135844, 0.02616486694533961, 0.7587811414148486, 0.10465946778135844, 0.06345224802294731, 0.1015235968367157, 0.59010590661341, 0.24746376728949454, 0.10520613081998784, 0.08092779293845218, 0.5260306540999392, 0.2913400545784278, 0.08682396528703597, 0.2170599132175899, 0.4775318090786978, 0.2170599132175899, 0.09565965174890492, 0.04782982587445246, 0.7891921269284656, 0.09565965174890492, 0.057785132093347596, 0.04127509435239114, 0.8007368304363881, 0.10731524531621697, 0.05810082952569618, 0.05810082952569618, 0.7165768974835862, 0.1646190169894725, 0.05527137529949406, 0.05527137529949406, 0.2763568764974703, 0.6264089200609326, 0.08107343104933584, 0.08918077415426943, 0.624265419079886, 0.21079092072827318, 0.13182936071624202, 0.07533106326642401, 0.5743993574064831, 0.21657680689096903, 0.23392767588879992, 0.04253230470705453, 0.5316538088381817, 0.1913953711817454, 0.08528379962822367, 0.056855866418815786, 0.3411351985128947, 0.5117027977693421, 0.06537224952075352, 0.06537224952075352, 0.3268612476037676, 0.5229779961660281, 0.0522330185461474, 0.0522330185461474, 0.783495278192211, 0.1044660370922948, 0.08412868872136335, 0.031548258270511255, 0.525804304508521, 0.3680630131559647, 0.07655145359775933, 0.06263300748907583, 0.47322716769523954, 0.38275726798879667, 0.26303602398585796, 0.06575900599646449, 0.2301565209876257, 0.4603130419752514, 0.18901487060255104, 0.058158421723861854, 0.4798069792218603, 0.2762525031883438, 0.10028316929255048, 0.2507079232313762, 0.5014158464627524, 0.1504247539388257, 0.08268477670433122, 0.08268477670433122, 0.37208149516949046, 0.4961086602259873, 0.07269103076454346, 0.07269103076454346, 0.7414485137983433, 0.11630564922326955, 0.08847617587063236, 0.20644441036480884, 0.50136499660025, 0.17695235174126472, 0.05236913634098094, 0.28803024987539516, 0.39276852255735706, 0.28803024987539516, 0.0661263597875665, 0.044084239858377665, 0.4188002786545878, 0.48492663844215433, 0.408443222193716, 0.042994023388812204, 0.19347310524965494, 0.3654491988049038, 0.26637858341715576, 0.05919524075936795, 0.5327571668343115, 0.14798810189841985, 0.03584239186063494, 0.08064538168642861, 0.6720448473869052, 0.21505435116380964, 0.16152312840981403, 0.34996677822126376, 0.18844364981144973, 0.2961257354179924, 0.2933750851704574, 0.10668184915289361, 0.40005693432335104, 0.1866932360175638, 0.22892733172379126, 0.06540780906394036, 0.359742949851672, 0.3270390453197018, 0.112174338416841, 0.049855261518596004, 0.598263138223152, 0.24304439990315552, 0.10387603239489093, 0.06925068826326063, 0.6059435223035304, 0.21640840082268945, 0.3747456965537583, 0.176350916025298, 0.28657023854110925, 0.15430705152213575, 0.057854686720482315, 0.03471281203228939, 0.45126655641976204, 0.4628374937638585, 0.03258103677739103, 0.054301727962318386, 0.7276431546950664, 0.1846258750718825, 0.11978212098581632, 0.07371207445281004, 0.5804825863158791, 0.2303502326650314, 0.11272786961355145, 0.16909180442032717, 0.46969945672313107, 0.2254557392271029, 0.07056731699874126, 0.09408975599832169, 0.5410160969903497, 0.29795089399468533, 0.07505241859452086, 0.30020967437808344, 0.3752620929726043, 0.262683465080823, 0.2883325481964647, 0.08871770713737376, 0.33269140176515155, 0.2661531214121213, 0.14012760978601854, 0.10715640748342595, 0.494568034538889, 0.2555268178450926, 0.07431556336475531, 0.024771854454918436, 0.7183837791926346, 0.18578890841188828, 0.09159389132509331, 0.07632824277091109, 0.5724618207818332, 0.2595160254210977, 0.10290567364716015, 0.0686037824314401, 0.3430189121572005, 0.4802264770200807, 0.06355994865586725, 0.28601976895140263, 0.4131396662631372, 0.2224598202955354, 0.07461422866505411, 0.10905156497200216, 0.5165600446042208, 0.29845691466021645, 0.23148354387789985, 0.046296708775579974, 0.5787088596947496, 0.13889012632673992, 0.1008351073437068, 0.14737438765618688, 0.4886624432810407, 0.26372258843738705, 0.08048860591012265, 0.040244302955061324, 0.7847639076236959, 0.10061075738765332, 0.419277738660822, 0.1796904594260666, 0.23958727923475545, 0.1796904594260666, 0.04561186506417988, 0.09122373012835976, 0.2964771229171692, 0.5929542458343384, 0.07000623335761993, 0.09334164447682658, 0.521157514995615, 0.32669575566889303, 0.059877015379256854, 0.07698473405904453, 0.5645547164329932, 0.29938507689628424, 0.31570397722306626, 0.06314079544461325, 0.252563181778453, 0.3788447726676795, 0.07569014723783317, 0.07569014723783317, 0.27753053987205495, 0.5802911288233876, 0.12950180923416224, 0.06855978135926236, 0.5560960043584614, 0.2437681114995995, 0.06839993610735079, 0.1823998296196021, 0.5471994888588063, 0.20519980832205237, 0.21925398656608386, 0.027406748320760482, 0.3014742315283653, 0.4111012248114072, 0.028492312212377597, 0.014246156106188798, 0.8975078346898943, 0.056984624424755194, 0.08026121996424927, 0.08755769450645375, 0.5691250142919494, 0.25537660897715675, 0.2365446811138856, 0.0887042554177071, 0.4435212770885355, 0.2365446811138856, 0.22935319150405242, 0.13278342666024087, 0.3862790593752462, 0.2534956327150053, 0.06408619424060022, 0.04806464568045016, 0.7690343308872025, 0.11215083992105038, 0.09021310013866599, 0.10825572016639919, 0.5773638408874623, 0.22553275034666495, 0.131059409939967, 0.09361386424283358, 0.49615348048701796, 0.28084159272850073, 0.0609849117850918, 0.0609849117850918, 0.2439396471403672, 0.6403415737434639, 0.09957698188943563, 0.06638465459295709, 0.6721446277536905, 0.16596163648239273, 0.10207409455012174, 0.1474403587946203, 0.5217120388117333, 0.22683132122249278, 0.30045675308328773, 0.06676816735184171, 0.33384083675920856, 0.26707266940736685, 0.15164364855941137, 0.2527394142656856, 0.40438306282509695, 0.2527394142656856, 0.2476241221983711, 0.0707497491995346, 0.4598733697969749, 0.2476241221983711, 0.03218744127575007, 0.03218744127575007, 0.7885923112558767, 0.14484348574087533, 0.05790957793894687, 0.0463276623511575, 0.7528245132063093, 0.15056490264126185, 0.14178474160133575, 0.056713896640534306, 0.3119264315229387, 0.5104250697648087, 0.07792935099115074, 0.08658816776794526, 0.6147759911524113, 0.22512923619665767, 0.04337862434326636, 0.04337862434326636, 0.8025045503504276, 0.10844656085816588, 0.05559084258372338, 0.03706056172248225, 0.8338626387558506, 0.09265140430620562, 0.09513102910292902, 0.09513102910292902, 0.40166434510125587, 0.40166434510125587, 0.02999712662824009, 0.014998563314120045, 0.47995402605184145, 0.46495546273772137, 0.12257594001696283, 0.04596597750636106, 0.26047387253604604, 0.5669137225784531, 0.0906518412406751, 0.05288024072372714, 0.702551769615232, 0.15864072217118144, 0.07715323990360014, 0.04408756565920008, 0.7274448333768013, 0.15430647980720028, 0.22397897647882767, 0.0671936929436483, 0.5151516459013036, 0.2015810788309449, 0.033174101377150995, 0.033174101377150995, 0.4976115206572649, 0.44785036859153843, 0.21691399712753556, 0.06507419913826067, 0.45551939396782465, 0.26029679655304266, 0.1299566968715296, 0.21659449478588266, 0.4331889895717653, 0.21659449478588266, 0.06648363561747994, 0.03324181780873997, 0.7645618096010194, 0.14404787717120654, 0.04763091849537122, 0.04763091849537122, 0.7263715070544111, 0.17861594435764208, 0.04398443569607339, 0.08796887139214678, 0.8063813210946789, 0.07330739282678898, 0.10615111500649117, 0.1273813380077894, 0.456449794527912, 0.31845334501947353, 0.038956104229699653, 0.05843415634454948, 0.7986001367088429, 0.11686831268909896, 0.09425596918054999, 0.05998107129671362, 0.6083794374380953, 0.2399242851868545, 0.060251105157407225, 0.08033480687654297, 0.18075331547222168, 0.6627621567314795, 0.09151467637718722, 0.2745440291315617, 0.2440391370058326, 0.39656359763447796, 0.25503485256794817, 0.14573420146739893, 0.4736361547690466, 0.1821677518342487, 0.071431014599007, 0.047620676399338, 0.47620676399338, 0.404775749394373, 0.05518820031145203, 0.08278230046717805, 0.3863174021801642, 0.49669380280306824, 0.10833495193345699, 0.08426051817046655, 0.4092653739708375, 0.3972281570893423, 0.08644491705367809, 0.07491892811318768, 0.6396923861972178, 0.195941811988337, 0.055282949597256784, 0.08292442439588518, 0.24877327318765552, 0.635753920368453, 0.037568631800614725, 0.05635294770092209, 0.798333425763063, 0.10331373745169051, 0.24699159768877146, 0.10977404341723176, 0.5214267062318508, 0.1372175542715397, 0.03684891693262776, 0.03684891693262776, 0.7246953663416794, 0.20881052928489066, 0.20096831983997585, 0.14615877806543698, 0.4019366396799517, 0.2557778616145147, 0.08157606182571613, 0.28551621639000646, 0.4486683400414387, 0.20394015456429032, 0.30330144938847103, 0.18198086963308263, 0.30330144938847103, 0.24264115951077683, 0.12154676644648185, 0.09349751265113988, 0.5142363195812694, 0.27114278668830566, 0.27109173161490024, 0.05421834632298005, 0.4337467705838404, 0.2168733852919202, 0.035902768920263756, 0.0598379482004396, 0.8018285058858906, 0.10770830676079128, 0.10922588272624491, 0.05881393685259341, 0.6133453414627599, 0.2100497744735479, 0.16722007400497232, 0.21499723800639298, 0.47777164001420663, 0.16722007400497232, 0.16559950297162776, 0.1987194035659533, 0.3643189065375811, 0.26495920475460444, 0.11590974523587962, 0.11590974523587962, 0.5486394607831635, 0.21636485777364195, 0.27997297796309345, 0.06999324449077336, 0.4899527114354136, 0.13998648898154673, 0.06836701658989373, 0.04557801105992916, 0.7520371824888311, 0.13673403317978747, 0.04890972579629086, 0.171184040287018, 0.171184040287018, 0.6113715724536357, 0.07318414409212341, 0.04181951090978481, 0.29273657636849365, 0.5959280304644334, 0.08495514702186652, 0.08495514702186652, 0.5174540773150051, 0.30892780735224185, 0.0767713785071684, 0.0767713785071684, 0.3070855140286736, 0.5373996495501788, 0.24832994680781653, 0.08277664893593885, 0.41388324467969423, 0.2897182712757859, 0.057834542610094755, 0.20242089913533165, 0.5205108834908527, 0.23133817044037902, 0.07651907382748048, 0.11902967039830296, 0.5696419940490213, 0.23805934079660593, 0.059295489792234514, 0.08894323468835176, 0.35577293875340704, 0.5040116632339934, 0.05908546159258915, 0.05908546159258915, 0.3545127695555349, 0.5317691543333023, 0.10959700222784834, 0.15656714603978333, 0.56364172574322, 0.17222386064376166, 0.04725143968396056, 0.04725143968396056, 0.8032744746273296, 0.1181285992099014, 0.2177875404085475, 0.07919546923947182, 0.47517281543683093, 0.23758640771841547, 0.050562252570527814, 0.12134940616926675, 0.6168594813604393, 0.21236146079621682, 0.24413064068739643, 0.06975161162497041, 0.523137087187278, 0.17437902906242603, 0.029847688459803505, 0.16416228652891926, 0.6268014576558736, 0.19400997498872277, 0.08231824218414167, 0.2057956054603542, 0.4321707714667438, 0.26753428709846044, 0.2808250578442934, 0.11233002313771737, 0.36507257519758146, 0.22466004627543473, 0.03277675914064551, 0.04916513871096826, 0.7866422193754922, 0.13110703656258205, 0.08067074568548858, 0.04609756896313633, 0.7029879266878291, 0.17286588361176125, 0.04332497368215077, 0.04332497368215077, 0.7581870394376384, 0.1516374078875277, 0.047728135680372284, 0.060744899956837455, 0.7940226208643754, 0.09979519278623296, 0.09485358184505745, 0.11593215558840354, 0.4426500486102681, 0.34779646676521064, 0.0839816284042105, 0.04199081420210525, 0.7768300627389472, 0.10497703550526312, 0.029580930746437657, 0.03697616343304707, 0.6211995456751908, 0.3179950055242048, 0.15192996299006786, 0.11394747224255089, 0.5792329838996337, 0.15192996299006786, 0.06529023915033912, 0.05440853262528259, 0.43526826100226074, 0.4461499675273172, 0.060435806167543384, 0.21152532158640186, 0.6043580616754338, 0.12087161233508677, 0.08651954775645426, 0.06921563820516341, 0.5450731508656619, 0.30281841714758995, 0.05811318966753978, 0.20339616383638925, 0.5811318966753979, 0.14528297416884947, 0.13534802310672867, 0.10151101733004651, 0.5752290982035969, 0.19456278321592246, 0.14605373342105812, 0.1947383112280775, 0.36513433355264535, 0.29210746684211625], \"Term\": [\"affair\", \"affair\", \"affair\", \"affair\", \"alcohol\", \"alcohol\", \"alcohol\", \"alcohol\", \"ambit\", \"ambit\", \"ambit\", \"ambit\", \"american\", \"american\", \"american\", \"american\", \"ami\", \"ami\", \"ami\", \"ami\", \"angel\", \"angel\", \"angel\", \"angel\", \"arrest\", \"arrest\", \"arrest\", \"arrest\", \"artist\", \"artist\", \"artist\", \"artist\", \"audienc\", \"audienc\", \"audienc\", \"audienc\", \"aunt\", \"aunt\", \"aunt\", \"aunt\", \"babi\", \"babi\", \"babi\", \"babi\", \"babu\", \"babu\", \"babu\", \"babu\", \"bank\", \"bank\", \"bank\", \"bank\", \"battl\", \"battl\", \"battl\", \"battl\", \"beauti\", \"beauti\", \"beauti\", \"beauti\", \"begin\", \"begin\", \"begin\", \"begin\", \"belov\", \"belov\", \"belov\", \"belov\", \"benefit\", \"benefit\", \"benefit\", \"benefit\", \"big\", \"big\", \"big\", \"big\", \"black\", \"black\", \"black\", \"black\", \"boy\", \"boy\", \"boy\", \"boy\", \"brother\", \"brother\", \"brother\", \"brother\", \"build\", \"build\", \"build\", \"build\", \"captain\", \"captain\", \"captain\", \"captain\", \"captur\", \"captur\", \"captur\", \"captur\", \"car\", \"car\", \"car\", \"car\", \"cat\", \"cat\", \"cat\", \"cat\", \"chain\", \"chain\", \"chain\", \"chain\", \"chao\", \"chao\", \"chao\", \"chao\", \"cheat\", \"cheat\", \"cheat\", \"cheat\", \"citi\", \"citi\", \"citi\", \"citi\", \"class\", \"class\", \"class\", \"class\", \"coach\", \"coach\", \"coach\", \"coach\", \"colleagu\", \"colleagu\", \"colleagu\", \"colleagu\", \"comedi\", \"comedi\", \"comedi\", \"comedi\", \"comic\", \"comic\", \"comic\", \"comic\", \"cousin\", \"cousin\", \"cousin\", \"cousin\", \"crew\", \"crew\", \"crew\", \"crew\", \"cross\", \"cross\", \"cross\", \"cross\", \"dad\", \"dad\", \"dad\", \"dad\", \"day\", \"day\", \"day\", \"day\", \"describ\", \"describ\", \"describ\", \"describ\", \"destroy\", \"destroy\", \"destroy\", \"destroy\", \"devic\", \"devic\", \"devic\", \"devic\", \"divorc\", \"divorc\", \"divorc\", \"divorc\", \"dream\", \"dream\", \"dream\", \"dream\", \"earth\", \"earth\", \"earth\", \"earth\", \"easi\", \"easi\", \"easi\", \"easi\", \"end\", \"end\", \"end\", \"end\", \"event\", \"event\", \"event\", \"event\", \"eye\", \"eye\", \"eye\", \"eye\", \"famili\", \"famili\", \"famili\", \"famili\", \"father\", \"father\", \"father\", \"father\", \"fianc\\u00e9\", \"fianc\\u00e9\", \"fianc\\u00e9\", \"fianc\\u00e9\", \"fight\", \"fight\", \"fight\", \"fight\", \"film\", \"film\", \"film\", \"film\", \"footag\", \"footag\", \"footag\", \"footag\", \"forest\", \"forest\", \"forest\", \"forest\", \"friend\", \"friend\", \"friend\", \"friend\", \"fulfil\", \"fulfil\", \"fulfil\", \"fulfil\", \"game\", \"game\", \"game\", \"game\", \"get\", \"get\", \"get\", \"get\", \"ghost\", \"ghost\", \"ghost\", \"ghost\", \"giant\", \"giant\", \"giant\", \"giant\", \"girl\", \"girl\", \"girl\", \"girl\", \"go\", \"go\", \"go\", \"go\", \"goodby\", \"goodby\", \"goodby\", \"goodby\", \"govern\", \"govern\", \"govern\", \"govern\", \"guy\", \"guy\", \"guy\", \"guy\", \"hand\", \"hand\", \"hand\", \"hand\", \"hang\", \"hang\", \"hang\", \"hang\", \"help\", \"help\", \"help\", \"help\", \"home\", \"home\", \"home\", \"home\", \"hometown\", \"hometown\", \"hometown\", \"hometown\", \"hope\", \"hope\", \"hope\", \"hope\", \"host\", \"host\", \"host\", \"host\", \"hostag\", \"hostag\", \"hostag\", \"hostag\", \"hotel\", \"hotel\", \"hotel\", \"hotel\", \"hous\", \"hous\", \"hous\", \"hous\", \"hunt\", \"hunt\", \"hunt\", \"hunt\", \"husband\", \"husband\", \"husband\", \"husband\", \"ill\", \"ill\", \"ill\", \"ill\", \"improv\", \"improv\", \"improv\", \"improv\", \"india\", \"india\", \"india\", \"india\", \"indian\", \"indian\", \"indian\", \"indian\", \"island\", \"island\", \"island\", \"island\", \"jail\", \"jail\", \"jail\", \"jail\", \"jam\", \"jam\", \"jam\", \"jam\", \"japanes\", \"japanes\", \"japanes\", \"japanes\", \"job\", \"job\", \"job\", \"job\", \"journey\", \"journey\", \"journey\", \"journey\", \"joy\", \"joy\", \"joy\", \"joy\", \"kevin\", \"kevin\", \"kevin\", \"kevin\", \"kill\", \"kill\", \"kill\", \"kill\", \"know\", \"know\", \"know\", \"know\", \"krishna\", \"krishna\", \"krishna\", \"krishna\", \"ladi\", \"ladi\", \"ladi\", \"ladi\", \"land\", \"land\", \"land\", \"land\", \"later\", \"later\", \"later\", \"later\", \"law\", \"law\", \"law\", \"law\", \"leav\", \"leav\", \"leav\", \"leav\", \"legal\", \"legal\", \"legal\", \"legal\", \"lie\", \"lie\", \"lie\", \"lie\", \"life\", \"life\", \"life\", \"life\", \"littl\", \"littl\", \"littl\", \"littl\", \"live\", \"live\", \"live\", \"live\", \"los\", \"los\", \"los\", \"los\", \"loss\", \"loss\", \"loss\", \"loss\", \"love\", \"love\", \"love\", \"love\", \"lover\", \"lover\", \"lover\", \"lover\", \"man\", \"man\", \"man\", \"man\", \"mansion\", \"mansion\", \"mansion\", \"mansion\", \"mari\", \"mari\", \"mari\", \"mari\", \"mark\", \"mark\", \"mark\", \"mark\", \"marri\", \"marri\", \"marri\", \"marri\", \"marriag\", \"marriag\", \"marriag\", \"marriag\", \"martin\", \"martin\", \"martin\", \"martin\", \"match\", \"match\", \"match\", \"match\", \"meet\", \"meet\", \"meet\", \"meet\", \"memori\", \"memori\", \"memori\", \"memori\", \"michael\", \"michael\", \"michael\", \"michael\", \"monster\", \"monster\", \"monster\", \"monster\", \"mother\", \"mother\", \"mother\", \"mother\", \"motiv\", \"motiv\", \"motiv\", \"motiv\", \"movi\", \"movi\", \"movi\", \"movi\", \"music\", \"music\", \"music\", \"music\", \"name\", \"name\", \"name\", \"name\", \"new\", \"new\", \"new\", \"new\", \"obsess\", \"obsess\", \"obsess\", \"obsess\", \"offic\", \"offic\", \"offic\", \"offic\", \"old\", \"old\", \"old\", \"old\", \"older\", \"older\", \"older\", \"older\", \"option\", \"option\", \"option\", \"option\", \"panic\", \"panic\", \"panic\", \"panic\", \"park\", \"park\", \"park\", \"park\", \"perform\", \"perform\", \"perform\", \"perform\", \"persuad\", \"persuad\", \"persuad\", \"persuad\", \"plan\", \"plan\", \"plan\", \"plan\", \"plane\", \"plane\", \"plane\", \"plane\", \"planet\", \"planet\", \"planet\", \"planet\", \"play\", \"play\", \"play\", \"play\", \"player\", \"player\", \"player\", \"player\", \"plot\", \"plot\", \"plot\", \"plot\", \"polic\", \"polic\", \"polic\", \"polic\", \"power\", \"power\", \"power\", \"power\", \"prepar\", \"prepar\", \"prepar\", \"prepar\", \"priest\", \"priest\", \"priest\", \"priest\", \"produc\", \"produc\", \"produc\", \"produc\", \"quiet\", \"quiet\", \"quiet\", \"quiet\", \"raj\", \"raj\", \"raj\", \"raj\", \"rao\", \"rao\", \"rao\", \"rao\", \"realis\", \"realis\", \"realis\", \"realis\", \"relationship\", \"relationship\", \"relationship\", \"relationship\", \"report\", \"report\", \"report\", \"report\", \"return\", \"return\", \"return\", \"return\", \"revolv\", \"revolv\", \"revolv\", \"revolv\", \"road\", \"road\", \"road\", \"road\", \"rob\", \"rob\", \"rob\", \"rob\", \"room\", \"room\", \"room\", \"room\", \"rule\", \"rule\", \"rule\", \"rule\", \"say\", \"say\", \"say\", \"say\", \"school\", \"school\", \"school\", \"school\", \"season\", \"season\", \"season\", \"season\", \"set\", \"set\", \"set\", \"set\", \"simpl\", \"simpl\", \"simpl\", \"simpl\", \"singh\", \"singh\", \"singh\", \"singh\", \"small\", \"small\", \"small\", \"small\", \"smart\", \"smart\", \"smart\", \"smart\", \"societi\", \"societi\", \"societi\", \"societi\", \"son\", \"son\", \"son\", \"son\", \"speak\", \"speak\", \"speak\", \"speak\", \"spirit\", \"spirit\", \"spirit\", \"spirit\", \"start\", \"start\", \"start\", \"start\", \"stone\", \"stone\", \"stone\", \"stone\", \"store\", \"store\", \"store\", \"store\", \"stori\", \"stori\", \"stori\", \"stori\", \"strang\", \"strang\", \"strang\", \"strang\", \"street\", \"street\", \"street\", \"street\", \"swim\", \"swim\", \"swim\", \"swim\", \"team\", \"team\", \"team\", \"team\", \"tell\", \"tell\", \"tell\", \"tell\", \"termin\", \"termin\", \"termin\", \"termin\", \"text\", \"text\", \"text\", \"text\", \"thug\", \"thug\", \"thug\", \"thug\", \"time\", \"time\", \"time\", \"time\", \"titl\", \"titl\", \"titl\", \"titl\", \"tournament\", \"tournament\", \"tournament\", \"tournament\", \"town\", \"town\", \"town\", \"town\", \"toy\", \"toy\", \"toy\", \"toy\", \"trip\", \"trip\", \"trip\", \"trip\", \"turn\", \"turn\", \"turn\", \"turn\", \"twist\", \"twist\", \"twist\", \"twist\", \"uncl\", \"uncl\", \"uncl\", \"uncl\", \"understand\", \"understand\", \"understand\", \"understand\", \"unexpect\", \"unexpect\", \"unexpect\", \"unexpect\", \"unit\", \"unit\", \"unit\", \"unit\", \"use\", \"use\", \"use\", \"use\", \"van\", \"van\", \"van\", \"van\", \"villag\", \"villag\", \"villag\", \"villag\", \"want\", \"want\", \"want\", \"want\", \"weapon\", \"weapon\", \"weapon\", \"weapon\", \"wed\", \"wed\", \"wed\", \"wed\", \"wife\", \"wife\", \"wife\", \"wife\", \"win\", \"win\", \"win\", \"win\", \"woo\", \"woo\", \"woo\", \"woo\", \"work\", \"work\", \"work\", \"work\", \"writer\", \"writer\", \"writer\", \"writer\", \"year\", \"year\", \"year\", \"year\", \"youth\", \"youth\", \"youth\", \"youth\"]}, \"R\": 30, \"lambda.step\": 0.01, \"plot.opts\": {\"xlab\": \"PC1\", \"ylab\": \"PC2\"}, \"topic.order\": [1, 2, 3, 4]};\n",
              "\n",
              "function LDAvis_load_lib(url, callback){\n",
              "  var s = document.createElement('script');\n",
              "  s.src = url;\n",
              "  s.async = true;\n",
              "  s.onreadystatechange = s.onload = callback;\n",
              "  s.onerror = function(){console.warn(\"failed to load library \" + url);};\n",
              "  document.getElementsByTagName(\"head\")[0].appendChild(s);\n",
              "}\n",
              "\n",
              "if(typeof(LDAvis) !== \"undefined\"){\n",
              "   // already loaded: just create the visualization\n",
              "   !function(LDAvis){\n",
              "       new LDAvis(\"#\" + \"ldavis_el1051397264430294401297461168\", ldavis_el1051397264430294401297461168_data);\n",
              "   }(LDAvis);\n",
              "}else if(typeof define === \"function\" && define.amd){\n",
              "   // require.js is available: use it to load d3/LDAvis\n",
              "   require.config({paths: {d3: \"https://d3js.org/d3.v5\"}});\n",
              "   require([\"d3\"], function(d3){\n",
              "      window.d3 = d3;\n",
              "      LDAvis_load_lib(\"https://cdn.jsdelivr.net/gh/bmabey/pyLDAvis@3.3.1/pyLDAvis/js/ldavis.v3.0.0.js\", function(){\n",
              "        new LDAvis(\"#\" + \"ldavis_el1051397264430294401297461168\", ldavis_el1051397264430294401297461168_data);\n",
              "      });\n",
              "    });\n",
              "}else{\n",
              "    // require.js not available: dynamically load d3 & LDAvis\n",
              "    LDAvis_load_lib(\"https://d3js.org/d3.v5.js\", function(){\n",
              "         LDAvis_load_lib(\"https://cdn.jsdelivr.net/gh/bmabey/pyLDAvis@3.3.1/pyLDAvis/js/ldavis.v3.0.0.js\", function(){\n",
              "                 new LDAvis(\"#\" + \"ldavis_el1051397264430294401297461168\", ldavis_el1051397264430294401297461168_data);\n",
              "            })\n",
              "         });\n",
              "}\n",
              "</script>"
            ]
          },
          "metadata": {},
          "execution_count": 54
        }
      ]
    },
    {
      "cell_type": "markdown",
      "source": [
        "Again, in this model the bubbles are clearly spaced with no overlap.\n",
        "\n",
        "Topic 3 has a dominant token 'village' while token 1 and 2 do not."
      ],
      "metadata": {
        "id": "43Tor_eYkcw0"
      }
    }
  ]
}